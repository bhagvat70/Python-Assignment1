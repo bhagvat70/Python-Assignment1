{
  "nbformat": 4,
  "nbformat_minor": 0,
  "metadata": {
    "colab": {
      "provenance": []
    },
    "kernelspec": {
      "name": "python3",
      "display_name": "Python 3"
    },
    "language_info": {
      "name": "python"
    }
  },
  "cells": [
    {
      "cell_type": "markdown",
      "source": [
        "# Decision Tree\n",
        "1. What is a Decision Tree, and how does it work?\n",
        "  - A Decision Tree is a flowchart-like structure used for decision-making and classification/regression tasks. It splits the dataset into branches based on features to make predictions.\n",
        "    - Root Node: Top decision.\n",
        "    - Internal Nodes: Test on features.\n",
        "    - Leaves: Final output/class.\n",
        "2. What are impurity measures in Decision Trees ?\n",
        "  - Impurity measures show how mixed or \"impure\" the data is in a node. The goal is to split data such that each resulting node is as \"pure\" as possible (i.e., contains mainly one class).\n",
        "    - Common impurity measures:\n",
        "    - Gini Impurity\n",
        "    - Entropy Variance (for regression)\n",
        "3. What is the mathematical formula for Gini Impurity?\n",
        "  - Gini=1−\n",
        "i=1\n",
        "∑\n",
        "C\n",
        "​\n",
        " p\n",
        "i\n",
        "2\n",
        "​\n",
        "\n",
        "4. What is the mathematical formula for Entropy?\n",
        "  - Entropy=−\n",
        "i=1\n",
        "∑\n",
        "C\n",
        "​\n",
        " p\n",
        "i\n",
        "​\n",
        " log\n",
        "2\n",
        "​\n",
        " (p\n",
        "i\n",
        "​\n",
        " )\n",
        "5. What is Information Gain, and how is it used in Decision Trees ?\n",
        "  - Information Gain measures the reduction in impurity after a split.\n",
        "\n",
        "𝐼\n",
        "𝑛\n",
        "𝑓\n",
        "𝑜\n",
        "𝑟\n",
        "𝑚\n",
        "𝑎\n",
        "𝑡\n",
        "𝑖\n",
        "𝑜\n",
        "𝑛\n",
        "\n",
        "𝐺\n",
        "𝑎\n",
        "𝑖\n",
        "𝑛\n",
        "=\n",
        "𝐼\n",
        "𝑚\n",
        "𝑝\n",
        "𝑢\n",
        "𝑟\n",
        "𝑖\n",
        "𝑡\n",
        "𝑦\n",
        "𝑝\n",
        "𝑎\n",
        "𝑟\n",
        "𝑒\n",
        "𝑛\n",
        "𝑡\n",
        "−\n",
        "∑\n",
        "𝑘\n",
        "=\n",
        "1\n",
        "𝐾\n",
        "𝑛\n",
        "𝑘\n",
        "𝑛\n",
        "⋅\n",
        "𝐼\n",
        "𝑚\n",
        "𝑝\n",
        "𝑢\n",
        "𝑟\n",
        "𝑖\n",
        "𝑡\n",
        "𝑦\n",
        "𝑘\n",
        "Information Gain=Impurity\n",
        "parent\n",
        "​\n",
        " −\n",
        "k=1\n",
        "∑\n",
        "K\n",
        "​\n",
        "  \n",
        "n\n",
        "n\n",
        "k\n",
        "​\n",
        "\n",
        "​\n",
        " ⋅\n",
        "6. What is the difference between Gini Impurity and Entropy?\n",
        "  - Gini Impurity\n",
        "    - 1−∑p\n",
        "i\n",
        "2\n",
        "​\n",
        "\n",
        "    - Faster to compute\n",
        "    - Similar decisions in practice\n",
        "  - Entropy\n",
        "    - −∑p\n",
        "i\n",
        "​\n",
        " log\n",
        "2\n",
        "​\n",
        " p\n",
        "i\n",
        "​\n",
        "\n",
        "    - \tSlightly slower\n",
        "    - Sometimes prefers pure splits\n",
        "7. What is the mathematical explanation behind Decision Trees?\n",
        "  - A Decision Tree builds recursively:\n",
        "    - Select a feature that gives maximum Information Gain or minimum impurity\n",
        "    - Split the dataset based on that feature.\n",
        "    - Repeat for each child node until a stopping condition (e.g., pure node or depth limit) is met.\n",
        "\n",
        "\n",
        "8. What is Pre-Pruning in Decision Trees?\n",
        "  - Pre-pruning stops the tree from growing too large before it fully develops, using rules like:\n",
        "    - Max depth\n",
        "    - Min samples per leaf\n",
        "    - Min impurity decrease\n",
        "9. What is Post-Pruning in Decision Trees?\n",
        "  - Post-pruning grows the full tree first, then removes branches that do not improve accuracy (often using a validation set).\n",
        "10. What is the difference between Pre-Pruning and Post-Pruning?\n",
        "  - Pre-Pruning\n",
        "    - During tree building\n",
        "    - Prevent overfitting early\n",
        "    - Underfitting\n",
        "  \n",
        "  - Post-Pruning\n",
        "    - After full tree is built\n",
        "    - Simplify overfit tree\n",
        "    - More accurate but slower\n",
        "\n",
        "\n",
        "11. What is a Decision Tree Regressor?\n",
        "  - It’s a type of Decision Tree used for regression tasks (predicting continuous values). Splits are made to minimize variance (MSE), not classification impurity.\n",
        "12. What are the advantages and disadvantages of Decision Trees?\n",
        "  - Advantages:\n",
        "    - Easy to understand\n",
        "    - Works for classification & regression\n",
        "    - No need for feature scaling\n",
        "    - Can handle both numerical & categorical data\n",
        "  - Disadvantages:\n",
        "    - Prone to overfitting\n",
        "    - Can be unstable (small changes affect structure)\n",
        "    - Biased toward features with more levels\n",
        "13. How does a Decision Tree handle missing values?\n",
        "  - It may ignore missing during split calculations.\n",
        "  - Use surrogate splits (backup rules).\n",
        "  - Some implementations impute missing values before training.\n",
        "14. How does a Decision Tree handle categorical features?\n",
        "  - Splits are made based on category values.\n",
        "  - For example, split on \"Color = Red\", or group categories to reduce impurity\n",
        "  - Some implementations convert categories to one-hot encoding first.\n",
        "15. What are some real-world applications of Decision Trees?\n",
        "  - Medical Diagnosis (disease prediction)\n",
        "  - Credit Scoring (loan approval)\n",
        "  - Marketing (customer segmentation)\n",
        "  - Fraud Detection\n",
        "  - Retail (product recommendation)"
      ],
      "metadata": {
        "id": "DPqR5lISHIdx"
      }
    },
    {
      "cell_type": "code",
      "source": [
        "#16. Write a Python program to train a Decision Tree Classifier on the Iris dataset and print the model accuracy\n",
        "from sklearn.datasets import load_iris\n",
        "from sklearn.tree import DecisionTreeClassifier\n",
        "from sklearn.model_selection import train_test_split\n",
        "from sklearn.metrics import accuracy_score\n",
        "\n",
        "iris = load_iris()\n",
        "X_train, X_test, y_train, y_test = train_test_split(iris.data, iris.target, test_size=0.3, random_state=42)\n",
        "\n",
        "model = DecisionTreeClassifier()\n",
        "model.fit(X_train, y_train)\n",
        "y_pred = model.predict(X_test)\n",
        "\n",
        "print(\"Accuracy:\", accuracy_score(y_test, y_pred))\n"
      ],
      "metadata": {
        "colab": {
          "base_uri": "https://localhost:8080/"
        },
        "id": "MjyBsNyHNDnb",
        "outputId": "05844d2d-f0cc-4a5e-9824-b169ddc79d36"
      },
      "execution_count": 31,
      "outputs": [
        {
          "output_type": "stream",
          "name": "stdout",
          "text": [
            "Accuracy: 1.0\n"
          ]
        }
      ]
    },
    {
      "cell_type": "code",
      "source": [
        "#17. Write a Python program to train a Decision Tree Classifier using Gini Impurity as the criterion and print the feature importances\n",
        "model = DecisionTreeClassifier(criterion='gini')\n",
        "model.fit(X_train, y_train)\n",
        "\n",
        "print(\"Feature Importances:\", model.feature_importances_)\n"
      ],
      "metadata": {
        "colab": {
          "base_uri": "https://localhost:8080/"
        },
        "id": "71a2xuNnNG1y",
        "outputId": "70cfd3c8-33d5-4c3e-88f9-2c24394e80dc"
      },
      "execution_count": 32,
      "outputs": [
        {
          "output_type": "stream",
          "name": "stdout",
          "text": [
            "Feature Importances: [0.01911002 0.         0.89326355 0.08762643]\n"
          ]
        }
      ]
    },
    {
      "cell_type": "code",
      "source": [
        "#18. Write a Python program to train a Decision Tree Classifier using Entropy as the splitting criterion and print the model accuracy\n",
        "model = DecisionTreeClassifier(criterion='entropy')\n",
        "model.fit(X_train, y_train)\n",
        "y_pred = model.predict(X_test)\n",
        "\n",
        "print(\"Accuracy (Entropy):\", accuracy_score(y_test, y_pred))\n"
      ],
      "metadata": {
        "colab": {
          "base_uri": "https://localhost:8080/"
        },
        "id": "EH5BBOqTNHXr",
        "outputId": "17762348-e3a0-457a-8eef-6c241989bed1"
      },
      "execution_count": 33,
      "outputs": [
        {
          "output_type": "stream",
          "name": "stdout",
          "text": [
            "Accuracy (Entropy): 1.0\n"
          ]
        }
      ]
    },
    {
      "cell_type": "code",
      "source": [
        "#19. Write a Python program to train a Decision Tree Regressor on a housing dataset and evaluate using Mean Squared Error (MSE)\n",
        "from sklearn.datasets import fetch_california_housing\n",
        "from sklearn.tree import DecisionTreeRegressor\n",
        "from sklearn.metrics import mean_squared_error\n",
        "\n",
        "housing = fetch_california_housing()\n",
        "X_train, X_test, y_train, y_test = train_test_split(housing.data, housing.target, test_size=0.3, random_state=42)\n",
        "\n",
        "regressor = DecisionTreeRegressor()\n",
        "regressor.fit(X_train, y_train)\n",
        "y_pred = regressor.predict(X_test)\n",
        "\n",
        "print(\"MSE:\", mean_squared_error(y_test, y_pred))\n"
      ],
      "metadata": {
        "colab": {
          "base_uri": "https://localhost:8080/"
        },
        "id": "Iunj_3jTNJiK",
        "outputId": "2d16e2ab-fc7a-430d-97ff-4a6d89c7efc3"
      },
      "execution_count": 34,
      "outputs": [
        {
          "output_type": "stream",
          "name": "stdout",
          "text": [
            "MSE: 0.5188407870067182\n"
          ]
        }
      ]
    },
    {
      "cell_type": "code",
      "source": [
        "#20. Write a Python program to train a Decision Tree Classifier and visualize the tree using graphviz\n",
        "from sklearn.datasets import load_iris\n",
        "from sklearn.tree import DecisionTreeClassifier, export_graphviz\n",
        "import graphviz\n",
        "from sklearn.model_selection import train_test_split\n",
        "\n",
        "# 1. Load Iris and split\n",
        "iris = load_iris()\n",
        "X, y = iris.data, iris.target\n",
        "X_train, X_test, y_train, y_test = train_test_split(\n",
        "    X, y, test_size=0.3, random_state=42\n",
        ")\n",
        "\n",
        "# 2. Train the Decision Tree classifier\n",
        "model = DecisionTreeClassifier()\n",
        "model.fit(X_train, y_train)\n",
        "\n",
        "# 3. Export to Graphviz format\n",
        "dot_data = export_graphviz(\n",
        "    model,\n",
        "    out_file=None,\n",
        "    feature_names=iris.feature_names,\n",
        "    class_names=iris.target_names,\n",
        "    filled=True,\n",
        "    rounded=True\n",
        ")\n",
        "\n",
        "# 4. Render and save as PNG\n",
        "graph = graphviz.Source(dot_data)\n",
        "graph.render(\"iris_tree\", format='png', cleanup=True)\n",
        "print(\"Tree visual saved as 'iris_tree.png'.\")\n",
        "\n"
      ],
      "metadata": {
        "colab": {
          "base_uri": "https://localhost:8080/"
        },
        "id": "NBlCaVahNKCt",
        "outputId": "7390d62e-be8d-4d38-a6a6-1569ca561159"
      },
      "execution_count": 47,
      "outputs": [
        {
          "output_type": "stream",
          "name": "stdout",
          "text": [
            "Tree visual saved as 'iris_tree.png'.\n"
          ]
        }
      ]
    },
    {
      "cell_type": "code",
      "source": [
        "#21. Write a Python program to train a Decision Tree Classifier with a maximum depth of 3 and compare its accuracy with a fully grown tree\n",
        "from sklearn.datasets import load_iris\n",
        "from sklearn.tree import DecisionTreeClassifier\n",
        "from sklearn.model_selection import train_test_split\n",
        "from sklearn.metrics import accuracy_score\n",
        "\n",
        "# 1. Load Iris and split into train/test (class labels 0,1,2)\n",
        "iris = load_iris()\n",
        "X_train, X_test, y_train, y_test = train_test_split(\n",
        "    iris.data, iris.target, test_size=0.3, random_state=42\n",
        ")\n",
        "\n",
        "# 2. Train a fully grown tree\n",
        "tree_full = DecisionTreeClassifier()\n",
        "tree_full.fit(X_train, y_train)\n",
        "\n",
        "# 3. Train a tree with max_depth=3\n",
        "tree_limited = DecisionTreeClassifier(max_depth=3)\n",
        "tree_limited.fit(X_train, y_train)\n",
        "\n",
        "# 4. Compare accuracies\n",
        "full_acc    = accuracy_score(y_test, tree_full.predict(X_test))\n",
        "limited_acc = accuracy_score(y_test, tree_limited.predict(X_test))\n",
        "\n",
        "print(f\"Full Tree Accuracy:    {full_acc:.3f}\")\n",
        "print(f\"Depth=3 Tree Accuracy: {limited_acc:.3f}\")"
      ],
      "metadata": {
        "colab": {
          "base_uri": "https://localhost:8080/"
        },
        "id": "tBeSxW_UNKbx",
        "outputId": "887c1f8f-7b2c-4c43-c8f8-807918d7ca3c"
      },
      "execution_count": 48,
      "outputs": [
        {
          "output_type": "stream",
          "name": "stdout",
          "text": [
            "Full Tree Accuracy:    1.000\n",
            "Depth=3 Tree Accuracy: 1.000\n"
          ]
        }
      ]
    },
    {
      "cell_type": "code",
      "source": [
        "#22. Write a Python program to train a Decision Tree Classifier using min_samples_split=5 and compare its accuracy with a default tree\n",
        "from sklearn.datasets import load_iris\n",
        "from sklearn.tree import DecisionTreeClassifier\n",
        "from sklearn.model_selection import train_test_split\n",
        "from sklearn.metrics import accuracy_score\n",
        "\n",
        "# 1. Load Iris and split (classes 0,1,2)\n",
        "iris = load_iris()\n",
        "X_train, X_test, y_train, y_test = train_test_split(\n",
        "    iris.data, iris.target, test_size=0.3, random_state=42\n",
        ")\n",
        "\n",
        "# 2. Train default and min_samples_split=5 trees\n",
        "default_tree = DecisionTreeClassifier()\n",
        "split_tree   = DecisionTreeClassifier(min_samples_split=5)\n",
        "\n",
        "default_tree.fit(X_train, y_train)\n",
        "split_tree.fit(X_train, y_train)\n",
        "\n",
        "# 3. Compute and compare accuracies\n",
        "acc_default = accuracy_score(y_test, default_tree.predict(X_test))\n",
        "acc_split   = accuracy_score(y_test, split_tree.predict(X_test))\n",
        "\n",
        "print(f\"Default Tree Accuracy:        {acc_default:.3f}\")\n",
        "print(f\"min_samples_split=5 Accuracy: {acc_split:.3f}\")\n",
        "\n",
        "\n"
      ],
      "metadata": {
        "colab": {
          "base_uri": "https://localhost:8080/"
        },
        "id": "j5KQaMCLNKt_",
        "outputId": "b2f66e26-67cc-4cd4-c2e9-7edb86b970ab"
      },
      "execution_count": 49,
      "outputs": [
        {
          "output_type": "stream",
          "name": "stdout",
          "text": [
            "Default Tree Accuracy:        1.000\n",
            "min_samples_split=5 Accuracy: 1.000\n"
          ]
        }
      ]
    },
    {
      "cell_type": "code",
      "source": [
        "# 23. Write a Python program to apply feature scaling before training a Decision Tree Classifier and compare its accuracy with unscaled data\n",
        "from sklearn.datasets import load_iris\n",
        "from sklearn.model_selection import train_test_split\n",
        "from sklearn.preprocessing import StandardScaler\n",
        "from sklearn.tree import DecisionTreeClassifier\n",
        "from sklearn.metrics import accuracy_score\n",
        "\n",
        "# 1. Load Iris and split into train/test (discrete class labels)\n",
        "iris = load_iris()\n",
        "X, y = iris.data, iris.target\n",
        "X_train, X_test, y_train, y_test = train_test_split(\n",
        "    X, y, test_size=0.3, random_state=42\n",
        ")\n",
        "\n",
        "# 2. Train on unscaled data\n",
        "unscaled_model = DecisionTreeClassifier()\n",
        "unscaled_model.fit(X_train, y_train)\n",
        "y_pred_unscaled = unscaled_model.predict(X_test)\n",
        "acc_unscaled = accuracy_score(y_test, y_pred_unscaled)\n",
        "\n",
        "# 3. Scale features (fit scaler on train only, then transform both)\n",
        "scaler = StandardScaler()\n",
        "X_train_s = scaler.fit_transform(X_train)\n",
        "X_test_s  = scaler.transform(X_test)\n",
        "\n",
        "# 4. Train on scaled data\n",
        "scaled_model = DecisionTreeClassifier()\n",
        "scaled_model.fit(X_train_s, y_train)\n",
        "y_pred_scaled = scaled_model.predict(X_test_s)\n",
        "acc_scaled = accuracy_score(y_test, y_pred_scaled)\n",
        "\n",
        "# 5. Print comparison\n",
        "print(f\"Unscaled Accuracy: {acc_unscaled:.3f}\")\n",
        "print(f\"Scaled Accuracy:   {acc_scaled:.3f}\")\n",
        "\n"
      ],
      "metadata": {
        "colab": {
          "base_uri": "https://localhost:8080/"
        },
        "id": "gcpn8U0FNLAB",
        "outputId": "07a421c8-d106-48d0-f1e4-ebc112a031b1"
      },
      "execution_count": 50,
      "outputs": [
        {
          "output_type": "stream",
          "name": "stdout",
          "text": [
            "Unscaled Accuracy: 1.000\n",
            "Scaled Accuracy:   1.000\n"
          ]
        }
      ]
    },
    {
      "cell_type": "code",
      "source": [
        "#24. Write a Python program to train a Decision Tree Classifier using One-vs-Rest (OvR) strategy for multiclass classification\n",
        "from sklearn.datasets import load_iris\n",
        "from sklearn.model_selection import train_test_split\n",
        "from sklearn.tree import DecisionTreeClassifier\n",
        "from sklearn.multiclass import OneVsRestClassifier\n",
        "from sklearn.metrics import accuracy_score\n",
        "\n",
        "# 1. Load Iris and split so y is discrete species labels\n",
        "iris = load_iris()\n",
        "X_train, X_test, y_train, y_test = train_test_split(\n",
        "    iris.data, iris.target, test_size=0.3, random_state=42\n",
        ")\n",
        "\n",
        "# 2. Wrap DecisionTree in a One-vs-Rest meta-estimator\n",
        "ovr_model = OneVsRestClassifier(DecisionTreeClassifier())\n",
        "\n",
        "# 3. Train and predict\n",
        "ovr_model.fit(X_train, y_train)\n",
        "y_pred = ovr_model.predict(X_test)\n",
        "\n",
        "# 4. Evaluate\n",
        "print(\"OvR Accuracy:\", accuracy_score(y_test, y_pred))\n",
        "\n"
      ],
      "metadata": {
        "colab": {
          "base_uri": "https://localhost:8080/"
        },
        "id": "6iuMnTMANLWs",
        "outputId": "ac9b49ab-fd85-4162-cbcb-3d4c23a79dd2"
      },
      "execution_count": 51,
      "outputs": [
        {
          "output_type": "stream",
          "name": "stdout",
          "text": [
            "OvR Accuracy: 1.0\n"
          ]
        }
      ]
    },
    {
      "cell_type": "code",
      "source": [
        "#25.Write a Python program to train a Decision Tree Classifier and display the feature importance scores\n",
        "model = DecisionTreeClassifier()\n",
        "model.fit(X_train, y_train)\n",
        "\n",
        "for name, importance in zip(iris.feature_names, model.feature_importances_):\n",
        "    print(f\"{name}: {importance:.2f}\")\n"
      ],
      "metadata": {
        "colab": {
          "base_uri": "https://localhost:8080/",
          "height": 356
        },
        "id": "PwOce1ojNLrK",
        "outputId": "a7f31fd1-3f61-497b-aad7-96f7ee17bb10"
      },
      "execution_count": 41,
      "outputs": [
        {
          "output_type": "error",
          "ename": "ValueError",
          "evalue": "Unknown label type: continuous. Maybe you are trying to fit a classifier, which expects discrete classes on a regression target with continuous values.",
          "traceback": [
            "\u001b[0;31m---------------------------------------------------------------------------\u001b[0m",
            "\u001b[0;31mValueError\u001b[0m                                Traceback (most recent call last)",
            "\u001b[0;32m<ipython-input-41-ed5426c9389f>\u001b[0m in \u001b[0;36m<cell line: 0>\u001b[0;34m()\u001b[0m\n\u001b[1;32m      1\u001b[0m \u001b[0;31m#25.Write a Python program to train a Decision Tree Classifier and display the feature importance scores\u001b[0m\u001b[0;34m\u001b[0m\u001b[0;34m\u001b[0m\u001b[0m\n\u001b[1;32m      2\u001b[0m \u001b[0mmodel\u001b[0m \u001b[0;34m=\u001b[0m \u001b[0mDecisionTreeClassifier\u001b[0m\u001b[0;34m(\u001b[0m\u001b[0;34m)\u001b[0m\u001b[0;34m\u001b[0m\u001b[0;34m\u001b[0m\u001b[0m\n\u001b[0;32m----> 3\u001b[0;31m \u001b[0mmodel\u001b[0m\u001b[0;34m.\u001b[0m\u001b[0mfit\u001b[0m\u001b[0;34m(\u001b[0m\u001b[0mX_train\u001b[0m\u001b[0;34m,\u001b[0m \u001b[0my_train\u001b[0m\u001b[0;34m)\u001b[0m\u001b[0;34m\u001b[0m\u001b[0;34m\u001b[0m\u001b[0m\n\u001b[0m\u001b[1;32m      4\u001b[0m \u001b[0;34m\u001b[0m\u001b[0m\n\u001b[1;32m      5\u001b[0m \u001b[0;32mfor\u001b[0m \u001b[0mname\u001b[0m\u001b[0;34m,\u001b[0m \u001b[0mimportance\u001b[0m \u001b[0;32min\u001b[0m \u001b[0mzip\u001b[0m\u001b[0;34m(\u001b[0m\u001b[0miris\u001b[0m\u001b[0;34m.\u001b[0m\u001b[0mfeature_names\u001b[0m\u001b[0;34m,\u001b[0m \u001b[0mmodel\u001b[0m\u001b[0;34m.\u001b[0m\u001b[0mfeature_importances_\u001b[0m\u001b[0;34m)\u001b[0m\u001b[0;34m:\u001b[0m\u001b[0;34m\u001b[0m\u001b[0;34m\u001b[0m\u001b[0m\n",
            "\u001b[0;32m/usr/local/lib/python3.11/dist-packages/sklearn/base.py\u001b[0m in \u001b[0;36mwrapper\u001b[0;34m(estimator, *args, **kwargs)\u001b[0m\n\u001b[1;32m   1387\u001b[0m                 )\n\u001b[1;32m   1388\u001b[0m             ):\n\u001b[0;32m-> 1389\u001b[0;31m                 \u001b[0;32mreturn\u001b[0m \u001b[0mfit_method\u001b[0m\u001b[0;34m(\u001b[0m\u001b[0mestimator\u001b[0m\u001b[0;34m,\u001b[0m \u001b[0;34m*\u001b[0m\u001b[0margs\u001b[0m\u001b[0;34m,\u001b[0m \u001b[0;34m**\u001b[0m\u001b[0mkwargs\u001b[0m\u001b[0;34m)\u001b[0m\u001b[0;34m\u001b[0m\u001b[0;34m\u001b[0m\u001b[0m\n\u001b[0m\u001b[1;32m   1390\u001b[0m \u001b[0;34m\u001b[0m\u001b[0m\n\u001b[1;32m   1391\u001b[0m         \u001b[0;32mreturn\u001b[0m \u001b[0mwrapper\u001b[0m\u001b[0;34m\u001b[0m\u001b[0;34m\u001b[0m\u001b[0m\n",
            "\u001b[0;32m/usr/local/lib/python3.11/dist-packages/sklearn/tree/_classes.py\u001b[0m in \u001b[0;36mfit\u001b[0;34m(self, X, y, sample_weight, check_input)\u001b[0m\n\u001b[1;32m   1022\u001b[0m         \"\"\"\n\u001b[1;32m   1023\u001b[0m \u001b[0;34m\u001b[0m\u001b[0m\n\u001b[0;32m-> 1024\u001b[0;31m         super()._fit(\n\u001b[0m\u001b[1;32m   1025\u001b[0m             \u001b[0mX\u001b[0m\u001b[0;34m,\u001b[0m\u001b[0;34m\u001b[0m\u001b[0;34m\u001b[0m\u001b[0m\n\u001b[1;32m   1026\u001b[0m             \u001b[0my\u001b[0m\u001b[0;34m,\u001b[0m\u001b[0;34m\u001b[0m\u001b[0;34m\u001b[0m\u001b[0m\n",
            "\u001b[0;32m/usr/local/lib/python3.11/dist-packages/sklearn/tree/_classes.py\u001b[0m in \u001b[0;36m_fit\u001b[0;34m(self, X, y, sample_weight, check_input, missing_values_in_feature_mask)\u001b[0m\n\u001b[1;32m    292\u001b[0m \u001b[0;34m\u001b[0m\u001b[0m\n\u001b[1;32m    293\u001b[0m         \u001b[0;32mif\u001b[0m \u001b[0mis_classification\u001b[0m\u001b[0;34m:\u001b[0m\u001b[0;34m\u001b[0m\u001b[0;34m\u001b[0m\u001b[0m\n\u001b[0;32m--> 294\u001b[0;31m             \u001b[0mcheck_classification_targets\u001b[0m\u001b[0;34m(\u001b[0m\u001b[0my\u001b[0m\u001b[0;34m)\u001b[0m\u001b[0;34m\u001b[0m\u001b[0;34m\u001b[0m\u001b[0m\n\u001b[0m\u001b[1;32m    295\u001b[0m             \u001b[0my\u001b[0m \u001b[0;34m=\u001b[0m \u001b[0mnp\u001b[0m\u001b[0;34m.\u001b[0m\u001b[0mcopy\u001b[0m\u001b[0;34m(\u001b[0m\u001b[0my\u001b[0m\u001b[0;34m)\u001b[0m\u001b[0;34m\u001b[0m\u001b[0;34m\u001b[0m\u001b[0m\n\u001b[1;32m    296\u001b[0m \u001b[0;34m\u001b[0m\u001b[0m\n",
            "\u001b[0;32m/usr/local/lib/python3.11/dist-packages/sklearn/utils/multiclass.py\u001b[0m in \u001b[0;36mcheck_classification_targets\u001b[0;34m(y)\u001b[0m\n\u001b[1;32m    220\u001b[0m         \u001b[0;34m\"multilabel-sequences\"\u001b[0m\u001b[0;34m,\u001b[0m\u001b[0;34m\u001b[0m\u001b[0;34m\u001b[0m\u001b[0m\n\u001b[1;32m    221\u001b[0m     ]:\n\u001b[0;32m--> 222\u001b[0;31m         raise ValueError(\n\u001b[0m\u001b[1;32m    223\u001b[0m             \u001b[0;34mf\"Unknown label type: {y_type}. Maybe you are trying to fit a \"\u001b[0m\u001b[0;34m\u001b[0m\u001b[0;34m\u001b[0m\u001b[0m\n\u001b[1;32m    224\u001b[0m             \u001b[0;34m\"classifier, which expects discrete classes on a \"\u001b[0m\u001b[0;34m\u001b[0m\u001b[0;34m\u001b[0m\u001b[0m\n",
            "\u001b[0;31mValueError\u001b[0m: Unknown label type: continuous. Maybe you are trying to fit a classifier, which expects discrete classes on a regression target with continuous values."
          ]
        }
      ]
    },
    {
      "cell_type": "code",
      "source": [
        "#26.Write a Python program to train a Decision Tree Regressor with max_depth=5 and compare its performance with an unrestricted tree\n",
        "from sklearn.datasets import load_iris\n",
        "from sklearn.model_selection import train_test_split\n",
        "from sklearn.tree import DecisionTreeClassifier\n",
        "\n",
        "# 1. Load Iris and split into train/test (discrete class labels)\n",
        "iris = load_iris()\n",
        "X_train, X_test, y_train, y_test = train_test_split(\n",
        "    iris.data, iris.target, test_size=0.3, random_state=42\n",
        ")\n",
        "\n",
        "# 2. Train the Decision Tree classifier\n",
        "model = DecisionTreeClassifier()\n",
        "model.fit(X_train, y_train)\n",
        "\n",
        "# 3. Display feature importances\n",
        "for name, importance in zip(iris.feature_names, model.feature_importances_):\n",
        "    print(f\"{name}: {importance:.4f}\")"
      ],
      "metadata": {
        "colab": {
          "base_uri": "https://localhost:8080/"
        },
        "id": "NaVcaYejNL-x",
        "outputId": "5d3ea569-f72f-4d7f-dac5-331d9ce2999a"
      },
      "execution_count": 52,
      "outputs": [
        {
          "output_type": "stream",
          "name": "stdout",
          "text": [
            "sepal length (cm): 0.0000\n",
            "sepal width (cm): 0.0191\n",
            "petal length (cm): 0.8933\n",
            "petal width (cm): 0.0876\n"
          ]
        }
      ]
    },
    {
      "cell_type": "code",
      "source": [
        "#27.Write a Python program to train a Decision Tree Classifier, apply Cost Complexity Pruning (CCP), and visualize its effect on accuracy\n",
        "from sklearn.datasets import load_iris\n",
        "from sklearn.model_selection import train_test_split\n",
        "from sklearn.tree import DecisionTreeClassifier\n",
        "from sklearn.metrics import accuracy_score\n",
        "import matplotlib.pyplot as plt\n",
        "\n",
        "# 1. Load and split Iris (discrete labels)\n",
        "iris = load_iris()\n",
        "X_train, X_test, y_train, y_test = train_test_split(\n",
        "    iris.data, iris.target, test_size=0.3, random_state=42\n",
        ")\n",
        "\n",
        "# 2. Fit initial tree and get pruning path\n",
        "clf = DecisionTreeClassifier(random_state=42)\n",
        "clf.fit(X_train, y_train)\n",
        "\n",
        "path = clf.cost_complexity_pruning_path(X_train, y_train)\n",
        "ccp_alphas, impurities = path.ccp_alphas, path.impurities\n",
        "\n",
        "# 3. For each alpha, train pruned tree and record accuracy\n",
        "train_acc = []\n",
        "test_acc  = []\n",
        "\n",
        "for ccp in ccp_alphas:\n",
        "    pruned = DecisionTreeClassifier(random_state=42, ccp_alpha=ccp)\n",
        "    pruned.fit(X_train, y_train)\n",
        "    train_acc.append(accuracy_score(y_train, pruned.predict(X_train)))\n",
        "    test_acc.append( accuracy_score(y_test,  pruned.predict(X_test)) )\n",
        "\n",
        "# 4. Plot accuracy vs alpha\n",
        "plt.figure(figsize=(8, 4))\n",
        "plt.plot(ccp_alphas, train_acc, marker='o', label='Train Accuracy')\n",
        "plt.plot(ccp_alphas, test_acc,  marker='o', label='Test Accuracy')\n",
        "plt.xlabel(\"ccp_alpha\")\n",
        "plt.ylabel(\"Accuracy\")\n",
        "plt.title(\"Effect of Cost Complexity Pruning on Accuracy\")\n",
        "plt.legend()\n",
        "plt.grid(True)\n",
        "plt.show()\n",
        "\n"
      ],
      "metadata": {
        "colab": {
          "base_uri": "https://localhost:8080/",
          "height": 410
        },
        "id": "t7rvB3oXNOQR",
        "outputId": "b4bf189a-ba74-4c55-f2ea-cf91492d046c"
      },
      "execution_count": 53,
      "outputs": [
        {
          "output_type": "display_data",
          "data": {
            "text/plain": [
              "<Figure size 800x400 with 1 Axes>"
            ],
            "image/png": "[encoded data removed]"
          },
          "metadata": {}
        }
      ]
    },
    {
      "cell_type": "code",
      "source": [
        "#28.Write a Python program to train a Decision Tree Classifier and evaluate its performance using Precision, Recall, and F1-Score\n",
        "from sklearn.datasets import load_iris\n",
        "from sklearn.model_selection import train_test_split\n",
        "from sklearn.tree import DecisionTreeClassifier\n",
        "from sklearn.metrics import precision_score, recall_score, f1_score\n",
        "\n",
        "# 1. Load Iris and split into train/test (discrete class labels)\n",
        "iris = load_iris()\n",
        "X_train, X_test, y_train, y_test = train_test_split(\n",
        "    iris.data, iris.target, test_size=0.3, random_state=42\n",
        ")\n",
        "\n",
        "# 2. Train Decision Tree classifier\n",
        "model = DecisionTreeClassifier(random_state=42)\n",
        "model.fit(X_train, y_train)\n",
        "\n",
        "# 3. Predict on test set\n",
        "y_pred = model.predict(X_test)\n",
        "\n",
        "# 4. Evaluate with precision, recall, and F1-score (macro-averaged)\n",
        "print(\"Precision (macro):\", precision_score(y_test, y_pred, average='macro'))\n",
        "print(\"Recall    (macro):\", recall_score(y_test, y_pred, average='macro'))\n",
        "print(\"F1 Score  (macro):\", f1_score(y_test, y_pred, average='macro'))\n",
        "\n"
      ],
      "metadata": {
        "colab": {
          "base_uri": "https://localhost:8080/"
        },
        "id": "OCYbfJn0NO40",
        "outputId": "5737aa83-e179-4d81-c9cd-d10af5f07a30"
      },
      "execution_count": 55,
      "outputs": [
        {
          "output_type": "stream",
          "name": "stdout",
          "text": [
            "Precision (macro): 1.0\n",
            "Recall    (macro): 1.0\n",
            "F1 Score  (macro): 1.0\n"
          ]
        }
      ]
    },
    {
      "cell_type": "code",
      "source": [
        "#29.Write a Python program to train a Decision Tree Classifier and visualize the confusion matrix using seaborn\n",
        "from sklearn.datasets import load_iris\n",
        "from sklearn.model_selection import train_test_split\n",
        "from sklearn.tree import DecisionTreeClassifier\n",
        "from sklearn.metrics import confusion_matrix\n",
        "import seaborn as sns\n",
        "import matplotlib.pyplot as plt\n",
        "\n",
        "# 1. Load Iris and split into train/test\n",
        "iris = load_iris()\n",
        "X_train, X_test, y_train, y_test = train_test_split(\n",
        "    iris.data, iris.target, test_size=0.3, random_state=42\n",
        ")\n",
        "\n",
        "# 2. Train the Decision Tree classifier\n",
        "model = DecisionTreeClassifier(random_state=42)\n",
        "model.fit(X_train, y_train)\n",
        "\n",
        "# 3. Predict on the test set\n",
        "y_pred = model.predict(X_test)\n",
        "\n",
        "# 4. Compute the confusion matrix\n",
        "cm = confusion_matrix(y_test, y_pred)\n",
        "\n",
        "# 5. Plot with seaborn\n",
        "plt.figure(figsize=(6, 5))\n",
        "sns.heatmap(\n",
        "    cm,\n",
        "    annot=True,\n",
        "    fmt='d',\n",
        "    cmap='Blues',\n",
        "    xticklabels=iris.target_names,\n",
        "    yticklabels=iris.target_names\n",
        ")\n",
        "plt.xlabel(\"Predicted Label\")\n",
        "plt.ylabel(\"True Label\")\n",
        "plt.title(\"Confusion Matrix: Decision Tree on Iris\")\n",
        "plt.tight_layout()\n",
        "plt.show()\n"
      ],
      "metadata": {
        "colab": {
          "base_uri": "https://localhost:8080/",
          "height": 507
        },
        "id": "R8_-IrxyNPM6",
        "outputId": "291a0a0c-6352-45b7-a58a-1b51b3c69bc8"
      },
      "execution_count": 56,
      "outputs": [
        {
          "output_type": "display_data",
          "data": {
            "text/plain": [
              "<Figure size 600x500 with 2 Axes>"
            ],
            "image/png": "[encoded data removed]"
          },
          "metadata": {}
        }
      ]
    },
    {
      "cell_type": "code",
      "source": [
        "#30.Write a Python program to train a Decision Tree Classifier and use GridSearchCV to find the optimal values for max_depth and min_samples_split.\n",
        "from sklearn.datasets import load_iris\n",
        "from sklearn.model_selection import train_test_split, GridSearchCV\n",
        "from sklearn.tree import DecisionTreeClassifier\n",
        "\n",
        "# 1. Load Iris and split into train/test (discrete class labels)\n",
        "iris = load_iris()\n",
        "X_train, X_test, y_train, y_test = train_test_split(\n",
        "    iris.data, iris.target, test_size=0.3, random_state=42\n",
        ")\n",
        "\n",
        "# 2. Define parameter grid\n",
        "param_grid = {\n",
        "    'max_depth': [2, 3, 4, 5, None],\n",
        "    'min_samples_split': [2, 5, 10]\n",
        "}\n",
        "\n",
        "# 3. Initialize GridSearchCV\n",
        "grid_search = GridSearchCV(\n",
        "    DecisionTreeClassifier(random_state=42),\n",
        "    param_grid,\n",
        "    cv=5,               # 5-fold CV\n",
        "    scoring='accuracy'  # optimize for accuracy\n",
        ")\n",
        "\n",
        "# 4. Fit on the training data\n",
        "grid_search.fit(X_train, y_train)\n",
        "\n",
        "# 5. Output best parameters and best cross-val accuracy\n",
        "print(\"Best Parameters:\", grid_search.best_params_)\n",
        "print(\"Best Cross-Val Accuracy: {:.3f}\".format(grid_search.best_score_))\n"
      ],
      "metadata": {
        "colab": {
          "base_uri": "https://localhost:8080/"
        },
        "id": "SaD57uXbNPlq",
        "outputId": "46511d66-0106-4223-bd3c-f728438f9dd3"
      },
      "execution_count": 57,
      "outputs": [
        {
          "output_type": "stream",
          "name": "stdout",
          "text": [
            "Best Parameters: {'max_depth': 4, 'min_samples_split': 10}\n",
            "Best Cross-Val Accuracy: 0.943\n"
          ]
        }
      ]
    }
  ]
}