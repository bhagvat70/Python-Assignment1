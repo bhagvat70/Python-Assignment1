{
  "nbformat": 4,
  "nbformat_minor": 0,
  "metadata": {
    "colab": {
      "provenance": []
    },
    "kernelspec": {
      "name": "python3",
      "display_name": "Python 3"
    },
    "language_info": {
      "name": "python"
    }
  },
  "cells": [
    {
      "cell_type": "markdown",
      "source": [
        "# Files, exceptional handling, logging and memory management Questions\n",
        "\n",
        "1. What is the difference between interpreted and compiled languages ?\n",
        "  - Interpreted Languages\n",
        "      - Execution: Code is executed line by line by an interpreter.\n",
        "      - Speed: Slower because execution happens at runtime.\n",
        "      - Error Handling: Stops execution at the first error.\n",
        "      - Portability: More portable since the interpreter runs on different platforms.\n",
        "      - Examples: Python, JavaScript, PHP, Ruby.\n",
        "  - Compiled Languages\n",
        "      - Execution: Code is converted into machine code before execution.\n",
        "      - Speed: Faster since it runs as native machine code.\n",
        "      - Error Handling: All errors must be fixed before execution.\n",
        "      - Portability: Less portable; needs recompilation for different platforms.\n",
        "      - Examples: C, C++, Java (compiles to bytecode), Go.\n",
        "2. What is exception handling in Python ?\n",
        "  - Exception handling in Python is a way to handle runtime errors (exceptions) gracefully without crashing the program.\n",
        "3. What is the purpose of the finally block in exception handling ?\n",
        "   - The finally block is used to execute code regardless of whether an exception occurs or not. It ensures that necessary cleanup operations, like closing files or releasing resources, are always performed.\n",
        "4. What is logging in Python?\n",
        "  - Logging in Python is used to record events, errors, and other information about a program’s execution. It helps in debugging and monitoring applications.\n",
        "5. What is the significance of the __del__ method in Python?\n",
        "  - The __del__ method is a destructor in Python. It is called when an object is about to be destroyed (garbage collected). This method is useful for cleaning up resources like closing files, releasing memory, or disconnecting from databases.\n",
        "6. What is the difference between import and from ... import in Python ?\n",
        "  - import module :\n",
        "    - Usage : Imports the entire module\n",
        "    - Access : Access using module.name\n",
        "    - Memory Usage : Loads the entire module\n",
        "    - Namespace Pollution : Avoids conflicts (module is a separate namespace)\n",
        "    - Readability : Clear where functions come from\n",
        "  - from module import name :\n",
        "    - Usage : Imports specific items (functions, classes, variables)\n",
        "    - Access : Direct access to imported names\n",
        "    - Memory Usage : Loads only selected names, using less memory\n",
        "    - Namespace Pollution : Risk of name conflicts in the global namespace\n",
        "    - Readability : Shorter but may reduce clarity.\n",
        "7. How can you handle multiple exceptions in Python?\n",
        "  - Python provides several ways to handle multiple exceptions in a try-except block.\n",
        "    - Using Multiple except Blocks\n",
        "    - Using a Single except with Multiple Exceptions\n",
        "    - Using a Generic except Block\n",
        "    - Using finally for Cleanup\n",
        "8. What is the purpose of the with statement when handling files in Python?\n",
        "  - The with statement is used when working with files to ensure proper resource management. It automatically closes the file once the block of code is executed, even if an exception occurs.\n",
        "9. What is the difference between multithreading and multiprocessing?\n",
        "  - Multithreading :\n",
        "     - Definition : Running multiple threads within the same process.\n",
        "     - Memory Usage : Threads share the same memory space.\n",
        "     - Performance : Best for I/O-bound tasks (file operations, network requests).\n",
        "     - Concurrency : Multiple threads run concurrently but share CPU time.\n",
        "     - Example Use : Web scraping, GUI applications, I/O-heavy tasks.\n",
        "  -Multiprocessing :\n",
        "     - Definition : Running multiple processes, each with its own memory space.\n",
        "     - Memory Usage : Each process has its own separate memory.\n",
        "     - Performance : Best for CPU-bound tasks (heavy computations, data processing).\n",
        "     - Concurrency : True parallel execution if multiple CPU cores are available.\n",
        "     - Example Use :\tImage processing, large computations, machine learning.\n",
        "10. What are the advantages of using logging in a program ?\n",
        "  - Debugging & Error Tracking\n",
        "  - Program Monitoring\n",
        "  - Flexible Log Levels\n",
        "  - Improves Code Readability & Maintenance\n",
        "  - Avoids Using Print Statements\n",
        "  - Supports File Logging & Remote Monitoring\n",
        "11. What is memory management in Python?\n",
        "  - Memory management in Python involves allocating and deallocating memory for objects and data structures during the execution of a program. Python uses automatic memory management, meaning the developer doesn't have to manually allocate or free memory.\n",
        "12. What are the basic steps involved in exception handling in Python ?\n",
        "  - Python's exception handling mechanism involves the use of try, except, else, and finally blocks.\n",
        "13. Why is memory management important in Python ?\n",
        "  - Efficient Resource Utilization.\n",
        "  - Automatic Garbage Collection.\n",
        "  - Memory Pooling & Object Reuse.\n",
        "  - Avoiding Memory Leaks.\n",
        "  - Improving Performance.\n",
        "  - Handling Large Data Efficiently.\n",
        "  - Avoiding System Resource Exhaustion.\n",
        "14. What is the role of try and except in exception handling?\n",
        "  - In Python, the try and except blocks play a key role in handling exceptions (runtime errors) gracefully, allowing the program to continue execution rather than crashing when an error occurs.\n",
        "15. How does Python's garbage collection system work?\n",
        "  - Python uses an automatic memory management system that includes garbage collection. This system is designed to reclaim memory by removing unused objects and preventing memory leaks. It relies on a combination of reference counting and cyclic garbage collection to manage memory efficiently.\n",
        "16. What is the purpose of the else block in exception handling ?\n",
        "  - In Python's exception handling mechanism, the else block is used to specify a set of code that should execute only if no exception occurs in the try block.\n",
        "17. What are the common logging levels in Python ?\n",
        "  - DEBUG: Detailed debug information.\n",
        "  - INFO: General information about application flow.\n",
        "  - WARNING: Indications of potential problems.\n",
        "  - ERROR: Serious issues that prevent some part of the program from working.\n",
        "  - CRITICAL: Critical issues that typically lead to program termination.\n",
        "18. What is the difference between os.fork() and multiprocessing in Python ?\n",
        "  -\tos.fork() :\n",
        "    - Platform : Unix-like systems only (Linux, macOS)\n",
        "    - Process Creation : Creates a copy of the current process (parent/child)\n",
        "    - Memory Sharing : Child process initially shares memory with the parent (Copy-on-Write)\n",
        "    - Inter-Process Communication : Requires manual handling (e.g., pipes, shared memory)\n",
        "    - Ease of Use : Low-level and manual process management\n",
        "    - Synchronization : No built-in synchronization mechanisms\n",
        "  - multiprocessing :\n",
        "    - Platform : Cross-platform (Windows, Linux, macOS)\n",
        "    - Process Creation : Creates independent processes using the Process class\n",
        "    - Memory Sharing : Processes have separate memory by default\n",
        "    - Inter-Process Communication : Provides built-in IPC mechanisms (e.g., Queue, Pipe)\n",
        "    - Ease of Use : High-level API for creating and managing processes  \n",
        "    - Synchronization : Built-in synchronization tools (e.g., Lock, Semaphore)\n",
        "19. What is the importance of closing a file in Python ?\n",
        "  - Releases system resources (file handles).\n",
        "  - Ensures data integrity by writing buffered data to the disk.\n",
        "  - Prevents data corruption and allows safe access by other processes.\n",
        "  - Avoids memory leaks by freeing up resources.\n",
        "  - Promotes good coding practice for easier readability and maintenance.\n",
        "20. What is the difference between file.read() and file.readline() in Python?\n",
        "  - file.read() :\n",
        "      - Function : Reads the entire file at once.\n",
        "      - Return Value : Returns the entire file content as a string.\n",
        "      - Memory Usage : Can consume a lot of memory if the file is large.\n",
        "      - Newline Handling : Does not add a newline at the end (reads everything)\n",
        "      - Use Case : Best for small files when you want to read all content.\n",
        "  - file.readline() :\n",
        "     - Function : Reads one line at a time.\n",
        "     - Return Value : Returns a single line (including the newline \\n).\n",
        "     - Memory Usage : More memory-efficient as it processes one line at a time.\n",
        "     - Newline Handling : Includes the newline character at the end of each line.\n",
        "     - Use Case : Best for large files or when processing line by line.\n",
        "21. What is the logging module in Python used for ?\n",
        "  - The logging module in Python is used to add logging capabilities to your program. It allows you to track events, errors, warnings, and other messages during the execution of a program. Logging is useful for debugging, monitoring, and understanding the flow of a program, especially in large or complex systems.\n",
        "22. What is the os module in Python used for in file handling ?\n",
        "  - The os module in Python provides a way to interact with the operating system. When it comes to file handling, the os module offers several useful functions to manipulate files and directories. It can be used for tasks like checking file existence, deleting files, renaming them, creating directories, and more.\n",
        "23. What are the challenges associated with memory management in Python?\n",
        "  - Automatic Garbage Collection\n",
        "  - Reference Counting and Circular References\n",
        "  - Memory Fragmentation\n",
        "  - Large Objects and Memory Consumption\n",
        "  - Managing Memory in Data Structures\n",
        "  - Limited Control Over Memory Allocation\n",
        "  - Memory Management in Multithreading\n",
        "  - Debugging Memory Issues\n",
        "  - Limited Optimization for Small Devices\n",
        "24. How do you raise an exception manually in Python?\n",
        "  - You can manually raise an exception in Python using the raise keyword. This is useful when you want to stop the program or signal an error.\n",
        "25. Why is it important to use multithreading in certain applications?\n",
        "  -  Faster Performance\n",
        "  - Keeps the Program Responsive\n",
        "  - Better Resource Use\n",
        "  - Useful for Background Tasks\n",
        "  - Improves Speed for I/O Operations"
      ],
      "metadata": {
        "id": "goV-luL927gJ"
      }
    },
    {
      "cell_type": "code",
      "source": [
        "# 1.How can you open a file for writing in Python and write a string to it?\n",
        "file = open(\"example.txt\", \"w\")\n",
        "file.write(\"Hello, this is a test.\")\n",
        "file.close()"
      ],
      "metadata": {
        "id": "DjOWF3Zgj_6S"
      },
      "execution_count": null,
      "outputs": []
    },
    {
      "cell_type": "code",
      "source": [
        "#2. Write a Python program to read the contents of a file and print each line?\n",
        "file = open(\"example.txt\", \"r\")\n",
        "lines = file.readlines()\n",
        "for line in lines:\n",
        "    print(line)\n",
        "file.close()"
      ],
      "metadata": {
        "colab": {
          "base_uri": "https://localhost:8080/"
        },
        "id": "mkvvrpA4kNa5",
        "outputId": "17294448-4f51-4d9e-cd9f-eb903d9aebcf"
      },
      "execution_count": null,
      "outputs": [
        {
          "output_type": "stream",
          "name": "stdout",
          "text": [
            "Hello, this is a test.\n"
          ]
        }
      ]
    },
    {
      "cell_type": "code",
      "source": [
        "#3. How would you handle a case where the file doesn't exist while trying to open it for reading?\n",
        "try:\n",
        "    with open(\"example.txt\", \"r\") as file:\n",
        "        content = file.read()\n",
        "        print(content)\n",
        "except FileNotFoundError:\n",
        "    print(\"Error: The file does not exist.\")"
      ],
      "metadata": {
        "colab": {
          "base_uri": "https://localhost:8080/"
        },
        "id": "hwhUgtiukz0C",
        "outputId": "e3035ec7-043b-45ae-e6d4-9f1a84592256"
      },
      "execution_count": null,
      "outputs": [
        {
          "output_type": "stream",
          "name": "stdout",
          "text": [
            "Hello, this is a test.\n"
          ]
        }
      ]
    },
    {
      "cell_type": "code",
      "source": [
        "#4. Write a Python script that reads from one file and writes its content to another file?\n",
        "try:\n",
        "    with open(\"source.txt\", \"r\") as source_file:\n",
        "        content = source_file.read()\n",
        "\n",
        "    with open(\"destination.txt\", \"w\") as dest_file:\n",
        "        dest_file.write(content)\n",
        "    print(\"File copied successfully.\")\n",
        "\n",
        "except FileNotFoundError:\n",
        "    print(\"Error: The source file does not exist.\")\n",
        "\n"
      ],
      "metadata": {
        "colab": {
          "base_uri": "https://localhost:8080/"
        },
        "id": "z2nxDASalSx5",
        "outputId": "5da66805-26c4-411b-ba89-e1d152adcbb9"
      },
      "execution_count": null,
      "outputs": [
        {
          "output_type": "stream",
          "name": "stdout",
          "text": [
            "Error: The source file does not exist.\n"
          ]
        }
      ]
    },
    {
      "cell_type": "code",
      "source": [
        "#5. How would you catch and handle division by zero error in Python?\n",
        "try:\n",
        "    num1 = int(input(\"Enter numerator: \"))\n",
        "    num2 = int(input(\"Enter denominator: \"))\n",
        "    result = num1 / num2\n",
        "    print(\"Result:\", result)\n",
        "except ZeroDivisionError:\n",
        "    print(\"Error: Division by zero is not allowed.\")\n"
      ],
      "metadata": {
        "colab": {
          "base_uri": "https://localhost:8080/"
        },
        "id": "AHTsIXyll7uw",
        "outputId": "71938d94-087d-4ad7-96f0-2469db495d6e"
      },
      "execution_count": null,
      "outputs": [
        {
          "output_type": "stream",
          "name": "stdout",
          "text": [
            "Enter numerator: 21\n",
            "Enter denominator: 12\n",
            "Result: 1.75\n"
          ]
        }
      ]
    },
    {
      "cell_type": "code",
      "source": [
        "#6. Write a Python program that logs an error message to a log file when a division by zero exception occurs?\n",
        "import logging\n",
        "\n",
        "logging.basicConfig(filename='error.log', level=logging.ERROR)\n",
        "\n",
        "try:\n",
        "    num1 = int(input(\"Enter numerator: \"))\n",
        "    num2 = int(input(\"Enter denominator: \"))\n",
        "    result = num1 / num2\n",
        "    print(\"Result:\", result)\n",
        "    logging.error(\"Division by zero error occurred.\")\n",
        "except ZeroDivisionError:\n",
        "    logging.error(\"Error: Division by zero is not allowed.\")\n",
        "    print(\"Error: Division by zero is not allowed.\")\n"
      ],
      "metadata": {
        "colab": {
          "base_uri": "https://localhost:8080/"
        },
        "id": "Tl8HOQa4me2R",
        "outputId": "2c16b7ed-e867-4be0-f24e-ea306243dd67"
      },
      "execution_count": null,
      "outputs": [
        {
          "name": "stdout",
          "output_type": "stream",
          "text": [
            "Enter numerator: 23\n",
            "Enter denominator: 43\n"
          ]
        },
        {
          "output_type": "stream",
          "name": "stderr",
          "text": [
            "ERROR:root:Division by zero error occurred.\n"
          ]
        },
        {
          "output_type": "stream",
          "name": "stdout",
          "text": [
            "Result: 0.5348837209302325\n"
          ]
        }
      ]
    },
    {
      "cell_type": "code",
      "source": [
        "#7. How do you log information at different levels (INFO, ERROR, WARNING) in Python using the logging module?\n",
        "import logging\n",
        "logging.basicConfig(level=logging.DEBUG, format=\"%(levelname)s: %(message)s\")\n",
        "logging.debug(\"This is a debug message.\")\n",
        "logging.info(\"This is an info message.\")\n",
        "logging.warning(\"This is a warning message.\")\n",
        "logging.error(\"This is an error message.\")\n",
        "logging.critical(\"This is a critical message.\")\n",
        "\n"
      ],
      "metadata": {
        "colab": {
          "base_uri": "https://localhost:8080/"
        },
        "id": "Wl6sl7BRmvr8",
        "outputId": "e6bc0d4c-6933-405a-d6fc-c52a95bcea6a"
      },
      "execution_count": null,
      "outputs": [
        {
          "output_type": "stream",
          "name": "stderr",
          "text": [
            "WARNING:root:This is a warning message.\n",
            "ERROR:root:This is an error message.\n",
            "CRITICAL:root:This is a critical message.\n"
          ]
        }
      ]
    },
    {
      "cell_type": "code",
      "source": [
        "#8. Write a program to handle a file opening error using exception handlingF\n",
        "try:\n",
        "    file = open(\"example.txt\", \"r\")\n",
        "    content = file.read()\n",
        "    print(content)\n",
        "    file.close()\n",
        "except FileNotFoundError:\n",
        "    print(\"Error: The file does not exist.\")\n"
      ],
      "metadata": {
        "colab": {
          "base_uri": "https://localhost:8080/"
        },
        "id": "pHHaIRgMnNxI",
        "outputId": "8a54842a-06a9-4be4-8b30-198c1fda93ae"
      },
      "execution_count": null,
      "outputs": [
        {
          "output_type": "stream",
          "name": "stdout",
          "text": [
            "Hello, this is a test.\n"
          ]
        }
      ]
    },
    {
      "cell_type": "code",
      "source": [
        "#9. How can you read a file line by line and store its content in a list in Python?\n",
        "try:\n",
        "    with open(\"example.txt\", \"r\") as file:\n",
        "        lines = file.readlines()\n",
        "        for line in lines:\n",
        "            print(line)\n",
        "except FileNotFoundError:\n",
        "    print(\"Error: The file does not exist.\")\n",
        "\n"
      ],
      "metadata": {
        "colab": {
          "base_uri": "https://localhost:8080/"
        },
        "id": "Y4wRrGJondJj",
        "outputId": "ed7bb9b6-5609-4ac6-fda5-3f253dfec088"
      },
      "execution_count": null,
      "outputs": [
        {
          "output_type": "stream",
          "name": "stdout",
          "text": [
            "Hello, this is a test.\n"
          ]
        }
      ]
    },
    {
      "cell_type": "code",
      "source": [
        "#10. How can you append data to an existing file in Python?\n",
        "with open(\"example.txt\", \"a\") as file:\n",
        "    file.write(\"\\nThis is new appended text.\")"
      ],
      "metadata": {
        "id": "w3hqPwc9nmGw"
      },
      "execution_count": null,
      "outputs": []
    },
    {
      "cell_type": "code",
      "source": [
        "#11. Write a Python program that uses a try-except block to handle an error when attempting to access a dictionary key that doesn't exist.\n",
        "student_scores = {\"Rahul\": 85, \"Amol\": 90, \"Omkar\": 78}\n",
        "try:\n",
        "    name = input(\"Enter student name: \")\n",
        "    score = student_scores[name]\n",
        "    print(f\"{name}'s score: {score}\")\n",
        "except KeyError:\n",
        "    print(\"Error: Student not found in the dictionary.\")\n"
      ],
      "metadata": {
        "colab": {
          "base_uri": "https://localhost:8080/"
        },
        "id": "rWFdy1nbnsUA",
        "outputId": "410e5f22-f302-4037-ac8a-daaceedc51c1"
      },
      "execution_count": null,
      "outputs": [
        {
          "output_type": "stream",
          "name": "stdout",
          "text": [
            "Enter student name: Rahul\n",
            "Rahul's score: 85\n"
          ]
        }
      ]
    },
    {
      "cell_type": "code",
      "source": [
        "#12.  Write a program that demonstrates using multiple except blocks to handle different types of exceptions\n",
        "try:\n",
        "    num1 = int(input(\"Enter a number: \"))\n",
        "    num2 = int(input(\"Enter another number: \"))\n",
        "    result = num1 / num2\n",
        "    print(f\"Result: {result}\")\n",
        "\n",
        "except ValueError:\n",
        "    print(\"Error: Please enter a valid integer.\")\n",
        "except ZeroDivisionError:\n",
        "    print(\"Error: Division by zero is not allowed.\")\n",
        "\n",
        "except Exception as e:\n",
        "    print(f\"An unexpected error occurred: {e}\")"
      ],
      "metadata": {
        "colab": {
          "base_uri": "https://localhost:8080/"
        },
        "id": "TdXB1Tlsob_q",
        "outputId": "35071e45-b51f-47da-daef-b40e42193d7a"
      },
      "execution_count": null,
      "outputs": [
        {
          "output_type": "stream",
          "name": "stdout",
          "text": [
            "Enter a number: 123\n",
            "Enter another number: bhagvat patil\n",
            "Error: Please enter a valid integer.\n"
          ]
        }
      ]
    },
    {
      "cell_type": "code",
      "source": [
        "#13. How would you check if a file exists before attempting to read it in Python\n",
        "import os\n",
        "\n",
        "filename = \"example.txt\"\n",
        "\n",
        "if os.path.exists(filename):\n",
        "    with open(filename, \"r\") as file:\n",
        "        content = file.read()\n",
        "        print(content)\n",
        "else:\n",
        "    print(\"Error: The file does not exist.\")\n"
      ],
      "metadata": {
        "colab": {
          "base_uri": "https://localhost:8080/"
        },
        "id": "hWiaXTORo6U6",
        "outputId": "56798a8a-7164-450a-d4c0-149b2fa4b116"
      },
      "execution_count": null,
      "outputs": [
        {
          "output_type": "stream",
          "name": "stdout",
          "text": [
            "Hello, this is a test.\n",
            "Appended line.\n",
            "Appended line.\n",
            "Line 1: Appended text\n",
            "Line 2: More appended text\n",
            "This is new appended text.\n",
            "This is new appended text.\n",
            "Line 1: Appended text\n",
            "Line 2: More appended text\n"
          ]
        }
      ]
    },
    {
      "cell_type": "code",
      "source": [
        "#14. Write a program that uses the logging module to log both informational and error messages\n",
        "import logging\n",
        "\n",
        "logging.basicConfig(level=logging.INFO, format=\"%(levelname)s: %(message)s\")\n",
        "logging.info(\"This is an informational message.\")\n",
        "\n",
        "logging.basicConfig(level=logging.ERROR, format=\"%(levelname)s: %(message)s\")\n",
        "logging.error(\"This is an error message.\")\n"
      ],
      "metadata": {
        "colab": {
          "base_uri": "https://localhost:8080/"
        },
        "id": "mYAfHW9ppK3D",
        "outputId": "8d1ab41a-cc8f-4f6d-c8cd-45c0b741b319"
      },
      "execution_count": null,
      "outputs": [
        {
          "output_type": "stream",
          "name": "stderr",
          "text": [
            "ERROR:root:This is an error message.\n"
          ]
        }
      ]
    },
    {
      "cell_type": "code",
      "source": [
        "#15. Write a Python program that prints the content of a file and handles the case when the file is empty\n",
        "filename = \"example.txt\"\n",
        "\n",
        "try:\n",
        "    with open(filename, \"r\") as file:\n",
        "        content = file.read()\n",
        "\n",
        "        if content:\n",
        "            print(content)\n",
        "        else:\n",
        "            print(\"The file is empty.\")\n",
        "\n",
        "except FileNotFoundError:\n",
        "    print(f\"Error: The file '{filename}' does not exist.\")\n"
      ],
      "metadata": {
        "colab": {
          "base_uri": "https://localhost:8080/"
        },
        "id": "ai6JA5GOpTO7",
        "outputId": "96891d59-3e02-49f8-a1ad-ccb4a8e98e21"
      },
      "execution_count": null,
      "outputs": [
        {
          "output_type": "stream",
          "name": "stdout",
          "text": [
            "Hello, this is a test.\n",
            "Appended line.\n",
            "Appended line.\n",
            "Line 1: Appended text\n",
            "Line 2: More appended text\n",
            "This is new appended text.\n",
            "This is new appended text.\n",
            "Line 1: Appended text\n",
            "Line 2: More appended text\n"
          ]
        }
      ]
    },
    {
      "cell_type": "code",
      "source": [
        "#16.  Demonstrate how to use memory profiling to check the memory usage of a small program\n",
        "\n",
        "from memory_profiler import profile\n",
        "@profile\n",
        "def my_function():\n",
        "    a = [i for i in range(100000)]\n",
        "    b = [i * 2 for i in range(100000)]\n",
        "    return a, b\n",
        "if __name__ == \"__main__\":\n",
        "    my_function()"
      ],
      "metadata": {
        "colab": {
          "base_uri": "https://localhost:8080/",
          "height": 383
        },
        "id": "zKGxiePTpbgc",
        "outputId": "bc257341-5ab2-4160-9981-2d909384fa1c"
      },
      "execution_count": null,
      "outputs": [
        {
          "output_type": "error",
          "ename": "ModuleNotFoundError",
          "evalue": "No module named 'memory_profiler'",
          "traceback": [
            "\u001b[0;31m---------------------------------------------------------------------------\u001b[0m",
            "\u001b[0;31mModuleNotFoundError\u001b[0m                       Traceback (most recent call last)",
            "\u001b[0;32m<ipython-input-34-ee9bdc15b6bd>\u001b[0m in \u001b[0;36m<cell line: 0>\u001b[0;34m()\u001b[0m\n\u001b[1;32m      1\u001b[0m \u001b[0;31m#16.  Demonstrate how to use memory profiling to check the memory usage of a small program\u001b[0m\u001b[0;34m\u001b[0m\u001b[0;34m\u001b[0m\u001b[0m\n\u001b[1;32m      2\u001b[0m \u001b[0;34m\u001b[0m\u001b[0m\n\u001b[0;32m----> 3\u001b[0;31m \u001b[0;32mfrom\u001b[0m \u001b[0mmemory_profiler\u001b[0m \u001b[0;32mimport\u001b[0m \u001b[0mprofile\u001b[0m\u001b[0;34m\u001b[0m\u001b[0;34m\u001b[0m\u001b[0m\n\u001b[0m\u001b[1;32m      4\u001b[0m \u001b[0;34m@\u001b[0m\u001b[0mprofile\u001b[0m\u001b[0;34m\u001b[0m\u001b[0;34m\u001b[0m\u001b[0m\n\u001b[1;32m      5\u001b[0m \u001b[0;32mdef\u001b[0m \u001b[0mmy_function\u001b[0m\u001b[0;34m(\u001b[0m\u001b[0;34m)\u001b[0m\u001b[0;34m:\u001b[0m\u001b[0;34m\u001b[0m\u001b[0;34m\u001b[0m\u001b[0m\n",
            "\u001b[0;31mModuleNotFoundError\u001b[0m: No module named 'memory_profiler'",
            "",
            "\u001b[0;31m---------------------------------------------------------------------------\u001b[0;32m\nNOTE: If your import is failing due to a missing package, you can\nmanually install dependencies using either !pip or !apt.\n\nTo view examples of installing some common dependencies, click the\n\"Open Examples\" button below.\n\u001b[0;31m---------------------------------------------------------------------------\u001b[0m\n"
          ],
          "errorDetails": {
            "actions": [
              {
                "action": "open_url",
                "actionText": "Open Examples",
                "url": "/notebooks/snippets/importing_libraries.ipynb"
              }
            ]
          }
        }
      ]
    },
    {
      "cell_type": "code",
      "source": [
        "#17. Write a Python program to create and write a list of numbers to a file, one number per line\n",
        "numbers = [1, 2, 3, 4, 5, 6, 7, 8, 9, 10]\n",
        "\n",
        "with open(\"numbers.txt\", \"w\") as file:\n",
        "    for number in numbers:\n",
        "        file.write(f\"{number}\\n\")\n",
        "\n",
        "print(\"Numbers have been written to the file.\")\n"
      ],
      "metadata": {
        "colab": {
          "base_uri": "https://localhost:8080/"
        },
        "id": "sBqxB-zwp0o1",
        "outputId": "f662070a-2ea3-44cd-9330-455f56638ff4"
      },
      "execution_count": null,
      "outputs": [
        {
          "output_type": "stream",
          "name": "stdout",
          "text": [
            "Numbers have been written to the file.\n"
          ]
        }
      ]
    },
    {
      "cell_type": "code",
      "source": [
        "#18. How would you implement a basic logging setup that logs to a file with rotation after 1MB\n",
        "import logging\n",
        "from logging.handlers import RotatingFileHandler\n",
        "\n",
        "log_file = \"app.log\"\n",
        "logging.basicConfig(\n",
        "    level=logging.INFO,\n",
        "    format=\"%(asctime)s - %(levelname)s - %(message)s\",\n",
        "    handlers=[\n",
        "        RotatingFileHandler(log_file, maxBytes=1_000_000, backupCount=3)\n",
        "    ]\n",
        ")\n",
        "\n",
        "for i in range(10000):\n",
        "    logging.info(f\"Log message {i}\")\n",
        "\n",
        "\n"
      ],
      "metadata": {
        "id": "F4EHBCG8qegC"
      },
      "execution_count": null,
      "outputs": []
    },
    {
      "cell_type": "code",
      "source": [
        "#19. Write a program that handles both IndexError and KeyError using a try-except block\n",
        "try:\n",
        "    my_list = [10, 20, 30]\n",
        "    print(my_list[5])\n",
        "\n",
        "    my_dict = {\"name\": \"Bhagvat\", \"age\": 25}\n",
        "    print(my_dict[\"city\"])\n",
        "\n",
        "except IndexError:\n",
        "    print(\"Error: Index out of range!\")\n",
        "\n",
        "except KeyError:\n",
        "    print(\"Error: Key not found in dictionary!\")\n"
      ],
      "metadata": {
        "colab": {
          "base_uri": "https://localhost:8080/"
        },
        "id": "U7yvKRd3q0Lr",
        "outputId": "18dce016-c615-4c0f-df15-c93ab0309cfd"
      },
      "execution_count": null,
      "outputs": [
        {
          "output_type": "stream",
          "name": "stdout",
          "text": [
            "Error: Index out of range!\n"
          ]
        }
      ]
    },
    {
      "cell_type": "code",
      "source": [
        "#20.  How would you open a file and read its contents using a context manager in Python?\n",
        "with open(\"example.txt\", \"r\") as file:\n",
        "    content = file.read()\n",
        "    print(content)"
      ],
      "metadata": {
        "colab": {
          "base_uri": "https://localhost:8080/"
        },
        "id": "tUvDNAQYrWRp",
        "outputId": "3d987e95-4a3d-4f88-d820-2535bf0c0381"
      },
      "execution_count": null,
      "outputs": [
        {
          "output_type": "stream",
          "name": "stdout",
          "text": [
            "Hello, this is a test.\n",
            "Appended line.\n",
            "Appended line.\n",
            "Line 1: Appended text\n",
            "Line 2: More appended text\n",
            "This is new appended text.\n",
            "This is new appended text.\n",
            "Line 1: Appended text\n",
            "Line 2: More appended text\n"
          ]
        }
      ]
    },
    {
      "cell_type": "code",
      "source": [
        "#21. Write a Python program that reads a file and prints the number of occurrences of a specific word\n",
        "def count_word_occurrences(filename, word):\n",
        "    try:\n",
        "        with open(filename, \"r\") as file:\n",
        "            content = file.read()\n",
        "            words = content.split()\n",
        "            count = words.count(word)\n",
        "            print(f\"The word '{word}' appears {count} times in the file.\")\n",
        "\n",
        "    except FileNotFoundError:\n",
        "        print(f\"Error: The file '{filename}' does not exist.\")\n",
        "\n",
        "filename = \"sample.txt\"\n",
        "word_to_search = \"Python\"\n",
        "count_word_occurrences(filename, word_to_search)\n"
      ],
      "metadata": {
        "colab": {
          "base_uri": "https://localhost:8080/"
        },
        "id": "gFE3B_qRr6DX",
        "outputId": "89eea07b-8320-4783-e922-588ed184f1f4"
      },
      "execution_count": null,
      "outputs": [
        {
          "output_type": "stream",
          "name": "stdout",
          "text": [
            "Error: The file 'sample.txt' does not exist.\n"
          ]
        }
      ]
    },
    {
      "cell_type": "code",
      "source": [
        "#22. How can you check if a file is empty before attempting to read its contents\n",
        "def is_file_empty(filename):\n",
        "    try:\n",
        "        with open(filename, \"r\") as file:\n",
        "            content = file.read()\n",
        "            if not content:\n",
        "                return True\n",
        "            else:\n",
        "                return False\n",
        "\n",
        "    except FileNotFoundError:\n",
        "        return True\n",
        "\n",
        "filename = \"empty.txt\"\n",
        "if is_file_empty(filename):\n",
        "    print(f\"The file '{filename}' is empty.\")\n",
        "\n",
        "else:\n",
        "    print(f\"The file '{filename}' is not empty.\")\n",
        "\n",
        "\n"
      ],
      "metadata": {
        "colab": {
          "base_uri": "https://localhost:8080/"
        },
        "id": "kQOToM3VsXEL",
        "outputId": "8feebbbb-1df4-4518-e7b2-fccf2287a333"
      },
      "execution_count": null,
      "outputs": [
        {
          "output_type": "stream",
          "name": "stdout",
          "text": [
            "The file 'empty.txt' is empty.\n"
          ]
        }
      ]
    },
    {
      "cell_type": "code",
      "source": [
        "#23. Write a Python program that writes to a log file when an error occurs during file handling.\n",
        "import logging\n",
        "logging.basicConfig(\n",
        "    filename=\"error.log\",\n",
        "    level=logging.ERROR,\n",
        "    format=\"%(asctime)s - %(levelname)s - %(message)s\"\n",
        ")\n",
        "\n",
        "def read_file(filename):\n",
        "    try:\n",
        "        with open(filename, \"r\") as file:\n",
        "            content = file.read()\n",
        "            print(content)\n",
        "    except FileNotFoundError:\n",
        "        logging.error(f\"File '{filename}' not found.\")\n",
        "        print(\"Error: The file does not exist.\")\n",
        "    except PermissionError:\n",
        "        logging.error(f\"Permission denied for file '{filename}'.\")\n",
        "        print(\"Error: Permission denied.\")\n",
        "\n",
        "filename = \"nonexistent.txt\"\n",
        "read_file(filename)\n",
        "\n",
        "\n"
      ],
      "metadata": {
        "colab": {
          "base_uri": "https://localhost:8080/"
        },
        "id": "UKBaPBptsh6v",
        "outputId": "3e8f6420-6e2a-45d3-e337-e48bedbdc451"
      },
      "execution_count": null,
      "outputs": [
        {
          "output_type": "stream",
          "name": "stderr",
          "text": [
            "ERROR:root:File 'nonexistent.txt' not found.\n"
          ]
        },
        {
          "output_type": "stream",
          "name": "stdout",
          "text": [
            "Error: The file does not exist.\n"
          ]
        }
      ]
    },
    {
      "cell_type": "code",
      "source": [],
      "metadata": {
        "id": "NK2Je1GMsyQg"
      },
      "execution_count": null,
      "outputs": []
    }
  ]
}