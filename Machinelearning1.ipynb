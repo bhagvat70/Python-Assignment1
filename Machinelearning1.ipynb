{
  "nbformat": 4,
  "nbformat_minor": 0,
  "metadata": {
    "colab": {
      "provenance": []
    },
    "kernelspec": {
      "name": "python3",
      "display_name": "Python 3"
    },
    "language_info": {
      "name": "python"
    }
  },
  "cells": [
    {
      "cell_type": "markdown",
      "source": [
        "# EDA-1"
      ],
      "metadata": {
        "id": "spV6Cut9QHk5"
      }
    },
    {
      "cell_type": "code",
      "source": [
        "import os\n",
        "print(os.listdir())"
      ],
      "metadata": {
        "colab": {
          "base_uri": "https://localhost:8080/"
        },
        "id": "evdwN8mHKYep",
        "outputId": "eba8447b-3971-4989-f3f2-a08d99d3c4f2"
      },
      "execution_count": null,
      "outputs": [
        {
          "output_type": "stream",
          "name": "stdout",
          "text": [
            "['.config', 'sample_data']\n"
          ]
        }
      ]
    },
    {
      "cell_type": "code",
      "source": [
        "import pandas as pd\n",
        "\n",
        "# Create sample data\n",
        "data = {\n",
        "    \"selling_price\": [50000, 70000, 60000, 45000, 80000],\n",
        "    \"km_driven\": [15000, 30000, 25000, 5000, 40000],\n",
        "    \"year\": [2018, 2016, 2017, 2019, 2015],\n",
        "    \"seller_type\": [\"Individual\", \"Dealer\", \"Individual\", \"Dealer\", \"Individual\"]\n",
        "}\n",
        "\n",
        "# Convert to DataFrame\n",
        "df = pd.DataFrame(data)\n",
        "\n",
        "# Save as CSV\n",
        "df.to_csv(r\"C:\\college\\PWDS\\assignment\\my_dataset1.csv\", index=False)\n",
        "\n",
        "print(\"CSV file created successfully!\")\n"
      ],
      "metadata": {
        "colab": {
          "base_uri": "https://localhost:8080/"
        },
        "id": "igBl85WCKglw",
        "outputId": "a502f0a1-b327-466d-cd36-3c336aaf104b"
      },
      "execution_count": null,
      "outputs": [
        {
          "output_type": "stream",
          "name": "stdout",
          "text": [
            "CSV file created successfully!\n"
          ]
        }
      ]
    },
    {
      "cell_type": "code",
      "source": [
        "import pandas as pd\n",
        "\n",
        "# Load the dataset\n",
        "df = pd.read_csv(r\"C:\\college\\PWDS\\assignment\\my_dataset1.csv\")\n",
        "\n",
        "# Display the first few rows to confirm\n",
        "print(df.head())\n"
      ],
      "metadata": {
        "colab": {
          "base_uri": "https://localhost:8080/"
        },
        "id": "DYN46iv2LKdH",
        "outputId": "ef9a47df-6fe6-438d-8096-3b4d41a828db"
      },
      "execution_count": null,
      "outputs": [
        {
          "output_type": "stream",
          "name": "stdout",
          "text": [
            "   selling_price  km_driven  year seller_type\n",
            "0          50000      15000  2018  Individual\n",
            "1          70000      30000  2016      Dealer\n",
            "2          60000      25000  2017  Individual\n",
            "3          45000       5000  2019      Dealer\n",
            "4          80000      40000  2015  Individual\n"
          ]
        }
      ]
    },
    {
      "cell_type": "code",
      "source": [
        "#1.What is the range of selling prices in the dataset?\n",
        "price_range = df[\"selling_price\"].max() - df[\"selling_price\"].min()\n",
        "print(f\"Range of Selling Prices: {price_range}\")\n"
      ],
      "metadata": {
        "colab": {
          "base_uri": "https://localhost:8080/"
        },
        "id": "In1WwaJGMu2Z",
        "outputId": "32d8bbcc-8e1d-423d-fedd-6aa7c67ea986"
      },
      "execution_count": null,
      "outputs": [
        {
          "output_type": "stream",
          "name": "stdout",
          "text": [
            "Range of Selling Prices: 35000\n"
          ]
        }
      ]
    },
    {
      "cell_type": "code",
      "source": [
        "#2. What is the median selling price for bikes in the datase?\n",
        "median_price = df[\"selling_price\"].median()\n",
        "print(f\"Median Selling Price: {median_price}\")"
      ],
      "metadata": {
        "colab": {
          "base_uri": "https://localhost:8080/"
        },
        "id": "aJ2ktnkMM8Uh",
        "outputId": "c59279a7-f934-4aad-da1f-c2544902fdcf"
      },
      "execution_count": null,
      "outputs": [
        {
          "output_type": "stream",
          "name": "stdout",
          "text": [
            "Median Selling Price: 60000.0\n"
          ]
        }
      ]
    },
    {
      "cell_type": "code",
      "source": [
        "#3. What is the most common seller type?\n",
        "seller_type_counts = df[\"seller_type\"].value_counts()\n",
        "most_common_seller = seller_type_counts.idxmax()\n",
        "print(f\"Most Common Seller Type: {most_common_seller}\")"
      ],
      "metadata": {
        "colab": {
          "base_uri": "https://localhost:8080/"
        },
        "id": "OSnTKZ-sNJW3",
        "outputId": "d0720ed8-d1ff-4184-f21a-1a1a022f578e"
      },
      "execution_count": null,
      "outputs": [
        {
          "output_type": "stream",
          "name": "stdout",
          "text": [
            "Most Common Seller Type: Individual\n"
          ]
        }
      ]
    },
    {
      "cell_type": "code",
      "source": [
        "#4. How many bikes have driven more than 50,000 kilometers\n",
        "bikes_gt_50k = df[df[\"km_driven\"] > 50000]\n",
        "num_bikes_gt_50k = len(bikes_gt_50k)\n",
        "print(f\"Number of Bikes Driven More Than 50,000 km: {num_bikes_gt_50k}\")"
      ],
      "metadata": {
        "colab": {
          "base_uri": "https://localhost:8080/"
        },
        "id": "lEiPwTyTNPWN",
        "outputId": "02ea0a10-adea-4d74-944b-bb6d95de7c07"
      },
      "execution_count": null,
      "outputs": [
        {
          "output_type": "stream",
          "name": "stdout",
          "text": [
            "Number of Bikes Driven More Than 50,000 km: 0\n"
          ]
        }
      ]
    },
    {
      "cell_type": "code",
      "source": [
        "#5. What is the average km_driven value for each ownership type?\n",
        "avg_km_driven_by_ownership = df.groupby(\"seller_type\")[\"km_driven\"].mean()\n",
        "print(\"Average km_driven by ownership type:\")\n",
        "print(avg_km_driven_by_ownership)\n"
      ],
      "metadata": {
        "colab": {
          "base_uri": "https://localhost:8080/"
        },
        "id": "jWCwF6VsNVNe",
        "outputId": "26bd0c32-7afb-4c3e-d366-842200d6e810"
      },
      "execution_count": null,
      "outputs": [
        {
          "output_type": "stream",
          "name": "stdout",
          "text": [
            "Average km_driven by ownership type:\n",
            "seller_type\n",
            "Dealer        17500.000000\n",
            "Individual    26666.666667\n",
            "Name: km_driven, dtype: float64\n"
          ]
        }
      ]
    },
    {
      "cell_type": "code",
      "source": [
        "#6. What proportion of bikes are from the year 2015 or olde?\n",
        "bikes_2015_older = df[df[\"year\"] <= 2015]\n",
        "proportion_2015_older = len(bikes_2015_older) / len(df)\n",
        "print(f\"Proportion of Bikes from 2015 or Older: {proportion_2015_older:.2%}\")"
      ],
      "metadata": {
        "colab": {
          "base_uri": "https://localhost:8080/"
        },
        "id": "VFch3nqqN5_2",
        "outputId": "fdfeb8da-4cb0-47b4-dfc6-9cdc863a4017"
      },
      "execution_count": null,
      "outputs": [
        {
          "output_type": "stream",
          "name": "stdout",
          "text": [
            "Proportion of Bikes from 2015 or Older: 20.00%\n"
          ]
        }
      ]
    },
    {
      "cell_type": "code",
      "source": [
        "#7. What is the trend of missing values across the dataset?\n",
        "missing_values = df.isnull().sum()\n",
        "print(\"Missing Values by Column:\")\n",
        "print(missing_values)"
      ],
      "metadata": {
        "colab": {
          "base_uri": "https://localhost:8080/"
        },
        "id": "YRg3Jj76OANj",
        "outputId": "46fba179-fd29-4920-ef58-5d766dd26ea8"
      },
      "execution_count": null,
      "outputs": [
        {
          "output_type": "stream",
          "name": "stdout",
          "text": [
            "Missing Values by Column:\n",
            "selling_price    0\n",
            "km_driven        0\n",
            "year             0\n",
            "seller_type      0\n",
            "dtype: int64\n"
          ]
        }
      ]
    },
    {
      "cell_type": "code",
      "source": [
        "#8. What is the highest ex_showroom_price recorded, and for which bike?\n",
        "highest_price_bike = df[df[\"selling_price\"] == df[\"selling_price\"].max()]\n",
        "highest_price = highest_price_bike[\"selling_price\"].values[0]\n",
        "bike_name = highest_price_bike[\"seller_type\"].values[0]\n",
        "print(f\"Highest Ex-Showroom Price: {highest_price}\")\n",
        "print(f\"Bike Name: {bike_name}\")"
      ],
      "metadata": {
        "colab": {
          "base_uri": "https://localhost:8080/"
        },
        "id": "CWvOLRRmOWQj",
        "outputId": "61511a6a-5d8c-41be-bd12-ef6bd8ec5702"
      },
      "execution_count": null,
      "outputs": [
        {
          "output_type": "stream",
          "name": "stdout",
          "text": [
            "Highest Ex-Showroom Price: 80000\n",
            "Bike Name: Individual\n"
          ]
        }
      ]
    },
    {
      "cell_type": "code",
      "source": [
        "#9. What is the total number of bikes listed by each seller type?\n",
        "bike_count_by_seller = df[\"seller_type\"].value_counts()\n",
        "print(\"Total Number of Bikes Listed by Seller Type:\")\n",
        "print(bike_count_by_seller)\n"
      ],
      "metadata": {
        "colab": {
          "base_uri": "https://localhost:8080/"
        },
        "id": "-896WT2lOcdJ",
        "outputId": "a2d39ca4-d132-4784-f39a-e826687cb0e6"
      },
      "execution_count": null,
      "outputs": [
        {
          "output_type": "stream",
          "name": "stdout",
          "text": [
            "Total Number of Bikes Listed by Seller Type:\n",
            "seller_type\n",
            "Individual    3\n",
            "Dealer        2\n",
            "Name: count, dtype: int64\n"
          ]
        }
      ]
    },
    {
      "cell_type": "code",
      "source": [
        "#10. What is the relationship between selling_price and km_driven for first-owner bikes?\n",
        "first_owner_bikes = df[df[\"seller_type\"] == \"Individual\"]\n",
        "correlation = first_owner_bikes[\"selling_price\"].corr(first_owner_bikes[\"km_driven\"])\n",
        "print(f\"Correlation between Selling Price and km_driven for First-Owner Bikes: {correlation}\")\n"
      ],
      "metadata": {
        "colab": {
          "base_uri": "https://localhost:8080/"
        },
        "id": "4EMIYvjpOpsM",
        "outputId": "c75b37fd-5f18-4200-edc3-95220e961064"
      },
      "execution_count": null,
      "outputs": [
        {
          "output_type": "stream",
          "name": "stdout",
          "text": [
            "Correlation between Selling Price and km_driven for First-Owner Bikes: 0.9971764649527378\n"
          ]
        }
      ]
    },
    {
      "cell_type": "code",
      "source": [
        "#11. Identify and remove outliers in the km_driven column using the IQR method?\n",
        "Q1 = df[\"km_driven\"].quantile(0.25)\n",
        "Q3 = df[\"km_driven\"].quantile(0.75)\n",
        "IQR = Q3 - Q1\n",
        "lower_bound = Q1 - 1.5 * IQR\n",
        "upper_bound = Q3 + 1.5 * IQR\n",
        "df_no_outliers = df[(df[\"km_driven\"] >= lower_bound) & (df[\"km_driven\"] <= upper_bound)]\n",
        "print(\"DataFrame with Outliers Removed:\")\n",
        "print(df_no_outliers)"
      ],
      "metadata": {
        "colab": {
          "base_uri": "https://localhost:8080/"
        },
        "id": "04HXk4SmOyFc",
        "outputId": "ccb35238-261c-4f9f-e39c-cb08c335c1e5"
      },
      "execution_count": null,
      "outputs": [
        {
          "output_type": "stream",
          "name": "stdout",
          "text": [
            "DataFrame with Outliers Removed:\n",
            "   selling_price  km_driven  year seller_type\n",
            "0          50000      15000  2018  Individual\n",
            "1          70000      30000  2016      Dealer\n",
            "2          60000      25000  2017  Individual\n",
            "3          45000       5000  2019      Dealer\n",
            "4          80000      40000  2015  Individual\n"
          ]
        }
      ]
    },
    {
      "cell_type": "code",
      "source": [
        "#12. Perform a bivariate analysis to visualize the relationship between year and selling_price?\n",
        "import seaborn as sns\n",
        "import matplotlib.pyplot as plt\n",
        "\n",
        "# Perform bivariate analysis\n",
        "sns.scatterplot(x=\"year\", y=\"selling_price\", data=df)\n",
        "plt.title(\"Bivariate Analysis: Year vs. Selling Price\")\n",
        "plt.xlabel(\"Year\")\n",
        "plt.ylabel(\"Selling Price\")\n",
        "plt.show()\n"
      ],
      "metadata": {
        "colab": {
          "base_uri": "https://localhost:8080/",
          "height": 472
        },
        "id": "wi9i0iAFO74L",
        "outputId": "090b89c7-8aa7-4469-af9e-0c627cdc4a56"
      },
      "execution_count": null,
      "outputs": [
        {
          "output_type": "display_data",
          "data": {
            "text/plain": [
              "<Figure size 640x480 with 1 Axes>"
            ],
            "image/png": "[encoded data removed]"
          },
          "metadata": {}
        }
      ]
    },
    {
      "cell_type": "code",
      "source": [
        "#13. What is the average depreciation in selling price based on the bike's age (current year - manufacturing year)?\n",
        "current_year = 2023\n",
        "df[\"age\"] = current_year - df[\"year\"]\n",
        "df[\"depreciation\"] = df[\"selling_price\"] / df[\"age\"]\n",
        "average_depreciation = df[\"depreciation\"].mean()\n",
        "print(f\"Average Depreciation in Selling Price: {average_depreciation}\")\n"
      ],
      "metadata": {
        "colab": {
          "base_uri": "https://localhost:8080/"
        },
        "id": "EK5GRn9wPKZD",
        "outputId": "23efd889-c2f8-4d31-8028-bb0a00844f04"
      },
      "execution_count": null,
      "outputs": [
        {
          "output_type": "stream",
          "name": "stdout",
          "text": [
            "Average Depreciation in Selling Price: 10250.0\n"
          ]
        }
      ]
    },
    {
      "cell_type": "code",
      "source": [
        "#14. Which bike names are priced significantly above the average price for their manufacturing yea?\n",
        "average_price_by_year = df.groupby(\"year\")[\"selling_price\"].mean()\n",
        "df[\"average_price_by_year\"] = df[\"year\"].map(average_price_by_year)\n",
        "df[\"price_difference\"] = df[\"selling_price\"] - df[\"average_price_by_year\"]\n",
        "significant_price_difference = df[df[\"price_difference\"] > 2 * df[\"selling_price\"]]\n",
        "print(\"Bike Names Priced Significantly Above Average Price:\")\n",
        "print(significant_price_difference[\"seller_type\"])\n"
      ],
      "metadata": {
        "colab": {
          "base_uri": "https://localhost:8080/"
        },
        "id": "BK2AngOnPdvr",
        "outputId": "fe21b467-928d-4a2f-d723-df1794ef809e"
      },
      "execution_count": null,
      "outputs": [
        {
          "output_type": "stream",
          "name": "stdout",
          "text": [
            "Bike Names Priced Significantly Above Average Price:\n",
            "Series([], Name: seller_type, dtype: object)\n"
          ]
        }
      ]
    },
    {
      "cell_type": "code",
      "source": [
        "#15. Develop a correlation matrix for numeric columns and visualize it using a heatmap ?\n",
        "numeric_columns = df.select_dtypes(include=[\"number\"])\n",
        "correlation_matrix = numeric_columns.corr()\n",
        "plt.figure(figsize=(10, 8))\n",
        "sns.heatmap(correlation_matrix, annot=True, cmap=\"coolwarm\", fmt=\".2f\")\n",
        "plt.title(\"Correlation Matrix\")\n",
        "plt.show()\n"
      ],
      "metadata": {
        "colab": {
          "base_uri": "https://localhost:8080/",
          "height": 846
        },
        "id": "isLVJgN3PhCv",
        "outputId": "a73b6fee-9e05-4d14-af60-c7a1269fd5ca"
      },
      "execution_count": null,
      "outputs": [
        {
          "output_type": "display_data",
          "data": {
            "text/plain": [
              "<Figure size 1000x800 with 2 Axes>"
            ],
            "image/png": "[encoded data removed]"
          },
          "metadata": {}
        }
      ]
    },
    {
      "cell_type": "markdown",
      "source": [
        "# EDA 2"
      ],
      "metadata": {
        "id": "JHlfJjsTQXnu"
      }
    },
    {
      "cell_type": "code",
      "source": [
        "print(df.columns)\n",
        "\n"
      ],
      "metadata": {
        "colab": {
          "base_uri": "https://localhost:8080/"
        },
        "id": "GU0w6S5gRtUs",
        "outputId": "65299558-2f66-4f62-fd05-7e3800ee0c5a"
      },
      "execution_count": null,
      "outputs": [
        {
          "output_type": "stream",
          "name": "stdout",
          "text": [
            "Index(['selling_price', 'km_driven', 'year', 'seller_type', 'age',\n",
            "       'depreciation', 'average_price_by_year', 'price_difference'],\n",
            "      dtype='object')\n"
          ]
        }
      ]
    },
    {
      "cell_type": "code",
      "source": [
        "df.rename(columns={\"selling_price\": \"price\"}, inplace=True)"
      ],
      "metadata": {
        "id": "J9G8yoUvR490"
      },
      "execution_count": null,
      "outputs": []
    },
    {
      "cell_type": "code",
      "source": [
        "import sqlite3\n",
        "import pandas as pd\n",
        "\n",
        "# Connect to SQLite database (or create it)\n",
        "conn = sqlite3.connect(\"CarSalesDB.db\")\n",
        "cursor = conn.cursor()\n",
        "\n",
        "# Create table\n",
        "cursor.execute('''CREATE TABLE IF NOT EXISTS CarSales (\n",
        "    car_id INTEGER PRIMARY KEY,\n",
        "    sale_date TEXT,\n",
        "    customer_name TEXT,\n",
        "    gender TEXT,\n",
        "    annual_income REAL,\n",
        "    dealer_name TEXT,\n",
        "    company TEXT,\n",
        "    model TEXT,\n",
        "    engine TEXT,\n",
        "    price REAL,  -- Expected column name\n",
        "    transmission TEXT,\n",
        "    color TEXT,\n",
        "    dealer_no INTEGER,\n",
        "    body_style TEXT,\n",
        "    phone TEXT,\n",
        "    dealer_region TEXT\n",
        ")''')\n",
        "\n",
        "# Load dataset into DataFrame\n",
        "df = pd.read_csv(r\"C:\\college\\PWDS\\assignment\\dataset1.csv\")\n",
        "\n",
        "# Rename column to match database schema\n",
        "df.rename(columns={\"selling_price\": \"price\"}, inplace=True)\n",
        "\n",
        "# Insert data into SQLite table\n",
        "df.to_sql(\"CarSales\", conn, if_exists=\"append\", index=False)\n",
        "\n",
        "print(\"✅ Database created successfully!\")\n",
        "\n",
        "# Close connection\n",
        "conn.commit()\n",
        "conn.close()\n"
      ],
      "metadata": {
        "colab": {
          "base_uri": "https://localhost:8080/",
          "height": 356
        },
        "id": "nxnJgv1GTRvM",
        "outputId": "113fec96-11ec-4ffd-afbc-538a3acb712e"
      },
      "execution_count": null,
      "outputs": [
        {
          "output_type": "error",
          "ename": "OperationalError",
          "evalue": "table CarSales has no column named km_driven",
          "traceback": [
            "\u001b[0;31m---------------------------------------------------------------------------\u001b[0m",
            "\u001b[0;31mOperationalError\u001b[0m                          Traceback (most recent call last)",
            "\u001b[0;32m<ipython-input-49-3c887d031fac>\u001b[0m in \u001b[0;36m<cell line: 0>\u001b[0;34m()\u001b[0m\n\u001b[1;32m     33\u001b[0m \u001b[0;34m\u001b[0m\u001b[0m\n\u001b[1;32m     34\u001b[0m \u001b[0;31m# Insert data into SQLite table\u001b[0m\u001b[0;34m\u001b[0m\u001b[0;34m\u001b[0m\u001b[0m\n\u001b[0;32m---> 35\u001b[0;31m \u001b[0mdf\u001b[0m\u001b[0;34m.\u001b[0m\u001b[0mto_sql\u001b[0m\u001b[0;34m(\u001b[0m\u001b[0;34m\"CarSales\"\u001b[0m\u001b[0;34m,\u001b[0m \u001b[0mconn\u001b[0m\u001b[0;34m,\u001b[0m \u001b[0mif_exists\u001b[0m\u001b[0;34m=\u001b[0m\u001b[0;34m\"append\"\u001b[0m\u001b[0;34m,\u001b[0m \u001b[0mindex\u001b[0m\u001b[0;34m=\u001b[0m\u001b[0;32mFalse\u001b[0m\u001b[0;34m)\u001b[0m\u001b[0;34m\u001b[0m\u001b[0;34m\u001b[0m\u001b[0m\n\u001b[0m\u001b[1;32m     36\u001b[0m \u001b[0;34m\u001b[0m\u001b[0m\n\u001b[1;32m     37\u001b[0m \u001b[0mprint\u001b[0m\u001b[0;34m(\u001b[0m\u001b[0;34m\"✅ Database created successfully!\"\u001b[0m\u001b[0;34m)\u001b[0m\u001b[0;34m\u001b[0m\u001b[0;34m\u001b[0m\u001b[0m\n",
            "\u001b[0;32m/usr/local/lib/python3.11/dist-packages/pandas/util/_decorators.py\u001b[0m in \u001b[0;36mwrapper\u001b[0;34m(*args, **kwargs)\u001b[0m\n\u001b[1;32m    331\u001b[0m                     \u001b[0mstacklevel\u001b[0m\u001b[0;34m=\u001b[0m\u001b[0mfind_stack_level\u001b[0m\u001b[0;34m(\u001b[0m\u001b[0;34m)\u001b[0m\u001b[0;34m,\u001b[0m\u001b[0;34m\u001b[0m\u001b[0;34m\u001b[0m\u001b[0m\n\u001b[1;32m    332\u001b[0m                 )\n\u001b[0;32m--> 333\u001b[0;31m             \u001b[0;32mreturn\u001b[0m \u001b[0mfunc\u001b[0m\u001b[0;34m(\u001b[0m\u001b[0;34m*\u001b[0m\u001b[0margs\u001b[0m\u001b[0;34m,\u001b[0m \u001b[0;34m**\u001b[0m\u001b[0mkwargs\u001b[0m\u001b[0;34m)\u001b[0m\u001b[0;34m\u001b[0m\u001b[0;34m\u001b[0m\u001b[0m\n\u001b[0m\u001b[1;32m    334\u001b[0m \u001b[0;34m\u001b[0m\u001b[0m\n\u001b[1;32m    335\u001b[0m         \u001b[0;31m# error: \"Callable[[VarArg(Any), KwArg(Any)], Any]\" has no\u001b[0m\u001b[0;34m\u001b[0m\u001b[0;34m\u001b[0m\u001b[0m\n",
            "\u001b[0;32m/usr/local/lib/python3.11/dist-packages/pandas/core/generic.py\u001b[0m in \u001b[0;36mto_sql\u001b[0;34m(self, name, con, schema, if_exists, index, index_label, chunksize, dtype, method)\u001b[0m\n\u001b[1;32m   3085\u001b[0m         \u001b[0;32mfrom\u001b[0m \u001b[0mpandas\u001b[0m\u001b[0;34m.\u001b[0m\u001b[0mio\u001b[0m \u001b[0;32mimport\u001b[0m \u001b[0msql\u001b[0m\u001b[0;34m\u001b[0m\u001b[0;34m\u001b[0m\u001b[0m\n\u001b[1;32m   3086\u001b[0m \u001b[0;34m\u001b[0m\u001b[0m\n\u001b[0;32m-> 3087\u001b[0;31m         return sql.to_sql(\n\u001b[0m\u001b[1;32m   3088\u001b[0m             \u001b[0mself\u001b[0m\u001b[0;34m,\u001b[0m\u001b[0;34m\u001b[0m\u001b[0;34m\u001b[0m\u001b[0m\n\u001b[1;32m   3089\u001b[0m             \u001b[0mname\u001b[0m\u001b[0;34m,\u001b[0m\u001b[0;34m\u001b[0m\u001b[0;34m\u001b[0m\u001b[0m\n",
            "\u001b[0;32m/usr/local/lib/python3.11/dist-packages/pandas/io/sql.py\u001b[0m in \u001b[0;36mto_sql\u001b[0;34m(frame, name, con, schema, if_exists, index, index_label, chunksize, dtype, method, engine, **engine_kwargs)\u001b[0m\n\u001b[1;32m    840\u001b[0m \u001b[0;34m\u001b[0m\u001b[0m\n\u001b[1;32m    841\u001b[0m     \u001b[0;32mwith\u001b[0m \u001b[0mpandasSQL_builder\u001b[0m\u001b[0;34m(\u001b[0m\u001b[0mcon\u001b[0m\u001b[0;34m,\u001b[0m \u001b[0mschema\u001b[0m\u001b[0;34m=\u001b[0m\u001b[0mschema\u001b[0m\u001b[0;34m,\u001b[0m \u001b[0mneed_transaction\u001b[0m\u001b[0;34m=\u001b[0m\u001b[0;32mTrue\u001b[0m\u001b[0;34m)\u001b[0m \u001b[0;32mas\u001b[0m \u001b[0mpandas_sql\u001b[0m\u001b[0;34m:\u001b[0m\u001b[0;34m\u001b[0m\u001b[0;34m\u001b[0m\u001b[0m\n\u001b[0;32m--> 842\u001b[0;31m         return pandas_sql.to_sql(\n\u001b[0m\u001b[1;32m    843\u001b[0m             \u001b[0mframe\u001b[0m\u001b[0;34m,\u001b[0m\u001b[0;34m\u001b[0m\u001b[0;34m\u001b[0m\u001b[0m\n\u001b[1;32m    844\u001b[0m             \u001b[0mname\u001b[0m\u001b[0;34m,\u001b[0m\u001b[0;34m\u001b[0m\u001b[0;34m\u001b[0m\u001b[0m\n",
            "\u001b[0;32m/usr/local/lib/python3.11/dist-packages/pandas/io/sql.py\u001b[0m in \u001b[0;36mto_sql\u001b[0;34m(self, frame, name, if_exists, index, index_label, schema, chunksize, dtype, method, engine, **engine_kwargs)\u001b[0m\n\u001b[1;32m   2849\u001b[0m         )\n\u001b[1;32m   2850\u001b[0m         \u001b[0mtable\u001b[0m\u001b[0;34m.\u001b[0m\u001b[0mcreate\u001b[0m\u001b[0;34m(\u001b[0m\u001b[0;34m)\u001b[0m\u001b[0;34m\u001b[0m\u001b[0;34m\u001b[0m\u001b[0m\n\u001b[0;32m-> 2851\u001b[0;31m         \u001b[0;32mreturn\u001b[0m \u001b[0mtable\u001b[0m\u001b[0;34m.\u001b[0m\u001b[0minsert\u001b[0m\u001b[0;34m(\u001b[0m\u001b[0mchunksize\u001b[0m\u001b[0;34m,\u001b[0m \u001b[0mmethod\u001b[0m\u001b[0;34m)\u001b[0m\u001b[0;34m\u001b[0m\u001b[0;34m\u001b[0m\u001b[0m\n\u001b[0m\u001b[1;32m   2852\u001b[0m \u001b[0;34m\u001b[0m\u001b[0m\n\u001b[1;32m   2853\u001b[0m     \u001b[0;32mdef\u001b[0m \u001b[0mhas_table\u001b[0m\u001b[0;34m(\u001b[0m\u001b[0mself\u001b[0m\u001b[0;34m,\u001b[0m \u001b[0mname\u001b[0m\u001b[0;34m:\u001b[0m \u001b[0mstr\u001b[0m\u001b[0;34m,\u001b[0m \u001b[0mschema\u001b[0m\u001b[0;34m:\u001b[0m \u001b[0mstr\u001b[0m \u001b[0;34m|\u001b[0m \u001b[0;32mNone\u001b[0m \u001b[0;34m=\u001b[0m \u001b[0;32mNone\u001b[0m\u001b[0;34m)\u001b[0m \u001b[0;34m->\u001b[0m \u001b[0mbool\u001b[0m\u001b[0;34m:\u001b[0m\u001b[0;34m\u001b[0m\u001b[0;34m\u001b[0m\u001b[0m\n",
            "\u001b[0;32m/usr/local/lib/python3.11/dist-packages/pandas/io/sql.py\u001b[0m in \u001b[0;36minsert\u001b[0;34m(self, chunksize, method)\u001b[0m\n\u001b[1;32m   1117\u001b[0m \u001b[0;34m\u001b[0m\u001b[0m\n\u001b[1;32m   1118\u001b[0m                 \u001b[0mchunk_iter\u001b[0m \u001b[0;34m=\u001b[0m \u001b[0mzip\u001b[0m\u001b[0;34m(\u001b[0m\u001b[0;34m*\u001b[0m\u001b[0;34m(\u001b[0m\u001b[0marr\u001b[0m\u001b[0;34m[\u001b[0m\u001b[0mstart_i\u001b[0m\u001b[0;34m:\u001b[0m\u001b[0mend_i\u001b[0m\u001b[0;34m]\u001b[0m \u001b[0;32mfor\u001b[0m \u001b[0marr\u001b[0m \u001b[0;32min\u001b[0m \u001b[0mdata_list\u001b[0m\u001b[0;34m)\u001b[0m\u001b[0;34m)\u001b[0m\u001b[0;34m\u001b[0m\u001b[0;34m\u001b[0m\u001b[0m\n\u001b[0;32m-> 1119\u001b[0;31m                 \u001b[0mnum_inserted\u001b[0m \u001b[0;34m=\u001b[0m \u001b[0mexec_insert\u001b[0m\u001b[0;34m(\u001b[0m\u001b[0mconn\u001b[0m\u001b[0;34m,\u001b[0m \u001b[0mkeys\u001b[0m\u001b[0;34m,\u001b[0m \u001b[0mchunk_iter\u001b[0m\u001b[0;34m)\u001b[0m\u001b[0;34m\u001b[0m\u001b[0;34m\u001b[0m\u001b[0m\n\u001b[0m\u001b[1;32m   1120\u001b[0m                 \u001b[0;31m# GH 46891\u001b[0m\u001b[0;34m\u001b[0m\u001b[0;34m\u001b[0m\u001b[0m\n\u001b[1;32m   1121\u001b[0m                 \u001b[0;32mif\u001b[0m \u001b[0mnum_inserted\u001b[0m \u001b[0;32mis\u001b[0m \u001b[0;32mnot\u001b[0m \u001b[0;32mNone\u001b[0m\u001b[0;34m:\u001b[0m\u001b[0;34m\u001b[0m\u001b[0;34m\u001b[0m\u001b[0m\n",
            "\u001b[0;32m/usr/local/lib/python3.11/dist-packages/pandas/io/sql.py\u001b[0m in \u001b[0;36m_execute_insert\u001b[0;34m(self, conn, keys, data_iter)\u001b[0m\n\u001b[1;32m   2545\u001b[0m     \u001b[0;32mdef\u001b[0m \u001b[0m_execute_insert\u001b[0m\u001b[0;34m(\u001b[0m\u001b[0mself\u001b[0m\u001b[0;34m,\u001b[0m \u001b[0mconn\u001b[0m\u001b[0;34m,\u001b[0m \u001b[0mkeys\u001b[0m\u001b[0;34m,\u001b[0m \u001b[0mdata_iter\u001b[0m\u001b[0;34m)\u001b[0m \u001b[0;34m->\u001b[0m \u001b[0mint\u001b[0m\u001b[0;34m:\u001b[0m\u001b[0;34m\u001b[0m\u001b[0;34m\u001b[0m\u001b[0m\n\u001b[1;32m   2546\u001b[0m         \u001b[0mdata_list\u001b[0m \u001b[0;34m=\u001b[0m \u001b[0mlist\u001b[0m\u001b[0;34m(\u001b[0m\u001b[0mdata_iter\u001b[0m\u001b[0;34m)\u001b[0m\u001b[0;34m\u001b[0m\u001b[0;34m\u001b[0m\u001b[0m\n\u001b[0;32m-> 2547\u001b[0;31m         \u001b[0mconn\u001b[0m\u001b[0;34m.\u001b[0m\u001b[0mexecutemany\u001b[0m\u001b[0;34m(\u001b[0m\u001b[0mself\u001b[0m\u001b[0;34m.\u001b[0m\u001b[0minsert_statement\u001b[0m\u001b[0;34m(\u001b[0m\u001b[0mnum_rows\u001b[0m\u001b[0;34m=\u001b[0m\u001b[0;36m1\u001b[0m\u001b[0;34m)\u001b[0m\u001b[0;34m,\u001b[0m \u001b[0mdata_list\u001b[0m\u001b[0;34m)\u001b[0m\u001b[0;34m\u001b[0m\u001b[0;34m\u001b[0m\u001b[0m\n\u001b[0m\u001b[1;32m   2548\u001b[0m         \u001b[0;32mreturn\u001b[0m \u001b[0mconn\u001b[0m\u001b[0;34m.\u001b[0m\u001b[0mrowcount\u001b[0m\u001b[0;34m\u001b[0m\u001b[0;34m\u001b[0m\u001b[0m\n\u001b[1;32m   2549\u001b[0m \u001b[0;34m\u001b[0m\u001b[0m\n",
            "\u001b[0;31mOperationalError\u001b[0m: table CarSales has no column named km_driven"
          ]
        }
      ]
    },
    {
      "cell_type": "code",
      "source": [
        "print(df.columns)\n"
      ],
      "metadata": {
        "colab": {
          "base_uri": "https://localhost:8080/"
        },
        "id": "nVWuJTNuTdUJ",
        "outputId": "7b98d377-f108-4f68-9ef2-824ff234569e"
      },
      "execution_count": null,
      "outputs": [
        {
          "output_type": "stream",
          "name": "stdout",
          "text": [
            "Index(['price', 'km_driven', 'year', 'seller_type', 'age', 'depreciation',\n",
            "       'average_price_by_year', 'price_difference'],\n",
            "      dtype='object')\n"
          ]
        }
      ]
    },
    {
      "cell_type": "code",
      "source": [
        "cursor.execute('''CREATE TABLE IF NOT EXISTS CarSales (\n",
        "    car_id INTEGER PRIMARY KEY,\n",
        "    sale_date TEXT,\n",
        "    customer_name TEXT,\n",
        "    gender TEXT,\n",
        "    annual_income REAL,\n",
        "    dealer_name TEXT,\n",
        "    company TEXT,\n",
        "    model TEXT,\n",
        "    engine TEXT,\n",
        "    price REAL,\n",
        "    km_driven INTEGER,  -- ✅ Add km_driven column\n",
        "    transmission TEXT,\n",
        "    color TEXT,\n",
        "    dealer_no INTEGER,\n",
        "    body_style TEXT,\n",
        "    phone TEXT,\n",
        "    dealer_region TEXT\n",
        ")''')\n"
      ],
      "metadata": {
        "colab": {
          "base_uri": "https://localhost:8080/"
        },
        "id": "KpE0LNqJTkA9",
        "outputId": "dd233408-ec57-47f1-d5da-eee7f644f81a"
      },
      "execution_count": null,
      "outputs": [
        {
          "data": {
            "text/plain": [
              "<sqlite3.Cursor at 0x7dc475da1e40>"
            ]
          },
          "execution_count": 51,
          "metadata": {},
          "output_type": "execute_result"
        }
      ]
    },
    {
      "cell_type": "code",
      "source": [
        "\n",
        "print(df.columns)\n",
        "\n"
      ],
      "metadata": {
        "colab": {
          "base_uri": "https://localhost:8080/"
        },
        "id": "YkNEZFDOTm2b",
        "outputId": "7583b421-d098-4841-ffac-6ba5aee9e728"
      },
      "execution_count": null,
      "outputs": [
        {
          "output_type": "stream",
          "name": "stdout",
          "text": [
            "Index(['price', 'year', 'seller_type', 'age', 'depreciation',\n",
            "       'average_price_by_year', 'price_difference'],\n",
            "      dtype='object')\n"
          ]
        }
      ]
    },
    {
      "cell_type": "code",
      "source": [
        "if \"km_driven\" in df.columns:\n",
        "    df.drop(columns=[\"km_driven\"], inplace=True)"
      ],
      "metadata": {
        "id": "TGIMpqq9TwOA"
      },
      "execution_count": null,
      "outputs": []
    },
    {
      "cell_type": "code",
      "source": [
        "import sqlite3\n",
        "print(\"SQLite Version:\", sqlite3.sqlite_version)\n"
      ],
      "metadata": {
        "id": "AP6gpP6PUGOJ",
        "colab": {
          "base_uri": "https://localhost:8080/"
        },
        "outputId": "7458f8a2-de33-4c68-ecb9-1783d804ee57"
      },
      "execution_count": 59,
      "outputs": [
        {
          "output_type": "stream",
          "name": "stdout",
          "text": [
            "SQLite Version: 3.37.2\n"
          ]
        }
      ]
    },
    {
      "cell_type": "code",
      "source": [
        "import sqlite3\n",
        "import pandas as pd\n",
        "\n",
        "# Step 1: Load dataset into a Pandas DataFrame\n",
        "df = pd.read_csv(r\"C:\\college\\PWDS\\assignment\\dataset1.csv\")  # Update the correct path\n",
        "\n",
        "# Step 2: Connect to SQLite database (creates file if not exists)\n",
        "conn = sqlite3.connect(\"CarSalesDB.db\")\n",
        "cursor = conn.cursor()\n",
        "\n",
        "# Step 3: Create table in SQLite (Ensure column names match your dataset)\n",
        "cursor.execute('''\n",
        "    CREATE TABLE IF NOT EXISTS CarSales (\n",
        "        car_id INTEGER PRIMARY KEY,\n",
        "        sale_date TEXT,\n",
        "        customer_name TEXT,\n",
        "        gender TEXT,\n",
        "        annual_income REAL,\n",
        "        dealer_name TEXT,\n",
        "        company TEXT,\n",
        "        model TEXT,\n",
        "        engine TEXT,\n",
        "        price REAL,\n",
        "        transmission TEXT,\n",
        "        color TEXT,\n",
        "        dealer_no INTEGER,\n",
        "        body_style TEXT,\n",
        "        phone TEXT,\n",
        "        dealer_region TEXT\n",
        "    )\n",
        "''')\n",
        "\n",
        "# Step 4: Insert data into the database\n",
        "df.to_sql(\"CarSales\", conn, if_exists=\"replace\", index=False)  # 'replace' avoids duplication\n",
        "\n",
        "print(\"✅ Data successfully stored in SQLite Database!\")\n",
        "\n",
        "# Step 5: Close the connection\n",
        "conn.commit()\n",
        "conn.close()\n",
        "\n"
      ],
      "metadata": {
        "colab": {
          "base_uri": "https://localhost:8080/"
        },
        "id": "TfAZhGiAZchs",
        "outputId": "4f075c68-fc1d-4dab-828d-ac058b99da64"
      },
      "execution_count": 65,
      "outputs": [
        {
          "output_type": "stream",
          "name": "stdout",
          "text": [
            "✅ Data successfully stored in SQLite Database!\n"
          ]
        }
      ]
    },
    {
      "cell_type": "code",
      "source": [
        "conn = sqlite3.connect(\"CarSalesDB.db\")\n",
        "df_check = pd.read_sql(\"SELECT * FROM CarSales LIMIT 5\", conn)\n",
        "print(df_check)\n",
        "conn.close()"
      ],
      "metadata": {
        "colab": {
          "base_uri": "https://localhost:8080/"
        },
        "id": "E-PA1kubar3u",
        "outputId": "3ff7a3b0-2d6b-4dc6-d15c-e1d9d517093c"
      },
      "execution_count": 63,
      "outputs": [
        {
          "output_type": "stream",
          "name": "stdout",
          "text": [
            "   selling_price  km_driven  year seller_type  age  depreciation  \\\n",
            "0          50000      15000  2018  Individual    5       10000.0   \n",
            "1          70000      30000  2016      Dealer    7       10000.0   \n",
            "2          60000      25000  2017  Individual    6       10000.0   \n",
            "3          45000       5000  2019      Dealer    4       11250.0   \n",
            "4          80000      40000  2015  Individual    8       10000.0   \n",
            "\n",
            "   average_price_by_year  price_difference  \n",
            "0                50000.0               0.0  \n",
            "1                70000.0               0.0  \n",
            "2                60000.0               0.0  \n",
            "3                45000.0               0.0  \n",
            "4                80000.0               0.0  \n"
          ]
        }
      ]
    },
    {
      "cell_type": "code",
      "source": [
        "import sqlite3\n",
        "\n",
        "# ✅ Database connection\n",
        "conn = sqlite3.connect(\"CarSalesDB.db\")\n",
        "cursor = conn.cursor()\n",
        "\n",
        "# ✅ Delete old table (IF EXISTS)\n",
        "cursor.execute(\"DROP TABLE IF EXISTS CarSales;\")\n",
        "\n",
        "# ✅ Create new CarSales table\n",
        "cursor.execute(\"\"\"\n",
        "CREATE TABLE CarSales (\n",
        "    car_id INTEGER PRIMARY KEY,\n",
        "    sale_date TEXT,\n",
        "    customer_name TEXT,\n",
        "    gender TEXT,\n",
        "    annual_income REAL,\n",
        "    dealer_name TEXT,\n",
        "    company TEXT,\n",
        "    model TEXT,\n",
        "    engine TEXT,\n",
        "    price REAL,\n",
        "    transmission TEXT,\n",
        "    color TEXT,\n",
        "    dealer_no INTEGER,\n",
        "    body_style TEXT,\n",
        "    phone TEXT,\n",
        "    dealer_region TEXT\n",
        ");\n",
        "\"\"\")\n",
        "\n",
        "# ✅ Insert sample data\n",
        "cursor.execute(\"\"\"\n",
        "INSERT INTO CarSales (car_id, sale_date, customer_name, gender, annual_income, dealer_name, company, model, engine, price, transmission, color, dealer_no, body_style, phone, dealer_region)\n",
        "VALUES\n",
        "(1, '2024-03-15', 'John Doe', 'Male', 55000, 'Auto World', 'Toyota', 'Corolla', 'I4', 18000, 'Automatic', 'Red', 101, 'Sedan', '1234567890', 'North');\n",
        "\"\"\")\n",
        "\n",
        "# ✅ Save changes & close connection\n",
        "conn.commit()\n",
        "conn.close()\n",
        "\n",
        "print(\"✅ Table recreated & sample data inserted successfully!\")\n"
      ],
      "metadata": {
        "colab": {
          "base_uri": "https://localhost:8080/"
        },
        "id": "0lNU6BJaay0m",
        "outputId": "b9e82f67-514d-4af7-d7da-e2608f168fb6"
      },
      "execution_count": 66,
      "outputs": [
        {
          "output_type": "stream",
          "name": "stdout",
          "text": [
            "✅ Table recreated & sample data inserted successfully!\n"
          ]
        }
      ]
    },
    {
      "cell_type": "code",
      "source": [
        "import sqlite3\n",
        "\n",
        "# ✅ Database se connect karein\n",
        "conn = sqlite3.connect(\"CarSalesDB.db\")\n",
        "cursor = conn.cursor()\n",
        "\n",
        "# ✅ Table ka structure check karein\n",
        "cursor.execute(\"PRAGMA table_info(CarSales);\")\n",
        "\n",
        "# ✅ Results ko print karein\n",
        "columns = cursor.fetchall()\n",
        "for col in columns:\n",
        "    print(col)\n",
        "\n",
        "# ✅ Connection close karein\n",
        "conn.close()\n",
        "\n"
      ],
      "metadata": {
        "colab": {
          "base_uri": "https://localhost:8080/"
        },
        "id": "uBy1bog1pbVy",
        "outputId": "28a2a26d-12f1-450b-9c17-13e0f5010a7e"
      },
      "execution_count": 68,
      "outputs": [
        {
          "output_type": "stream",
          "name": "stdout",
          "text": [
            "(0, 'car_id', 'INTEGER', 0, None, 1)\n",
            "(1, 'sale_date', 'TEXT', 0, None, 0)\n",
            "(2, 'customer_name', 'TEXT', 0, None, 0)\n",
            "(3, 'gender', 'TEXT', 0, None, 0)\n",
            "(4, 'annual_income', 'REAL', 0, None, 0)\n",
            "(5, 'dealer_name', 'TEXT', 0, None, 0)\n",
            "(6, 'company', 'TEXT', 0, None, 0)\n",
            "(7, 'model', 'TEXT', 0, None, 0)\n",
            "(8, 'engine', 'TEXT', 0, None, 0)\n",
            "(9, 'price', 'REAL', 0, None, 0)\n",
            "(10, 'transmission', 'TEXT', 0, None, 0)\n",
            "(11, 'color', 'TEXT', 0, None, 0)\n",
            "(12, 'dealer_no', 'INTEGER', 0, None, 0)\n",
            "(13, 'body_style', 'TEXT', 0, None, 0)\n",
            "(14, 'phone', 'TEXT', 0, None, 0)\n",
            "(15, 'dealer_region', 'TEXT', 0, None, 0)\n"
          ]
        }
      ]
    },
    {
      "cell_type": "code",
      "source": [
        "\n",
        "import sqlite3\n",
        "\n",
        "conn = sqlite3.connect(\"CarSalesDB.db\")  # Connect to the database\n",
        "cursor = conn.cursor()\n",
        "\n",
        "cursor.execute(\"SELECT name FROM sqlite_master WHERE type='table';\")\n",
        "tables = cursor.fetchall()\n",
        "\n",
        "print(\"Tables in the database:\", tables)\n",
        "\n",
        "conn.close()\n",
        "\n"
      ],
      "metadata": {
        "colab": {
          "base_uri": "https://localhost:8080/"
        },
        "id": "Gt3oCaEkpjmt",
        "outputId": "c8ce6747-56bc-4d13-aabd-7fb05a4fddd3"
      },
      "execution_count": 2,
      "outputs": [
        {
          "output_type": "stream",
          "name": "stdout",
          "text": [
            "Tables in the database: []\n"
          ]
        }
      ]
    },
    {
      "cell_type": "code",
      "source": [
        "conn = sqlite3.connect(\"CarSalesDB.db\")\n",
        "cursor = conn.cursor()\n",
        "\n",
        "cursor.execute(\"\"\"\n",
        "CREATE TABLE IF NOT EXISTS CarSales (\n",
        "    car_id INTEGER PRIMARY KEY,\n",
        "    sale_date TEXT,\n",
        "    customer_name TEXT,\n",
        "    gender TEXT,\n",
        "    annual_income REAL,\n",
        "    dealer_name TEXT,\n",
        "    company TEXT,\n",
        "    model TEXT,\n",
        "    engine TEXT,\n",
        "    price REAL,\n",
        "    transmission TEXT,\n",
        "    color TEXT,\n",
        "    dealer_no INTEGER,\n",
        "    body_style TEXT,\n",
        "    phone TEXT,\n",
        "    dealer_region TEXT\n",
        ");\n",
        "\"\"\")\n",
        "\n",
        "conn.commit()\n",
        "conn.close()\n"
      ],
      "metadata": {
        "id": "PaDjcckxBXu3"
      },
      "execution_count": 9,
      "outputs": []
    },
    {
      "cell_type": "code",
      "source": [
        "import sqlite3\n",
        "\n",
        "# Connect to the database\n",
        "conn = sqlite3.connect(\"CarSalesDB.db\")\n",
        "cursor = conn.cursor()\n",
        "\n",
        "# Check if data exists\n",
        "cursor.execute(\"SELECT COUNT(*) FROM CarSales\")\n",
        "count = cursor.fetchone()[0]\n",
        "\n",
        "if count == 0:\n",
        "    print(\"No data found, inserting sample data...\")\n",
        "    cursor.execute(\"\"\"\n",
        "    INSERT INTO CarSales (sale_date, customer_name, gender, annual_income, dealer_name, company, model, engine, price, transmission, color, dealer_no, body_style, phone, dealer_region)\n",
        "    VALUES\n",
        "        ('2024-03-10', 'John Doe', 'Male', 50000, 'XYZ Motors', 'Toyota', 'Corolla', 'I4', 20000, 'Automatic', 'Red', 101, 'Sedan', '1234567890', 'North'),\n",
        "        ('2024-03-15', 'Jane Smith', 'Female', 60000, 'ABC Cars', 'Honda', 'Civic', 'I4', 22000, 'Manual', 'Blue', 102, 'Sedan', '0987654321', 'South');\n",
        "    \"\"\")\n",
        "    conn.commit()\n",
        "    print(\"Data inserted successfully!\")\n",
        "else:\n",
        "    print(\"Data already exists in the table.\")\n",
        "\n",
        "# Close the connection\n",
        "conn.close()\n",
        "\n"
      ],
      "metadata": {
        "colab": {
          "base_uri": "https://localhost:8080/"
        },
        "id": "U9_of9OjBnS2",
        "outputId": "d5c4da0b-d50c-4069-c1f1-c9256d857805"
      },
      "execution_count": 11,
      "outputs": [
        {
          "output_type": "stream",
          "name": "stdout",
          "text": [
            "Data already exists in the table.\n"
          ]
        }
      ]
    },
    {
      "cell_type": "code",
      "source": [
        "#1. What is the average selling price of cars for each dealer, and how does it compare across different dealers?\n",
        "import sqlite3\n",
        "import pandas as pd\n",
        "\n",
        "# Connect to SQLite database\n",
        "conn = sqlite3.connect(\"CarSalesDB.db\")\n",
        "cursor = conn.cursor()\n",
        "\n",
        "# Execute SQL Query\n",
        "query = \"\"\"\n",
        "SELECT dealer_name, AVG(price) AS avg_selling_price\n",
        "FROM CarSales\n",
        "GROUP BY dealer_name\n",
        "ORDER BY avg_selling_price DESC;\n",
        "\"\"\"\n",
        "df = pd.read_sql_query(query, conn)\n",
        "\n",
        "# Close connection\n",
        "conn.close()\n",
        "\n",
        "# Display result\n",
        "print(df)\n"
      ],
      "metadata": {
        "colab": {
          "base_uri": "https://localhost:8080/"
        },
        "id": "oZ88bOfdCIPS",
        "outputId": "90946363-fd91-47b6-9c45-dce9338876fe"
      },
      "execution_count": 12,
      "outputs": [
        {
          "output_type": "stream",
          "name": "stdout",
          "text": [
            "  dealer_name  avg_selling_price\n",
            "0    ABC Cars            22000.0\n",
            "1  XYZ Motors            20000.0\n"
          ]
        }
      ]
    },
    {
      "cell_type": "code",
      "source": [
        "#2. Which car brand (Company) has the highest variation in prices, and what does this tell us about the pricing trends?\n",
        "import sqlite3\n",
        "import pandas as pd\n",
        "\n",
        "# Connect to SQLite database\n",
        "conn = sqlite3.connect(\"CarSalesDB.db\")\n",
        "\n",
        "# Execute SQL Query\n",
        "query = \"\"\"\n",
        "WITH PriceStats AS (\n",
        "    SELECT company,\n",
        "           AVG(price) AS avg_price\n",
        "    FROM CarSales\n",
        "    GROUP BY company\n",
        ")\n",
        "SELECT c.company,\n",
        "       MAX(c.price) - MIN(c.price) AS price_range,\n",
        "       ROUND(AVG(c.price), 2) AS avg_price,\n",
        "       ROUND(SQRT(SUM((c.price - p.avg_price) * (c.price - p.avg_price)) / COUNT(c.price)), 2) AS price_std_dev\n",
        "FROM CarSales c\n",
        "JOIN PriceStats p ON c.company = p.company\n",
        "GROUP BY c.company\n",
        "ORDER BY price_std_dev DESC;\n",
        "\"\"\"\n",
        "df = pd.read_sql_query(query, conn)\n",
        "\n",
        "# Close connection\n",
        "conn.close()\n",
        "\n",
        "# Display result\n",
        "print(df)\n"
      ],
      "metadata": {
        "colab": {
          "base_uri": "https://localhost:8080/"
        },
        "id": "y_wxLpU8rEY2",
        "outputId": "82ffe095-596d-4455-a610-cd7f248b65b9"
      },
      "execution_count": 13,
      "outputs": [
        {
          "output_type": "stream",
          "name": "stdout",
          "text": [
            "  company  price_range  avg_price  price_std_dev\n",
            "0  Toyota          0.0    20000.0            0.0\n",
            "1   Honda          0.0    22000.0            0.0\n"
          ]
        }
      ]
    },
    {
      "cell_type": "code",
      "source": [
        "#3. What is the distribution of car prices for each transmission type, and how do the interquartile ranges compare\n",
        "import sqlite3\n",
        "import pandas as pd\n",
        "\n",
        "# Connect to SQLite database\n",
        "conn = sqlite3.connect(\"CarSalesDB.db\")\n",
        "\n",
        "# Fetch car prices grouped by transmission type\n",
        "query = \"\"\"\n",
        "SELECT transmission, price FROM CarSales;\n",
        "\"\"\"\n",
        "df = pd.read_sql(query, conn)\n",
        "\n",
        "# Close the database connection\n",
        "conn.close()\n",
        "\n",
        "# Compute statistics for each transmission type\n",
        "iqr_stats = df.groupby(\"transmission\")[\"price\"].describe(percentiles=[0.25, 0.75])\n",
        "iqr_stats[\"IQR\"] = iqr_stats[\"75%\"] - iqr_stats[\"25%\"]  # Compute Interquartile Range\n",
        "\n",
        "# Select relevant columns\n",
        "iqr_stats = iqr_stats[[\"min\", \"max\", \"mean\", \"25%\", \"75%\", \"IQR\"]]\n",
        "\n",
        "# Rename columns for clarity\n",
        "iqr_stats.columns = [\"Min Price\", \"Max Price\", \"Avg Price\", \"Q1 (25%)\", \"Q3 (75%)\", \"IQR\"]\n",
        "\n",
        "# Display results\n",
        "print(iqr_stats)\n"
      ],
      "metadata": {
        "colab": {
          "base_uri": "https://localhost:8080/"
        },
        "id": "Q5y12xLUratb",
        "outputId": "332c15e8-286d-4424-9319-6bb525fbc877"
      },
      "execution_count": 14,
      "outputs": [
        {
          "output_type": "stream",
          "name": "stdout",
          "text": [
            "              Min Price  Max Price  Avg Price  Q1 (25%)  Q3 (75%)  IQR\n",
            "transmission                                                          \n",
            "Automatic       20000.0    20000.0    20000.0   20000.0   20000.0  0.0\n",
            "Manual          22000.0    22000.0    22000.0   22000.0   22000.0  0.0\n"
          ]
        }
      ]
    },
    {
      "cell_type": "code",
      "source": [
        "#4. What is the distribution of car prices across different regions?\n",
        "import sqlite3\n",
        "import pandas as pd\n",
        "\n",
        "# Connect to SQLite database\n",
        "conn = sqlite3.connect(\"CarSalesDB.db\")\n",
        "\n",
        "# Fetch car prices grouped by dealer region\n",
        "query = \"\"\"\n",
        "SELECT dealer_region, price FROM CarSales;\n",
        "\"\"\"\n",
        "df = pd.read_sql(query, conn)\n",
        "\n",
        "# Close the database connection\n",
        "conn.close()\n",
        "\n",
        "# Compute statistics for each region\n",
        "region_stats = df.groupby(\"dealer_region\")[\"price\"].describe(percentiles=[0.25, 0.50, 0.75])\n",
        "region_stats[\"IQR\"] = region_stats[\"75%\"] - region_stats[\"25%\"]  # Compute Interquartile Range\n",
        "\n",
        "# Select relevant columns\n",
        "region_stats = region_stats[[\"min\", \"max\", \"mean\", \"25%\", \"50%\", \"75%\", \"IQR\"]]\n",
        "\n",
        "# Rename columns for clarity\n",
        "region_stats.columns = [\"Min Price\", \"Max Price\", \"Avg Price\", \"Q1 (25%)\", \"Median (50%)\", \"Q3 (75%)\", \"IQR\"]\n",
        "\n",
        "# Display results\n",
        "print(region_stats)\n"
      ],
      "metadata": {
        "colab": {
          "base_uri": "https://localhost:8080/"
        },
        "id": "JPipTmV6rHyY",
        "outputId": "62220f46-0f73-403f-b91a-34d144f217a1"
      },
      "execution_count": 15,
      "outputs": [
        {
          "output_type": "stream",
          "name": "stdout",
          "text": [
            "               Min Price  Max Price  Avg Price  Q1 (25%)  Median (50%)  \\\n",
            "dealer_region                                                            \n",
            "North            20000.0    20000.0    20000.0   20000.0       20000.0   \n",
            "South            22000.0    22000.0    22000.0   22000.0       22000.0   \n",
            "\n",
            "               Q3 (75%)  IQR  \n",
            "dealer_region                 \n",
            "North           20000.0  0.0  \n",
            "South           22000.0  0.0  \n"
          ]
        }
      ]
    },
    {
      "cell_type": "code",
      "source": [
        "#5. What is the distribution of cars based on body styles?\n",
        "import sqlite3\n",
        "import pandas as pd\n",
        "\n",
        "conn = sqlite3.connect(\"CarSalesDB.db\")\n",
        "\n",
        "query = \"SELECT body_style, COUNT(*) AS count FROM CarSales GROUP BY body_style;\"\n",
        "df = pd.read_sql(query, conn)\n",
        "\n",
        "conn.close()\n",
        "\n",
        "print(df)\n"
      ],
      "metadata": {
        "colab": {
          "base_uri": "https://localhost:8080/"
        },
        "id": "WpqIXUCErLLA",
        "outputId": "20735a8b-e025-4a3c-b895-0dae6dfcd819"
      },
      "execution_count": 16,
      "outputs": [
        {
          "output_type": "stream",
          "name": "stdout",
          "text": [
            "  body_style  count\n",
            "0      Sedan      2\n"
          ]
        }
      ]
    },
    {
      "cell_type": "code",
      "source": [
        "#6. How does the average selling price of cars vary by customer gender and annual income?\n",
        "import sqlite3\n",
        "import pandas as pd\n",
        "\n",
        "conn = sqlite3.connect(\"CarSalesDB.db\")\n",
        "\n",
        "query = \"\"\"\n",
        "SELECT gender,\n",
        "       CASE\n",
        "           WHEN annual_income < 30000 THEN 'Low Income'\n",
        "           WHEN annual_income BETWEEN 30000 AND 70000 THEN 'Middle Income'\n",
        "           ELSE 'High Income'\n",
        "       END AS income_group,\n",
        "       ROUND(AVG(price), 2) AS avg_selling_price\n",
        "FROM CarSales\n",
        "GROUP BY gender, income_group\n",
        "ORDER BY income_group, gender;\n",
        "\"\"\"\n",
        "\n",
        "df = pd.read_sql(query, conn)\n",
        "conn.close()\n",
        "\n",
        "print(df)\n"
      ],
      "metadata": {
        "colab": {
          "base_uri": "https://localhost:8080/"
        },
        "id": "S7jRllLBrOnI",
        "outputId": "b5a975c1-1a5b-455b-cbe3-9ca577c7e84c"
      },
      "execution_count": 17,
      "outputs": [
        {
          "output_type": "stream",
          "name": "stdout",
          "text": [
            "   gender   income_group  avg_selling_price\n",
            "0  Female  Middle Income            22000.0\n",
            "1    Male  Middle Income            20000.0\n"
          ]
        }
      ]
    },
    {
      "cell_type": "code",
      "source": [
        "#7. What is the distribution of car prices by region, and how does the number of cars sold vary by region?\n",
        "import sqlite3\n",
        "import pandas as pd\n",
        "\n",
        "conn = sqlite3.connect(\"CarSalesDB.db\")\n",
        "\n",
        "query = \"\"\"\n",
        "SELECT dealer_region,\n",
        "       COUNT(*) AS total_cars_sold,\n",
        "       ROUND(AVG(price), 2) AS avg_price,\n",
        "       MIN(price) AS min_price,\n",
        "       MAX(price) AS max_price\n",
        "FROM CarSales\n",
        "GROUP BY dealer_region\n",
        "ORDER BY total_cars_sold DESC;\n",
        "\"\"\"\n",
        "\n",
        "df = pd.read_sql(query, conn)\n",
        "conn.close()\n",
        "\n",
        "print(df)\n"
      ],
      "metadata": {
        "colab": {
          "base_uri": "https://localhost:8080/"
        },
        "id": "7EzglhqFrS0v",
        "outputId": "0290cd88-55a9-47e6-b2e6-7c7cd949371d"
      },
      "execution_count": 18,
      "outputs": [
        {
          "output_type": "stream",
          "name": "stdout",
          "text": [
            "  dealer_region  total_cars_sold  avg_price  min_price  max_price\n",
            "0         South                1    22000.0    22000.0    22000.0\n",
            "1         North                1    20000.0    20000.0    20000.0\n"
          ]
        }
      ]
    },
    {
      "cell_type": "code",
      "source": [
        "#8. How does the average car price differ between cars with different engine size\n",
        "import sqlite3\n",
        "import pandas as pd\n",
        "\n",
        "conn = sqlite3.connect(\"CarSalesDB.db\")\n",
        "\n",
        "query = \"\"\"\n",
        "SELECT engine,\n",
        "       ROUND(AVG(price), 2) AS avg_price,\n",
        "       MIN(price) AS min_price,\n",
        "       MAX(price) AS max_price,\n",
        "       COUNT(*) AS total_cars\n",
        "FROM CarSales\n",
        "GROUP BY engine\n",
        "ORDER BY avg_price DESC;\n",
        "\"\"\"\n",
        "\n",
        "df = pd.read_sql(query, conn)\n",
        "conn.close()\n",
        "\n",
        "print(df)\n"
      ],
      "metadata": {
        "colab": {
          "base_uri": "https://localhost:8080/"
        },
        "id": "qY77DK2ortDu",
        "outputId": "7343c4a4-fc43-4e9d-ce33-e6571e5fca63"
      },
      "execution_count": 19,
      "outputs": [
        {
          "output_type": "stream",
          "name": "stdout",
          "text": [
            "  engine  avg_price  min_price  max_price  total_cars\n",
            "0     I4    21000.0    20000.0    22000.0           2\n"
          ]
        }
      ]
    },
    {
      "cell_type": "code",
      "source": [
        "#9. How do car prices vary based on the customer’s annual income bracket?\n",
        "import sqlite3\n",
        "import pandas as pd\n",
        "\n",
        "conn = sqlite3.connect(\"CarSalesDB.db\")\n",
        "\n",
        "query = \"\"\"\n",
        "SELECT\n",
        "    CASE\n",
        "        WHEN annual_income < 30000 THEN 'Low Income (<30K)'\n",
        "        WHEN annual_income BETWEEN 30000 AND 70000 THEN 'Middle Income (30K-70K)'\n",
        "        ELSE 'High Income (>70K)'\n",
        "    END AS income_bracket,\n",
        "    ROUND(AVG(price), 2) AS avg_price,\n",
        "    MIN(price) AS min_price,\n",
        "    MAX(price) AS max_price,\n",
        "    COUNT(*) AS total_cars\n",
        "FROM CarSales\n",
        "GROUP BY income_bracket\n",
        "ORDER BY avg_price DESC;\n",
        "\"\"\"\n",
        "\n",
        "df = pd.read_sql(query, conn)\n",
        "conn.close()\n",
        "\n",
        "print(df)\n"
      ],
      "metadata": {
        "colab": {
          "base_uri": "https://localhost:8080/"
        },
        "id": "MKDSV7kvrlfy",
        "outputId": "7802ebb1-213a-4d60-9e1a-1512949eaa71"
      },
      "execution_count": 20,
      "outputs": [
        {
          "output_type": "stream",
          "name": "stdout",
          "text": [
            "            income_bracket  avg_price  min_price  max_price  total_cars\n",
            "0  Middle Income (30K-70K)    21000.0    20000.0    22000.0           2\n"
          ]
        }
      ]
    },
    {
      "cell_type": "code",
      "source": [
        "#10. What are the top 5 car models with the highest number of sales, and how does their price distribution look\n",
        "import sqlite3\n",
        "import pandas as pd\n",
        "\n",
        "conn = sqlite3.connect(\"CarSalesDB.db\")\n",
        "\n",
        "query = \"\"\"\n",
        "SELECT model, COUNT(*) AS total_sales,\n",
        "       ROUND(AVG(price), 2) AS avg_price,\n",
        "       MIN(price) AS min_price,\n",
        "       MAX(price) AS max_price\n",
        "FROM CarSales\n",
        "GROUP BY model\n",
        "ORDER BY total_sales DESC\n",
        "LIMIT 5;\n",
        "\"\"\"\n",
        "\n",
        "df = pd.read_sql(query, conn)\n",
        "conn.close()\n",
        "\n",
        "print(df)\n"
      ],
      "metadata": {
        "colab": {
          "base_uri": "https://localhost:8080/"
        },
        "id": "tpU26qIcrogS",
        "outputId": "7befcb76-5cdd-4a96-96c4-4403c5551391"
      },
      "execution_count": 23,
      "outputs": [
        {
          "output_type": "stream",
          "name": "stdout",
          "text": [
            "     model  total_sales  avg_price  min_price  max_price\n",
            "0  Corolla            1    20000.0    20000.0    20000.0\n",
            "1    Civic            1    22000.0    22000.0    22000.0\n"
          ]
        }
      ]
    },
    {
      "cell_type": "code",
      "source": [
        "#11. How does car price vary with engine size across different car colors, and which colors have the highest price variation\n",
        "import sqlite3\n",
        "import pandas as pd\n",
        "\n",
        "conn = sqlite3.connect(\"CarSalesDB.db\")\n",
        "\n",
        "query = \"\"\"\n",
        "SELECT color, engine,\n",
        "       ROUND(AVG(price), 2) AS avg_price,\n",
        "       MAX(price) - MIN(price) AS price_variation\n",
        "FROM CarSales\n",
        "GROUP BY color, engine\n",
        "ORDER BY price_variation DESC;\n",
        "\"\"\"\n",
        "\n",
        "df = pd.read_sql(query, conn)\n",
        "conn.close()\n",
        "\n",
        "print(df)\n"
      ],
      "metadata": {
        "colab": {
          "base_uri": "https://localhost:8080/"
        },
        "id": "OtuAfGRnsB7g",
        "outputId": "471d253e-9e20-467f-b46f-b1b7fdbce3ae"
      },
      "execution_count": 22,
      "outputs": [
        {
          "output_type": "stream",
          "name": "stdout",
          "text": [
            "  color engine  avg_price  price_variation\n",
            "0  Blue     I4    22000.0              0.0\n",
            "1   Red     I4    20000.0              0.0\n"
          ]
        }
      ]
    },
    {
      "cell_type": "code",
      "source": [
        "#12.Is there any seasonal trend in car sales based on the date of sale\n",
        "import sqlite3\n",
        "import pandas as pd\n",
        "\n",
        "conn = sqlite3.connect(\"CarSalesDB.db\")\n",
        "\n",
        "query = \"\"\"\n",
        "SELECT strftime('%m', sale_date) AS sale_month,\n",
        "       COUNT(*) AS total_sales\n",
        "FROM CarSales\n",
        "GROUP BY sale_month\n",
        "ORDER BY total_sales DESC;\n",
        "\"\"\"\n",
        "\n",
        "df = pd.read_sql(query, conn)\n",
        "conn.close()\n",
        "\n",
        "print(df)\n"
      ],
      "metadata": {
        "colab": {
          "base_uri": "https://localhost:8080/"
        },
        "id": "OBgAWkImsC2F",
        "outputId": "987dc1ef-5f1c-439b-9ec8-409c8622c7b6"
      },
      "execution_count": 24,
      "outputs": [
        {
          "output_type": "stream",
          "name": "stdout",
          "text": [
            "  sale_month  total_sales\n",
            "0         03            2\n"
          ]
        }
      ]
    },
    {
      "cell_type": "code",
      "source": [
        "#13. How does the car price distribution change when considering different combinations of body style and transmission type\n",
        "import sqlite3\n",
        "import pandas as pd\n",
        "\n",
        "conn = sqlite3.connect(\"CarSalesDB.db\")\n",
        "\n",
        "query = \"\"\"\n",
        "SELECT body_style, transmission,\n",
        "       MIN(price) AS min_price,\n",
        "       MAX(price) AS max_price,\n",
        "       AVG(price) AS avg_price,\n",
        "       COUNT(*) AS total_cars\n",
        "FROM CarSales\n",
        "GROUP BY body_style, transmission\n",
        "ORDER BY avg_price DESC;\n",
        "\"\"\"\n",
        "\n",
        "df = pd.read_sql(query, conn)\n",
        "conn.close()\n",
        "\n",
        "print(df)\n"
      ],
      "metadata": {
        "colab": {
          "base_uri": "https://localhost:8080/"
        },
        "id": "L9czLlCcsDUf",
        "outputId": "fd736c74-f7eb-44d4-84d9-c41b607ad21b"
      },
      "execution_count": 25,
      "outputs": [
        {
          "output_type": "stream",
          "name": "stdout",
          "text": [
            "  body_style transmission  min_price  max_price  avg_price  total_cars\n",
            "0      Sedan       Manual    22000.0    22000.0    22000.0           1\n",
            "1      Sedan    Automatic    20000.0    20000.0    20000.0           1\n"
          ]
        }
      ]
    },
    {
      "cell_type": "code",
      "source": [
        "#14. What is the correlation between car price, engine size, and annual income of customers, and how do these features interact?\n",
        "import sqlite3\n",
        "import pandas as pd\n",
        "\n",
        "conn = sqlite3.connect(\"CarSalesDB.db\")\n",
        "query = \"\"\"\n",
        "SELECT price,\n",
        "       CAST(SUBSTR(engine, 2, LENGTH(engine)) AS REAL) AS engine_size,\n",
        "       annual_income\n",
        "FROM CarSales\n",
        "WHERE engine LIKE 'V%' OR engine LIKE 'I%';\n",
        "\"\"\"\n",
        "\n",
        "\n",
        "df = pd.read_sql(query, conn)\n",
        "conn.close()\n",
        "\n",
        "correlation_matrix = df.corr()\n",
        "\n",
        "print(correlation_matrix)\n"
      ],
      "metadata": {
        "colab": {
          "base_uri": "https://localhost:8080/"
        },
        "id": "JmAAcJdSsDre",
        "outputId": "02c51bfa-796d-4808-d4df-d63ac7f9097a"
      },
      "execution_count": 26,
      "outputs": [
        {
          "output_type": "stream",
          "name": "stdout",
          "text": [
            "               price  engine_size  annual_income\n",
            "price            1.0          NaN            1.0\n",
            "engine_size      NaN          NaN            NaN\n",
            "annual_income    1.0          NaN            1.0\n"
          ]
        }
      ]
    },
    {
      "cell_type": "code",
      "source": [
        "#15. How does the average car price vary across different car models and engine types?\n",
        "import sqlite3\n",
        "import pandas as pd\n",
        "\n",
        "conn = sqlite3.connect(\"CarSalesDB.db\")\n",
        "\n",
        "query = \"\"\"\n",
        "SELECT model, engine, AVG(price) AS avg_price\n",
        "FROM CarSales\n",
        "GROUP BY model, engine\n",
        "ORDER BY avg_price DESC;\n",
        "\"\"\"\n",
        "\n",
        "df = pd.read_sql(query, conn)\n",
        "conn.close()\n",
        "\n",
        "print(df)\n"
      ],
      "metadata": {
        "colab": {
          "base_uri": "https://localhost:8080/"
        },
        "id": "WK783m1ssD_c",
        "outputId": "171d1f20-24a0-44c7-eb3b-b4a68d7ea8ef"
      },
      "execution_count": 27,
      "outputs": [
        {
          "output_type": "stream",
          "name": "stdout",
          "text": [
            "     model engine  avg_price\n",
            "0    Civic     I4    22000.0\n",
            "1  Corolla     I4    20000.0\n"
          ]
        }
      ]
    },
    {
      "cell_type": "markdown",
      "source": [
        "# EDA 3\n"
      ],
      "metadata": {
        "id": "0GFqUo59GY-d"
      }
    },
    {
      "cell_type": "code",
      "source": [
        "import pandas as pd\n",
        "\n",
        "data = {\n",
        "    \"product_id\": [101, 102, 103],\n",
        "    \"product_name\": [\"Smartphone XYZ\", \"Laptop ABC\", \"Wireless Headphones PQR\"],\n",
        "    \"category\": [\"Electronics\", \"Computers\", \"Audio\"],\n",
        "    \"discounted_price\": [29999, 59999, 1999],\n",
        "    \"actual_price\": [34999, 69999, 2499],\n",
        "    \"discount_percentage\": [14, 14, 20],\n",
        "    \"rating\": [4.5, 4.7, 4.2],\n",
        "    \"rating_count\": [1200, 850, 500],\n",
        "    \"about_product\": [\"High-performance smartphone\", \"Powerful laptop for gaming\", \"Noise-canceling headphones\"],\n",
        "    \"user_id\": [2001, 2002, 2003],\n",
        "    \"user_name\": [\"John\", \"Alice\", \"Bob\"],\n",
        "    \"review_id\": [3001, 3002, 3003],\n",
        "    \"review_title\": [\"Great phone\", \"Amazing Performance\", \"Good Sound Quality\"],\n",
        "    \"review_content\": [\"Loved the camera and battery life\", \"Runs all games smoothly\", \"Bass is amazing\"],\n",
        "    \"img_link\": [\"http://image1.jpg\", \"http://image2.jpg\", \"http://image3.jpg\"],\n",
        "    \"product_link\": [\"http://product1.com\", \"http://product2.com\", \"http://product3.com\"]\n",
        "}\n",
        "\n",
        "df = pd.DataFrame(data)\n",
        "df.to_csv(\"amazon_sales.csv\", index=False)\n",
        "\n",
        "print(\"CSV file 'amazon_sales.csv' created successfully!\")\n",
        "\n"
      ],
      "metadata": {
        "colab": {
          "base_uri": "https://localhost:8080/"
        },
        "id": "LZIV1m_MGUi3",
        "outputId": "bc633816-686f-4673-eaf9-c860c4ce0aff"
      },
      "execution_count": 29,
      "outputs": [
        {
          "output_type": "stream",
          "name": "stdout",
          "text": [
            "CSV file 'amazon_sales.csv' created successfully!\n"
          ]
        }
      ]
    },
    {
      "cell_type": "code",
      "source": [
        "#1. What is the average rating for each product category?\n",
        "import pandas as pd\n",
        "\n",
        "df = pd.read_csv(\"amazon_sales.csv\")\n",
        "\n",
        "average_ratings = df.groupby(\"category\")[\"rating\"].mean()\n",
        "\n",
        "print(average_ratings)"
      ],
      "metadata": {
        "colab": {
          "base_uri": "https://localhost:8080/"
        },
        "id": "qPf4P8LLHg5V",
        "outputId": "0e7f7c95-ce02-44d2-c253-3f723c02cd52"
      },
      "execution_count": 30,
      "outputs": [
        {
          "output_type": "stream",
          "name": "stdout",
          "text": [
            "category\n",
            "Audio          4.2\n",
            "Computers      4.7\n",
            "Electronics    4.5\n",
            "Name: rating, dtype: float64\n"
          ]
        }
      ]
    },
    {
      "cell_type": "code",
      "source": [
        "#2.What are the top rating_count products by category?\n",
        "import pandas as pd\n",
        "\n",
        "df = pd.read_csv(\"amazon_sales.csv\")\n",
        "\n",
        "df['rating_count'] = df['rating_count'].astype(int)\n",
        "\n",
        "top_products_by_category = df.loc[df.groupby(\"category\")[\"rating_count\"].idxmax(), [\"category\", \"product_name\", \"rating_count\", \"rating\"]]\n",
        "\n",
        "print(\"Top rating_count products by category:\")\n",
        "print(top_products_by_category)\n",
        "\n",
        "\n"
      ],
      "metadata": {
        "colab": {
          "base_uri": "https://localhost:8080/"
        },
        "id": "BzKyx5FVI83H",
        "outputId": "5bd6c969-bd5a-40c9-ae4c-b081807a4b9f"
      },
      "execution_count": 40,
      "outputs": [
        {
          "output_type": "stream",
          "name": "stdout",
          "text": [
            "Top rating_count products by category:\n",
            "      category             product_name  rating_count  rating\n",
            "2        Audio  Wireless Headphones PQR           500     4.2\n",
            "1    Computers               Laptop ABC           850     4.7\n",
            "0  Electronics           Smartphone XYZ          1200     4.5\n"
          ]
        }
      ]
    },
    {
      "cell_type": "code",
      "source": [
        "#3.What is the distribution of discounted prices vs. actual prices?\n",
        "import pandas as pd\n",
        "import matplotlib.pyplot as plt\n",
        "\n",
        "df = pd.read_csv(\"amazon_sales.csv\")\n",
        "if df['discounted_price'].dtype == 'O':  # 'O' means object (string)\n",
        "    df['discounted_price'] = df['discounted_price'].str.replace('₹', '').str.replace(',', '').astype(float)\n",
        "\n",
        "if df['actual_price'].dtype == 'O':\n",
        "    df['actual_price'] = df['actual_price'].str.replace('₹', '').str.replace(',', '').astype(float)\n",
        "\n",
        "# Plot distribution\n",
        "plt.figure(figsize=(10, 5))\n",
        "plt.hist(df['actual_price'], bins=30, alpha=0.5, label=\"Actual Price\", color='red')\n",
        "plt.hist(df['discounted_price'], bins=30, alpha=0.5, label=\"Discounted Price\", color='blue')\n",
        "plt.xlabel(\"Price\")\n",
        "plt.ylabel(\"Frequency\")\n",
        "plt.title(\"Distribution of Discounted Prices vs. Actual Prices\")\n",
        "plt.legend()\n",
        "plt.show()\n",
        "\n"
      ],
      "metadata": {
        "colab": {
          "base_uri": "https://localhost:8080/",
          "height": 487
        },
        "id": "k-noMxZ-JBAh",
        "outputId": "a19723ff-5977-48b7-f23b-33dbf89a32ef"
      },
      "execution_count": 42,
      "outputs": [
        {
          "output_type": "display_data",
          "data": {
            "text/plain": [
              "<Figure size 1000x500 with 1 Axes>"
            ],
            "image/png": "[encoded data removed]"
          },
          "metadata": {}
        }
      ]
    },
    {
      "cell_type": "code",
      "source": [
        "#4.How does the average discount percentage vary across categories?\n",
        "import pandas as pd\n",
        "import matplotlib.pyplot as plt\n",
        "\n",
        "df = pd.read_csv(\"amazon_sales.csv\")\n",
        "\n",
        "if df['discount_percentage'].dtype == 'O':\n",
        "    df['discount_percentage'] = df['discount_percentage'].str.replace('%', '').astype(float)\n",
        "\n",
        "avg_discount = df.groupby(\"category\")[\"discount_percentage\"].mean().sort_values(ascending=False)\n",
        "\n",
        "plt.figure(figsize=(10, 5))\n",
        "avg_discount.plot(kind='bar', color='skyblue')\n",
        "plt.xlabel(\"Category\")\n",
        "plt.ylabel(\"Average Discount Percentage\")\n",
        "plt.title(\"Average Discount Percentage Across Categories\")\n",
        "plt.xticks(rotation=45)\n",
        "plt.show()\n",
        "\n"
      ],
      "metadata": {
        "colab": {
          "base_uri": "https://localhost:8080/",
          "height": 537
        },
        "id": "hs5TQtb_JCpc",
        "outputId": "b0c6d786-cf54-47b8-c4ff-373561792067"
      },
      "execution_count": 43,
      "outputs": [
        {
          "output_type": "display_data",
          "data": {
            "text/plain": [
              "<Figure size 1000x500 with 1 Axes>"
            ],
            "image/png": "[encoded data removed]"
          },
          "metadata": {}
        }
      ]
    },
    {
      "cell_type": "code",
      "source": [
        "#5.What are the most popular product names?\n",
        "import pandas as pd\n",
        "\n",
        "df = pd.read_csv(\"amazon_sales.csv\")\n",
        "\n",
        "df['rating_count'] = df['rating_count'].astype(int)\n",
        "\n",
        "most_popular_products = df.groupby(\"product_name\")[\"rating_count\"].sum().sort_values(ascending=False).head(10)\n",
        "\n",
        "print(\"Most Popular Products:\")\n",
        "print(most_popular_products)\n"
      ],
      "metadata": {
        "colab": {
          "base_uri": "https://localhost:8080/"
        },
        "id": "2SSspHC1JExd",
        "outputId": "f7b46372-2f24-414d-ed53-2487873af51d"
      },
      "execution_count": 44,
      "outputs": [
        {
          "output_type": "stream",
          "name": "stdout",
          "text": [
            "Most Popular Products:\n",
            "product_name\n",
            "Smartphone XYZ             1200\n",
            "Laptop ABC                  850\n",
            "Wireless Headphones PQR     500\n",
            "Name: rating_count, dtype: int64\n"
          ]
        }
      ]
    },
    {
      "cell_type": "code",
      "source": [
        "#6.What are the most popular product keywords?\n",
        "import pandas as pd\n",
        "from collections import Counter\n",
        "import re\n",
        "\n",
        "df = pd.read_csv(\"amazon_sales.csv\")\n",
        "\n",
        "all_product_names = \" \".join(df[\"product_name\"].dropna()).lower()\n",
        "\n",
        "words = re.findall(r'\\b\\w+\\b', all_product_names)\n",
        "\n",
        "common_words = Counter(words).most_common(10)\n",
        "\n",
        "print(\"Most Popular Product Keywords:\")\n",
        "for word, count in common_words:\n",
        "    print(f\"{word}: {count}\")\n"
      ],
      "metadata": {
        "colab": {
          "base_uri": "https://localhost:8080/"
        },
        "id": "IWRyDO6_JFU3",
        "outputId": "08e4a45f-523e-4816-f7d1-1ae62d785ae3"
      },
      "execution_count": 45,
      "outputs": [
        {
          "output_type": "stream",
          "name": "stdout",
          "text": [
            "Most Popular Product Keywords:\n",
            "smartphone: 1\n",
            "xyz: 1\n",
            "laptop: 1\n",
            "abc: 1\n",
            "wireless: 1\n",
            "headphones: 1\n",
            "pqr: 1\n"
          ]
        }
      ]
    },
    {
      "cell_type": "code",
      "source": [
        "#7.What are the most popular product reviews?\n",
        "import pandas as pd\n",
        "\n",
        "df = pd.read_csv(\"amazon_sales.csv\")\n",
        "\n",
        "df['rating_count'] = df['rating_count'].astype(int)\n",
        "\n",
        "most_popular_reviews = df.sort_values(by=\"rating_count\", ascending=False)[[\"review_title\", \"review_content\", \"rating_count\"]].head(10)\n",
        "\n",
        "print(\"Most Popular Product Reviews:\")\n",
        "print(most_popular_reviews)\n"
      ],
      "metadata": {
        "colab": {
          "base_uri": "https://localhost:8080/"
        },
        "id": "QAh4BQ3HJFzI",
        "outputId": "657b443e-35b2-4daf-adc1-e2cdce2edfda"
      },
      "execution_count": 46,
      "outputs": [
        {
          "output_type": "stream",
          "name": "stdout",
          "text": [
            "Most Popular Product Reviews:\n",
            "          review_title                     review_content  rating_count\n",
            "0          Great phone  Loved the camera and battery life          1200\n",
            "1  Amazing Performance            Runs all games smoothly           850\n",
            "2   Good Sound Quality                    Bass is amazing           500\n"
          ]
        }
      ]
    },
    {
      "cell_type": "code",
      "source": [
        "#8.What is the correlation between discounted_price and rating?\n",
        "import pandas as pd\n",
        "import seaborn as sns\n",
        "import matplotlib.pyplot as plt\n",
        "\n",
        "df = pd.read_csv(\"amazon_sales.csv\")\n",
        "\n",
        "df['discounted_price'] = pd.to_numeric(df['discounted_price'], errors='coerce')\n",
        "df['rating'] = pd.to_numeric(df['rating'], errors='coerce')\n",
        "\n",
        "correlation = df[['discounted_price', 'rating']].corr()\n",
        "\n",
        "sns.heatmap(correlation, annot=True, cmap=\"coolwarm\", fmt=\".2f\")\n",
        "plt.title(\"Correlation between Discounted Price and Rating\")\n",
        "plt.show()\n",
        "\n",
        "print(\"Correlation coefficient:\", correlation.loc[\"discounted_price\", \"rating\"])\n"
      ],
      "metadata": {
        "colab": {
          "base_uri": "https://localhost:8080/",
          "height": 469
        },
        "id": "Tp1y0aT0JGNb",
        "outputId": "3bfbdf46-26e0-4bd9-eb9b-771af826bd79"
      },
      "execution_count": 47,
      "outputs": [
        {
          "output_type": "display_data",
          "data": {
            "text/plain": [
              "<Figure size 640x480 with 2 Axes>"
            ],
            "image/png": "[encoded data removed]"
          },
          "metadata": {}
        },
        {
          "output_type": "stream",
          "name": "stdout",
          "text": [
            "Correlation coefficient: 0.9909192335992337\n"
          ]
        }
      ]
    },
    {
      "cell_type": "code",
      "source": [
        "#9.What are the Top 5 categories based on the highest ratings?\n",
        "import pandas as pd\n",
        "\n",
        "df = pd.read_csv(\"amazon_sales.csv\")\n",
        "\n",
        "df['rating'] = pd.to_numeric(df['rating'], errors='coerce')\n",
        "\n",
        "top_categories = df.groupby(\"category\")[\"rating\"].mean().sort_values(ascending=False).head(5)\n",
        "\n",
        "print(\"Top 5 Categories Based on Highest Ratings:\")\n",
        "print(top_categories)\n"
      ],
      "metadata": {
        "colab": {
          "base_uri": "https://localhost:8080/"
        },
        "id": "h2QVhSbyJGjL",
        "outputId": "5f39c148-68d8-40f4-f363-0a8f45a99f18"
      },
      "execution_count": 48,
      "outputs": [
        {
          "output_type": "stream",
          "name": "stdout",
          "text": [
            "Top 5 Categories Based on Highest Ratings:\n",
            "category\n",
            "Computers      4.7\n",
            "Electronics    4.5\n",
            "Audio          4.2\n",
            "Name: rating, dtype: float64\n"
          ]
        }
      ]
    },
    {
      "cell_type": "code",
      "source": [
        "#10.Identify any potential areas for improvement or optimization based on the data analysis\n",
        "import pandas as pd\n",
        "\n",
        "df = pd.read_csv(\"amazon_sales.csv\")\n",
        "\n",
        "df['discounted_price'] = pd.to_numeric(df['discounted_price'], errors='coerce')\n",
        "df['actual_price'] = pd.to_numeric(df['actual_price'], errors='coerce')\n",
        "df['rating'] = pd.to_numeric(df['rating'], errors='coerce')\n",
        "\n",
        "if df['discount_percentage'].dtype == 'O':\n",
        "    df['discount_percentage'] = df['discount_percentage'].str.replace('%', '').astype(float)\n",
        "\n",
        "low_rated_products = df[df[\"rating\"] < 3][[\"product_name\", \"rating\", \"rating_count\"]].sort_values(by=\"rating\")\n",
        "\n",
        "high_discount_low_rating = df[(df[\"discount_percentage\"] > 30) & (df[\"rating\"] < 3)][[\"product_name\", \"discount_percentage\", \"rating\"]]\n",
        "\n",
        "high_price_low_sales = df[(df[\"actual_price\"] > df[\"actual_price\"].median()) & (df[\"rating_count\"] < df[\"rating_count\"].median())][[\"product_name\", \"actual_price\", \"rating_count\"]]\n",
        "\n",
        "print(\"Low Rated Products:\")\n",
        "print(low_rated_products.head(10))\n",
        "\n",
        "print(\"\\nHigh Discount but Low Rating Products:\")\n",
        "print(high_discount_low_rating.head(10))\n",
        "\n",
        "print(\"\\nHigh Price but Low Sales Products:\")\n",
        "print(high_price_low_sales.head(10))\n",
        "\n"
      ],
      "metadata": {
        "colab": {
          "base_uri": "https://localhost:8080/"
        },
        "id": "mMX1YgtKJIb3",
        "outputId": "7e82d779-85aa-42f1-929d-28cbedc623b0"
      },
      "execution_count": 50,
      "outputs": [
        {
          "output_type": "stream",
          "name": "stdout",
          "text": [
            "Low Rated Products:\n",
            "Empty DataFrame\n",
            "Columns: [product_name, rating, rating_count]\n",
            "Index: []\n",
            "\n",
            "High Discount but Low Rating Products:\n",
            "Empty DataFrame\n",
            "Columns: [product_name, discount_percentage, rating]\n",
            "Index: []\n",
            "\n",
            "High Price but Low Sales Products:\n",
            "Empty DataFrame\n",
            "Columns: [product_name, actual_price, rating_count]\n",
            "Index: []\n"
          ]
        }
      ]
    },
    {
      "cell_type": "markdown",
      "source": [
        "# EDA 4"
      ],
      "metadata": {
        "id": "oCOtyKU7Mgx5"
      }
    },
    {
      "cell_type": "code",
      "source": [
        "import os\n",
        "print(os.getcwd())  # Shows your current working directory\n",
        "print(\"File exists:\", os.path.exists(\"spotify_hiphop_data.csv\"))\n"
      ],
      "metadata": {
        "colab": {
          "base_uri": "https://localhost:8080/"
        },
        "id": "ENh-9vRSMA06",
        "outputId": "34ad6702-3be4-4e1d-ded7-1cc9fc11ac55"
      },
      "execution_count": 52,
      "outputs": [
        {
          "output_type": "stream",
          "name": "stdout",
          "text": [
            "/content\n",
            "File exists: False\n"
          ]
        }
      ]
    },
    {
      "cell_type": "code",
      "source": [
        "import pandas as pd\n",
        "\n",
        "data = {\n",
        "    \"Artist\": [\"Drake\", \"Kanye West\", \"Eminem\", \"Travis Scott\", \"Kendrick Lamar\",\n",
        "               \"Post Malone\", \"Lil Wayne\", \"J. Cole\", \"Jay-Z\", \"Future\"],\n",
        "    \"Track Name\": [\"God's Plan\", \"Stronger\", \"Lose Yourself\", \"SICKO MODE\", \"HUMBLE.\",\n",
        "                   \"Rockstar\", \"Lollipop\", \"MIDDLE CHILD\", \"Empire State of Mind\", \"Mask Off\"],\n",
        "    \"Popularity\": [95, 90, 92, 88, 91, 89, 85, 87, 86, 84],\n",
        "    \"Duration (ms)\": [198000, 320000, 300000, 312000, 177000, 218000, 300000, 220000, 274000, 201000],\n",
        "    \"Track ID\": [1, 2, 3, 4, 5, 6, 7, 8, 9, 10]\n",
        "}\n",
        "\n",
        "df = pd.DataFrame(data)\n",
        "df.to_csv(\"spotify_hiphop_data.csv\", index=False)\n",
        "\n",
        "print(\" File created: spotify_hiphop_data.csv\")\n"
      ],
      "metadata": {
        "colab": {
          "base_uri": "https://localhost:8080/"
        },
        "id": "tPtq0DrYN6Qv",
        "outputId": "6023fbf8-7bb1-4df0-d9cc-a481eefba511"
      },
      "execution_count": 53,
      "outputs": [
        {
          "metadata": {
            "tags": null
          },
          "name": "stdout",
          "output_type": "stream",
          "text": [
            "✅ File created: spotify_hiphop_data.csv\n"
          ]
        }
      ]
    },
    {
      "cell_type": "code",
      "source": [
        "df = pd.read_csv(\"spotify_hiphop_data.csv\")\n",
        "print(df.head())  # Verify if data is loaded correctly\n"
      ],
      "metadata": {
        "colab": {
          "base_uri": "https://localhost:8080/"
        },
        "id": "3ZAUHdXmOiBe",
        "outputId": "4cb9ef8f-ac2b-46d6-b63a-a02cd854f599"
      },
      "execution_count": 54,
      "outputs": [
        {
          "output_type": "stream",
          "name": "stdout",
          "text": [
            "           Artist     Track Name  Popularity  Duration (ms)  Track ID\n",
            "0           Drake     God's Plan          95         198000         1\n",
            "1      Kanye West       Stronger          90         320000         2\n",
            "2          Eminem  Lose Yourself          92         300000         3\n",
            "3    Travis Scott     SICKO MODE          88         312000         4\n",
            "4  Kendrick Lamar        HUMBLE.          91         177000         5\n"
          ]
        }
      ]
    },
    {
      "cell_type": "code",
      "source": [
        "#1.  Read the dataframe, check null value if present then do the needful, check duplicate row , if present then do the needful\n",
        "import pandas as pd\n",
        "\n",
        "df = pd.read_csv(\"spotify_hiphop_data.csv\")\n",
        "\n",
        "df = df.dropna()\n",
        "\n",
        "df = df.drop_duplicates()\n",
        "\n",
        "df.to_csv(\"spotify_hiphop_data_cleaned.csv\", index=False)\n",
        "\n",
        "print(df.info())\n"
      ],
      "metadata": {
        "colab": {
          "base_uri": "https://localhost:8080/"
        },
        "id": "uM8v42s1OoLP",
        "outputId": "582d083e-e0cf-400d-a595-97e213538cfa"
      },
      "execution_count": 67,
      "outputs": [
        {
          "output_type": "stream",
          "name": "stdout",
          "text": [
            "<class 'pandas.core.frame.DataFrame'>\n",
            "RangeIndex: 10 entries, 0 to 9\n",
            "Data columns (total 5 columns):\n",
            " #   Column         Non-Null Count  Dtype \n",
            "---  ------         --------------  ----- \n",
            " 0   Artist         10 non-null     object\n",
            " 1   Track Name     10 non-null     object\n",
            " 2   Popularity     10 non-null     int64 \n",
            " 3   Duration (ms)  10 non-null     int64 \n",
            " 4   Track ID       10 non-null     int64 \n",
            "dtypes: int64(3), object(2)\n",
            "memory usage: 532.0+ bytes\n",
            "None\n"
          ]
        }
      ]
    },
    {
      "cell_type": "code",
      "source": [
        "#2. What is the distribution of popularity among the tracks in the dataset? Visualize it using a histogram\n",
        "import pandas as pd\n",
        "import matplotlib.pyplot as plt\n",
        "import seaborn as sns\n",
        "\n",
        "df = pd.read_csv(\"spotify_hiphop_data_cleaned.csv\")\n",
        "\n",
        "plt.figure(figsize=(8, 5))\n",
        "sns.histplot(df[\"Popularity\"], bins=20, kde=True, color=\"blue\")\n",
        "plt.xlabel(\"Popularity\")\n",
        "plt.ylabel(\"Frequency\")\n",
        "plt.title(\"Distribution of Popularity Among Tracks\")\n",
        "plt.show()\n"
      ],
      "metadata": {
        "colab": {
          "base_uri": "https://localhost:8080/",
          "height": 487
        },
        "id": "gPjEoXS4PA9Y",
        "outputId": "b39f3c87-504a-43db-8a32-799d636cfbc1"
      },
      "execution_count": 68,
      "outputs": [
        {
          "output_type": "display_data",
          "data": {
            "text/plain": [
              "<Figure size 800x500 with 1 Axes>"
            ],
            "image/png": "[encoded data removed]"
          },
          "metadata": {}
        }
      ]
    },
    {
      "cell_type": "code",
      "source": [
        "#3.Is there any relationship between the popularity and the duration of tracks? Explore this using a scatter plot?\n",
        "import pandas as pd\n",
        "import matplotlib.pyplot as plt\n",
        "import seaborn as sns\n",
        "\n",
        "df = pd.read_csv(\"spotify_hiphop_data_cleaned.csv\")\n",
        "\n",
        "plt.figure(figsize=(8, 5))\n",
        "sns.scatterplot(x=df[\"Duration (ms)\"], y=df[\"Popularity\"], color=\"blue\")\n",
        "plt.xlabel(\"Duration (ms)\")\n",
        "plt.ylabel(\"Popularity\")\n",
        "plt.title(\"Relationship Between Popularity and Duration of Tracks\")\n",
        "plt.show()\n"
      ],
      "metadata": {
        "colab": {
          "base_uri": "https://localhost:8080/",
          "height": 487
        },
        "id": "CuqedC6sPDae",
        "outputId": "6f59df55-8e1f-4789-f5eb-3b87b2383753"
      },
      "execution_count": 69,
      "outputs": [
        {
          "output_type": "display_data",
          "data": {
            "text/plain": [
              "<Figure size 800x500 with 1 Axes>"
            ],
            "image/png": "[encoded data removed]"
          },
          "metadata": {}
        }
      ]
    },
    {
      "cell_type": "code",
      "source": [
        "#4.Which artist has the highest number of tracks in the dataset? Display the count of tracks for each artist using a countplot?\n",
        "import pandas as pd\n",
        "import matplotlib.pyplot as plt\n",
        "import seaborn as sns\n",
        "\n",
        "df = pd.read_csv(\"spotify_hiphop_data_cleaned.csv\")\n",
        "\n",
        "plt.figure(figsize=(12, 6))\n",
        "sns.countplot(y=df[\"Artist\"], order=df[\"Artist\"].value_counts().index, palette=\"viridis\")\n",
        "plt.xlabel(\"Number of Tracks\")\n",
        "plt.ylabel(\"Artist\")\n",
        "plt.title(\"Count of Tracks for Each Artist\")\n",
        "plt.show()\n"
      ],
      "metadata": {
        "colab": {
          "base_uri": "https://localhost:8080/",
          "height": 651
        },
        "id": "sTKDvdlRPDwX",
        "outputId": "7d885fda-b19c-4fe1-9536-aaa957f9efd5"
      },
      "execution_count": 70,
      "outputs": [
        {
          "output_type": "stream",
          "name": "stderr",
          "text": [
            "<ipython-input-70-9c5b33ea38d5>:9: FutureWarning: \n",
            "\n",
            "Passing `palette` without assigning `hue` is deprecated and will be removed in v0.14.0. Assign the `y` variable to `hue` and set `legend=False` for the same effect.\n",
            "\n",
            "  sns.countplot(y=df[\"Artist\"], order=df[\"Artist\"].value_counts().index, palette=\"viridis\")\n"
          ]
        },
        {
          "output_type": "display_data",
          "data": {
            "text/plain": [
              "<Figure size 1200x600 with 1 Axes>"
            ],
            "image/png": "[encoded data removed]"
          },
          "metadata": {}
        }
      ]
    },
    {
      "cell_type": "code",
      "source": [
        "#5.What are the top 5 least popular tracks in the dataset? Provide the artist name and track name for each?\n",
        "import pandas as pd\n",
        "\n",
        "df = pd.read_csv(\"spotify_hiphop_data_cleaned.csv\")\n",
        "\n",
        "least_popular_tracks = df.nsmallest(5, \"Popularity\")[[\"Artist\", \"Track Name\"]]\n",
        "\n",
        "print(\"Top 5 Least Popular Tracks:\")\n",
        "print(least_popular_tracks)\n"
      ],
      "metadata": {
        "colab": {
          "base_uri": "https://localhost:8080/"
        },
        "id": "r8yD0JtyPEAV",
        "outputId": "6d114330-df55-463e-8e48-2a313eb7c1a1"
      },
      "execution_count": 71,
      "outputs": [
        {
          "output_type": "stream",
          "name": "stdout",
          "text": [
            "Top 5 Least Popular Tracks:\n",
            "         Artist            Track Name\n",
            "9        Future              Mask Off\n",
            "6     Lil Wayne              Lollipop\n",
            "8         Jay-Z  Empire State of Mind\n",
            "7       J. Cole          MIDDLE CHILD\n",
            "3  Travis Scott            SICKO MODE\n"
          ]
        }
      ]
    },
    {
      "cell_type": "code",
      "source": [
        "  #6.Among the top 5 most popular artists, which artist has the highest popularity on average? Calculate and display the average popularity for each artist\n",
        "import pandas as pd\n",
        "\n",
        "df = pd.read_csv(\"spotify_hiphop_data_cleaned.csv\")\n",
        "\n",
        "top_5_artists = df.groupby(\"Artist\")[\"Popularity\"].mean().nlargest(5)\n",
        "\n",
        "most_popular_artist = top_5_artists.idxmax()\n",
        "\n",
        "print(\"Top 5 Artists by Average Popularity:\\n\", top_5_artists)\n",
        "print(\"\\nMost Popular Artist on Average:\", most_popular_artist)\n"
      ],
      "metadata": {
        "colab": {
          "base_uri": "https://localhost:8080/"
        },
        "id": "S55u3uAXPEPP",
        "outputId": "517f548c-3665-4186-e149-539143d1dded"
      },
      "execution_count": 72,
      "outputs": [
        {
          "output_type": "stream",
          "name": "stdout",
          "text": [
            "Top 5 Artists by Average Popularity:\n",
            " Artist\n",
            "Drake             95.0\n",
            "Eminem            92.0\n",
            "Kendrick Lamar    91.0\n",
            "Kanye West        90.0\n",
            "Post Malone       89.0\n",
            "Name: Popularity, dtype: float64\n",
            "\n",
            "Most Popular Artist on Average: Drake\n"
          ]
        }
      ]
    },
    {
      "cell_type": "code",
      "source": [
        "#7.For the top 5 most popular artists, what are their most popular tracks? List the track name for each artist\n",
        "import pandas as pd\n",
        "\n",
        "df = pd.read_csv(\"spotify_hiphop_data_cleaned.csv\")\n",
        "\n",
        "top_5_artists = df.groupby(\"Artist\")[\"Popularity\"].mean().nlargest(5).index\n",
        "\n",
        "most_popular_tracks = df[df[\"Artist\"].isin(top_5_artists)].groupby(\"Artist\").apply(lambda x: x.nlargest(1, \"Popularity\"))[[\"Track Name\", \"Popularity\"]]\n",
        "\n",
        "print(most_popular_tracks.reset_index(drop=True))\n"
      ],
      "metadata": {
        "colab": {
          "base_uri": "https://localhost:8080/"
        },
        "id": "ZnfebmHuPEy2",
        "outputId": "718b2b34-986f-44b0-afe7-e38e4d27a988"
      },
      "execution_count": 73,
      "outputs": [
        {
          "output_type": "stream",
          "name": "stdout",
          "text": [
            "      Track Name  Popularity\n",
            "0     God's Plan          95\n",
            "1  Lose Yourself          92\n",
            "2       Stronger          90\n",
            "3        HUMBLE.          91\n",
            "4       Rockstar          89\n"
          ]
        },
        {
          "output_type": "stream",
          "name": "stderr",
          "text": [
            "<ipython-input-73-f4fb2a020b1f>:8: DeprecationWarning: DataFrameGroupBy.apply operated on the grouping columns. This behavior is deprecated, and in a future version of pandas the grouping columns will be excluded from the operation. Either pass `include_groups=False` to exclude the groupings or explicitly select the grouping columns after groupby to silence this warning.\n",
            "  most_popular_tracks = df[df[\"Artist\"].isin(top_5_artists)].groupby(\"Artist\").apply(lambda x: x.nlargest(1, \"Popularity\"))[[\"Track Name\", \"Popularity\"]]\n"
          ]
        }
      ]
    },
    {
      "cell_type": "code",
      "source": [
        "#8.Visualize relationships between multiple numerical variables simultaneously using a pair plot\n",
        "import pandas as pd\n",
        "import seaborn as sns\n",
        "import matplotlib.pyplot as plt\n",
        "\n",
        "df = pd.read_csv(\"spotify_hiphop_data_cleaned.csv\")\n",
        "\n",
        "sns.pairplot(df[[\"Popularity\", \"Duration (ms)\"]], diag_kind=\"kde\")\n",
        "plt.show()\n"
      ],
      "metadata": {
        "colab": {
          "base_uri": "https://localhost:8080/",
          "height": 513
        },
        "id": "kd36ZAi5PG-Y",
        "outputId": "9bea5747-0e40-42fc-b120-129f569fb41f"
      },
      "execution_count": 74,
      "outputs": [
        {
          "output_type": "display_data",
          "data": {
            "text/plain": [
              "<Figure size 500x500 with 6 Axes>"
            ],
            "image/png": "[encoded data removed]"
          },
          "metadata": {}
        }
      ]
    },
    {
      "cell_type": "code",
      "source": [
        "#9.Does the duration of tracks vary significantly across different artists? Explore this visually using a box plot or violin plot?\n",
        "import pandas as pd\n",
        "import seaborn as sns\n",
        "import matplotlib.pyplot as plt\n",
        "\n",
        "df = pd.read_csv(\"spotify_hiphop_data_cleaned.csv\")\n",
        "\n",
        "plt.figure(figsize=(12, 6))\n",
        "sns.boxplot(x=\"Artist\", y=\"Duration (ms)\", data=df, showfliers=False)\n",
        "plt.xticks(rotation=90)\n",
        "plt.xlabel(\"Artist\")\n",
        "plt.ylabel(\"Duration (ms)\")\n",
        "plt.title(\"Variation of Track Duration Across Artists\")\n",
        "plt.show()\n"
      ],
      "metadata": {
        "colab": {
          "base_uri": "https://localhost:8080/",
          "height": 658
        },
        "id": "eXgCFx_qPHcM",
        "outputId": "62d98a06-4c1c-4eb3-bc16-e52a0da0a635"
      },
      "execution_count": 75,
      "outputs": [
        {
          "output_type": "display_data",
          "data": {
            "text/plain": [
              "<Figure size 1200x600 with 1 Axes>"
            ],
            "image/png": "[encoded data removed]"
          },
          "metadata": {}
        }
      ]
    },
    {
      "cell_type": "code",
      "source": [
        "#10.How does the distribution of track popularity vary for different artists? Visualize this using a swarm plot or a violin plotHow does the distribution of track popularity vary for different artists? Visualize this using a swarm plot or a violin plot\n",
        "import pandas as pd\n",
        "import seaborn as sns\n",
        "import matplotlib.pyplot as plt\n",
        "\n",
        "df = pd.read_csv(\"spotify_hiphop_data_cleaned.csv\")\n",
        "\n",
        "plt.figure(figsize=(12, 6))\n",
        "sns.violinplot(x=\"Artist\", y=\"Popularity\", data=df, inner=\"quartile\", palette=\"viridis\")\n",
        "plt.xticks(rotation=90)\n",
        "plt.xlabel(\"Artist\")\n",
        "plt.ylabel(\"Popularity\")\n",
        "plt.title(\"Distribution of Track Popularity Across Artists\")\n",
        "plt.show()\n"
      ],
      "metadata": {
        "colab": {
          "base_uri": "https://localhost:8080/",
          "height": 745
        },
        "id": "aLBVoU4WPHs9",
        "outputId": "9bbed498-5b56-40e3-c157-98abf10bd1b6"
      },
      "execution_count": 76,
      "outputs": [
        {
          "output_type": "stream",
          "name": "stderr",
          "text": [
            "<ipython-input-76-6f6a3f59a83e>:9: FutureWarning: \n",
            "\n",
            "Passing `palette` without assigning `hue` is deprecated and will be removed in v0.14.0. Assign the `x` variable to `hue` and set `legend=False` for the same effect.\n",
            "\n",
            "  sns.violinplot(x=\"Artist\", y=\"Popularity\", data=df, inner=\"quartile\", palette=\"viridis\")\n"
          ]
        },
        {
          "output_type": "display_data",
          "data": {
            "text/plain": [
              "<Figure size 1200x600 with 1 Axes>"
            ],
            "image/png": "[encoded data removed]"
          },
          "metadata": {}
        }
      ]
    }
  ]
}