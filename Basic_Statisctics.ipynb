{
  "nbformat": 4,
  "nbformat_minor": 0,
  "metadata": {
    "colab": {
      "provenance": []
    },
    "kernelspec": {
      "name": "python3",
      "display_name": "Python 3"
    },
    "language_info": {
      "name": "python"
    }
  },
  "cells": [
    {
      "cell_type": "markdown",
      "source": [
        "# Basic statistics\n",
        "1. What is statistics, and why is it important?\n",
        "  - Statistics is the branch of mathematics that deals with collecting, analyzing, interpreting, and presenting data.\n",
        "  - Importance:\n",
        "    - Helps in making informed decisions.\n",
        "    - Used in various fields like business, science, medicine, and social sciences.\n",
        "    - Identifies trends and patterns in data.\n",
        "2. What are the two main types of statistics?\n",
        "  - Descriptive Statistics – Summarizes and describes data.\n",
        "  - Inferential Statistics – Makes predictions or inferences based on a sample.\n",
        "3. What are descriptive statistics?\n",
        "  - Methods to organize, summarize, and present data.\n",
        "  - Includes:\n",
        "      - Measures of Central Tendency: Mean, Median, Mode.\n",
        "      - Measures of Dispersion: Range, Variance, Standard Deviation.\n",
        "      - Data Representation: Tables, Graphs, Charts.\n",
        "4. What is inferential statistics?\n",
        "  - Analyzes a sample to make predictions about a population.\n",
        "  - Includes:\n",
        "      - Hypothesis Testing\n",
        "      - Confidence Intervals\n",
        "      - Regression Analysis\n",
        "\n",
        "5. What is sampling in statistics?\n",
        "  - Sampling is the process of selecting a subset of data from a larger population for analysis.\n",
        "  - Types of Sampling:\n",
        "    - Random Sampling – Equal chance for all.\n",
        "    - Stratified Sampling – Dividing into groups and selecting from each.\n",
        "    - Systematic Sampling – Selecting every nth item.\n",
        "    - Cluster Sampling – Selecting entire groups.\n",
        "\n",
        "6. What are the different types of sampling methods?\n",
        "  - A. Probability Sampling (Every element has a known chance of selection)\n",
        "    - Simple Random Sampling – Every item has an equal chance of selection (e.g., lottery method).\n",
        "    - Stratified Sampling – Population is divided into groups (strata), and samples are taken from each group.\n",
        "    - Systematic Sampling – Selecting every nth item from a population.\n",
        "    - Cluster Sampling – Population is divided into groups (clusters), and entire clusters are randomly selected.\n",
        "    - Multistage Sampling – Combination of different probability sampling techniques (e.g., clusters → random selection within clusters).\n",
        "  - B. Non-Probability Sampling (Selection is not random)\n",
        "    - Convenience Sampling – Selecting samples based on ease of access.\n",
        "    - Judgmental (Purposive) Sampling – Selection based on expert judgment.\n",
        "    - Snowball Sampling – Existing subjects refer new participants (useful for rare populations).\n",
        "    - Quota Sampling – Selecting samples to meet certain predefined criteria (e.g., 50% male, 50% female).\n",
        "7. What is the difference between random and non-random sampling?\n",
        "  - Random Sampling\n",
        "    - Every item has an equal chance of selection.\n",
        "    - More accurate and reliable for generalization.\n",
        "    - Simple Random, Stratified, Systematic, Cluster Sampling.\n",
        "    - Research, surveys, scientific studies.\n",
        "  - Non-Random Sampling\n",
        "    - Selection is based on convenience, judgment, or other non-random criteria.\n",
        "    - Less accurate; may not represent the whole population.\n",
        "    - Convenience, Judgmental, Snowball, Quota Sampling.\n",
        "    - Quick surveys, pilot studies, hard-to-reach populations.\n",
        "\n",
        "8. Define and give examples of qualitative and quantitative data?\n",
        "  - Qualitative Data :\n",
        "    - Describes characteristics, attributes, or qualities.\n",
        "    - Ex.\n",
        "        - Eye color (Blue, Brown)\n",
        "        - Blood type (A, B, AB, O)\n",
        "        - Customer feedback (Good, Bad)\n",
        "  - Quantitative Data :\n",
        "    - Represents numerical values that can be measured or counted.\n",
        "    - Ex.\n",
        "      - Age (25, 30)\n",
        "      - Height (5.6 ft, 170 cm)\n",
        "      - Number of students in a class (50, 60)\n",
        "9. What are the different types of data in statistics?\n",
        "  - Qualitative (Categorical) Data\n",
        "  - Quantitative (Numerical) Data\n",
        "\n",
        "10. Explain nominal, ordinal, interval, and ratio levels of measurement?\n",
        "  - nominal : Categorizes data without any order.\n",
        "      - Eg : Gender (Male, Female), Blood type (A, B, O), Eye color (Blue, Brown).\n",
        "\n",
        "  - ordinal : Categorized with a meaningful order but without exact differences between values.\n",
        "     - Eg : Education Level (High School < College < University), Customer Satisfaction (Poor < Good < Excellent).\n",
        "\n",
        "  - interval : Ordered with meaningful, equal differences but no true zero.\n",
        "      - Eg : Temperature in °C or °F (20°C, 30°C), IQ scores, Calendar years (2000, 2020).\n",
        "\n",
        "11. What is the measure of central tendency?\n",
        "  - The measure of central tendency represents the center or average of a dataset. It helps in understanding where most values in the data tend to cluster.\n",
        "\n",
        "12.  Define mean, median, and mode\n",
        "  - Mean (Average) :\n",
        "      - Definition: The sum of all values divided by the number of values.\n",
        "  - Median (Middle Value) :\n",
        "      - Definition: The middle value when the data is arranged in ascending order.\n",
        "  - Mode (Most Frequent Value) :\n",
        "      - Definition: The value that appears most frequently in a dataset.\n",
        "\n",
        "13. What is the significance of the measure of central tendency?\n",
        "  - Summarizes Data Efficiently\n",
        "     - Provides a single value that represents an entire dataset.\n",
        "  - Helps in Comparison\n",
        "     - Allows comparison between different datasets.\n",
        "     - Example: Comparing average salaries in two companies.\n",
        "  - Aids in Decision-Making\n",
        "      - Used in business, research, and policy-making for informed decisions.- -\n",
        "      - Example: Setting product prices based on average spending.\n",
        "  - Identifies Trends & Patterns\n",
        "      - Helps detect common values in data, such as the most frequent customer choice.\n",
        "  - educes Complexity\n",
        "      - Converts large datasets into simple, understandable values.\n",
        "  - Supports Further Statistical Analysis\n",
        "      - Used in advanced statistical methods like variance, standard deviation, and hypothesis testing.\n",
        "\n",
        "14. What is variance, and how is it calculated?\n",
        "  - Variance measures the spread of data points around the mean. A higher variance indicates that data points are more spread out, while a lower variance means they are closer to the mean.\n",
        "15. What is standard deviation, and why is it important?\n",
        "  - Standard deviation (SD) measures the spread of data points around the mean. It is the square root of variance and represents the average distance of each data point from the mean.\n",
        "16. Define and explain the term range in statistics?\n",
        "  - The range is the simplest measure of dispersion in statistics. It represents the difference between the highest and lowest values in a dataset.\n",
        "  - Formula:\n",
        "      - Range=Maximum Value−Minimum Value\n",
        "17. What is the difference between variance and standard deviation?\n",
        "  - Variance\n",
        "      - Measures the average squared deviation from the mean.\n",
        "      - Squared units of the original data.\n",
        "      - Measures spread but not directly comparable to data values.\n",
        "      - Amplifies large deviations, making it more sensitive to outliers.\n",
        "  - Standard Deviation\n",
        "      - Measures the average deviation from the mean.\n",
        "      - Same units as the original data.\n",
        "      - More intuitive and directly comparable to data values.\n",
        "      - Less sensitive to outliers than variance.\n",
        "\n",
        "18. What is skewness in a dataset?\n",
        "  - Skewness measures the asymmetry of a dataset’s distribution. It tells whether the data is symmetrically distributed or leaning more to one side of the mean.\n",
        "19. What does it mean if a dataset is positively or negatively skewed?\n",
        "  - Positively Skewed (Right-Skewed)\n",
        "      - More values are on the left, with a long right tail.\n",
        "      - Mean > Median > Mode (pulled to the right).\n",
        "      - Example: Income (most people earn less, few earn a lot).\n",
        "  - Negatively Skewed (Left-Skewed)\n",
        "    - More values are on the right, with a long left tail.\n",
        "    - Mean < Median < Mode (pulled to the left).\n",
        "    -  Example: Exam scores (most students score high, few score very low).\n",
        "20. Define and explain kurtosis?\n",
        "  - Kurtosis measures the \"tailedness\" of a dataset, indicating whether data has more or fewer extreme values (outliers) than a normal distribution.\n",
        "21. What is the purpose of covariance?\n",
        "  - Covariance measures the relationship between two variables. It shows whether they increase or decrease together.\n",
        "22. What does correlation measure in statistics?\n",
        "  - Correlation measures the strength and direction of the relationship between two variables. It tells how closely they move together.\n",
        "23. What is the difference between covariance and correlation?\n",
        "  - Covariance\n",
        "     - Measures how two variables move together.\n",
        "      - Unbounded (values can be very large or very small).\n",
        "      - Depends on the units of variables.\n",
        "      - Only tells direction (positive or negative).\n",
        "      - Used in finance, statistics, and machine learning.\n",
        "  - Correlation\n",
        "      - Measures the strength and direction of the relationship between two variables.\n",
        "      - Always between -1 and +1.\n",
        "      -  Unit-free (standardized measure).\n",
        "      - Tells both direction and strength of the relationship.\n",
        "      - More useful for comparison across datasets.\n",
        "24. What are some real-world applications of statistics?\n",
        "  - Business & Marketing – Used to analyze customer behavior, predict sales, and test advertisements.\n",
        "  - Healthcare – Helps in medical research, disease tracking, and evaluating treatment effectiveness.\n",
        "  - Finance & Economics – Used in stock market analysis, risk management, and economic forecasting.\n",
        "  - Education – Helps in student performance analysis, grading, and school resource planning.\n",
        "  - Sports – Used to analyze player performance, improve team strategies, and predict match outcomes.\n",
        "  - Government & Policy – Helps in population studies, crime rate analysis, and unemployment tracking.\n",
        "  - Technology & AI – Used in machine learning, data analysis, and website traffic monitoring."
      ],
      "metadata": {
        "id": "MvRnh1D-dc35"
      }
    },
    {
      "cell_type": "code",
      "source": [
        "#1. How do you calculate the mean, median, and mode of a dataset\n",
        "import statistics\n",
        "\n",
        "data = [2, 4, 4, 6, 8, 10]\n",
        "\n",
        "mean_value = statistics.mean(data)\n",
        "median_value = statistics.median(data)\n",
        "\n",
        "try:\n",
        "    mode_value = statistics.mode(data)\n",
        "except statistics.StatisticsError:\n",
        "    mode_value = \"No mode (no repeating values)\"\n",
        "\n",
        "print(\"Mean:\", mean_value)\n",
        "print(\"Median:\", median_value)\n",
        "print(\"Mode:\", mode_value)\n"
      ],
      "metadata": {
        "id": "E1M_a-a7ps0w",
        "colab": {
          "base_uri": "https://localhost:8080/"
        },
        "outputId": "5ed5feba-dc4f-49b7-953b-d6cf674ba651"
      },
      "execution_count": 1,
      "outputs": [
        {
          "output_type": "stream",
          "name": "stdout",
          "text": [
            "Mean: 5.666666666666667\n",
            "Median: 5.0\n",
            "Mode: 4\n"
          ]
        }
      ]
    },
    {
      "cell_type": "code",
      "source": [
        "#2. Write a Python program to compute the variance and standard deviation of a dataset\n",
        "import statistics\n",
        "\n",
        "data = [2, 4, 4, 6, 8, 10]\n",
        "\n",
        "variance_value = statistics.variance(data)\n",
        "std_dev_value = statistics.stdev(data)\n",
        "\n",
        "print(\"Variance:\", variance_value)\n",
        "print(\"Standard Deviation:\", std_dev_value)\n"
      ],
      "metadata": {
        "id": "ZjyHGAdZpvYh",
        "colab": {
          "base_uri": "https://localhost:8080/"
        },
        "outputId": "c30c6fd7-3de9-435c-d972-4487db47849a"
      },
      "execution_count": 10,
      "outputs": [
        {
          "output_type": "stream",
          "name": "stdout",
          "text": [
            "Variance: 8.666666666666666\n",
            "Standard Deviation: 2.943920288775949\n"
          ]
        }
      ]
    },
    {
      "cell_type": "code",
      "source": [
        "#3. Create a dataset and classify it into nominal, ordinal, interval, and ratio types\n",
        "nominal = [\"Red\", \"Blue\", \"Green\", \"Black\"]\n",
        "ordinal = [\"High School\", \"Bachelor's\", \"Master's\", \"PhD\"]\n",
        "interval = [10, 20, 30, 40]\n",
        "ratio = [150, 160, 170, 180]\n",
        "\n",
        "print(\"Nominal Data:\", nominal)\n",
        "print(\"Ordinal Data:\", ordinal)\n",
        "print(\"Interval Data:\", interval)\n",
        "print(\"Ratio Data:\", ratio)\n"
      ],
      "metadata": {
        "id": "7FOpHOH7pv5e",
        "colab": {
          "base_uri": "https://localhost:8080/"
        },
        "outputId": "40d8454d-52ae-4ea4-8f30-6e5596572701"
      },
      "execution_count": 11,
      "outputs": [
        {
          "output_type": "stream",
          "name": "stdout",
          "text": [
            "Nominal Data: ['Red', 'Blue', 'Green', 'Black']\n",
            "Ordinal Data: ['High School', \"Bachelor's\", \"Master's\", 'PhD']\n",
            "Interval Data: [10, 20, 30, 40]\n",
            "Ratio Data: [150, 160, 170, 180]\n"
          ]
        }
      ]
    },
    {
      "cell_type": "code",
      "source": [
        "#4. Implement sampling techniques like random sampling and stratified sampling\n",
        "import random\n",
        "import pandas as pd\n",
        "from sklearn.model_selection import train_test_split\n",
        "\n",
        "data = pd.DataFrame({\n",
        "    \"ID\": range(1, 21),\n",
        "    \"Category\": [\"A\"] * 10 + [\"B\"] * 10\n",
        "})\n",
        "\n",
        "random_sample = data.sample(n=5, random_state=42)\n",
        "stratified_sample, _ = train_test_split(data, test_size=0.75, stratify=data[\"Category\"], random_state=42)\n",
        "\n",
        "print(\"Random Sampling:\\n\", random_sample)\n",
        "print(\"\\nStratified Sampling:\\n\", stratified_sample)\n"
      ],
      "metadata": {
        "id": "eeh1dOKxpwNs",
        "colab": {
          "base_uri": "https://localhost:8080/"
        },
        "outputId": "4dd9c31f-6d7b-43a8-def4-9c34eef144f5"
      },
      "execution_count": 12,
      "outputs": [
        {
          "output_type": "stream",
          "name": "stdout",
          "text": [
            "Random Sampling:\n",
            "     ID Category\n",
            "0    1        A\n",
            "17  18        B\n",
            "15  16        B\n",
            "1    2        A\n",
            "8    9        A\n",
            "\n",
            "Stratified Sampling:\n",
            "     ID Category\n",
            "19  20        B\n",
            "10  11        B\n",
            "5    6        A\n",
            "16  17        B\n",
            "0    1        A\n"
          ]
        }
      ]
    },
    {
      "cell_type": "code",
      "source": [
        "#5. Write a Python function to calculate the range of a dataset\n",
        "def calculate_range(data):\n",
        "    return max(data) - min(data)\n",
        "\n",
        "dataset = [2, 4, 7, 1, 9, 12]\n",
        "print(\"Range:\", calculate_range(dataset))\n"
      ],
      "metadata": {
        "id": "-cZo6OWspwdh",
        "colab": {
          "base_uri": "https://localhost:8080/"
        },
        "outputId": "740ab982-088a-4f3a-8ed6-ada19fa5b0de"
      },
      "execution_count": 13,
      "outputs": [
        {
          "output_type": "stream",
          "name": "stdout",
          "text": [
            "Range: 11\n"
          ]
        }
      ]
    },
    {
      "cell_type": "code",
      "source": [
        "#6. Create a dataset and plot its histogram to visualize skewness\n",
        "import numpy as np\n",
        "import matplotlib.pyplot as plt\n",
        "\n",
        "data = np.random.exponential(scale=2, size=1000)\n",
        "\n",
        "plt.hist(data, bins=30, edgecolor=\"black\")\n",
        "plt.xlabel(\"Values\")\n",
        "plt.ylabel(\"Frequency\")\n",
        "plt.title(\"Histogram to Visualize Skewness\")\n",
        "plt.show()\n",
        "\n"
      ],
      "metadata": {
        "id": "G3U_RaTgpwp1",
        "colab": {
          "base_uri": "https://localhost:8080/",
          "height": 472
        },
        "outputId": "81788100-4c10-48de-c992-ec060bc50dba"
      },
      "execution_count": 14,
      "outputs": [
        {
          "output_type": "display_data",
          "data": {
            "text/plain": [
              "<Figure size 640x480 with 1 Axes>"
            ],
            "image/png": "[encoded data removed]"
          },
          "metadata": {}
        }
      ]
    },
    {
      "cell_type": "code",
      "source": [
        "#7. Calculate skewness and kurtosis of a dataset using Python libraries\n",
        "import numpy as np\n",
        "import scipy.stats as stats\n",
        "\n",
        "data = np.random.normal(loc=50, scale=10, size=1000)\n",
        "\n",
        "skewness = stats.skew(data)\n",
        "kurtosis = stats.kurtosis(data)\n",
        "\n",
        "print(\"Skewness:\", skewness)\n",
        "print(\"Kurtosis:\", kurtosis)\n"
      ],
      "metadata": {
        "id": "nQ58_VzNpw0g",
        "colab": {
          "base_uri": "https://localhost:8080/"
        },
        "outputId": "19d7926c-2408-4c45-c837-355d8bb28e7c"
      },
      "execution_count": 15,
      "outputs": [
        {
          "output_type": "stream",
          "name": "stdout",
          "text": [
            "Skewness: 0.028818419596967893\n",
            "Kurtosis: -0.05377519647742668\n"
          ]
        }
      ]
    },
    {
      "cell_type": "code",
      "source": [
        "#8. Generate a dataset and demonstrate positive and negative skewness\n",
        "import numpy as np\n",
        "import matplotlib.pyplot as plt\n",
        "import scipy.stats as stats\n",
        "\n",
        "# Generate datasets\n",
        "positive_skew = np.random.exponential(scale=2, size=1000)  # Right-skewed\n",
        "negative_skew = np.random.normal(loc=50, scale=10, size=1000) ** 2  # Left-skewed transformation\n",
        "\n",
        "# Calculate skewness\n",
        "pos_skewness = stats.skew(positive_skew)\n",
        "neg_skewness = stats.skew(negative_skew)\n",
        "\n",
        "# Plot histograms\n",
        "plt.figure(figsize=(12, 5))\n",
        "\n",
        "plt.subplot(1, 2, 1)\n",
        "plt.hist(positive_skew, bins=30, edgecolor=\"black\")\n",
        "plt.title(f\"Positive Skewness (Right-Skewed)\\nSkewness: {pos_skewness:.2f}\")\n",
        "\n",
        "plt.subplot(1, 2, 2)\n",
        "plt.hist(negative_skew, bins=30, edgecolor=\"black\")\n",
        "plt.title(f\"Negative Skewness (Left-Skewed)\\nSkewness: {neg_skewness:.2f}\")\n",
        "\n",
        "plt.show()\n",
        "\n"
      ],
      "metadata": {
        "id": "_SWFqfmSpw_6",
        "colab": {
          "base_uri": "https://localhost:8080/",
          "height": 488
        },
        "outputId": "931bfa37-77b8-4e83-b1e8-8631338bc2b6"
      },
      "execution_count": 16,
      "outputs": [
        {
          "output_type": "display_data",
          "data": {
            "text/plain": [
              "<Figure size 1200x500 with 2 Axes>"
            ],
            "image/png": "[encoded data removed]"
          },
          "metadata": {}
        }
      ]
    },
    {
      "cell_type": "code",
      "source": [
        "#9. Write a Python script to calculate covariance between two datasets\n",
        "import numpy as np\n",
        "\n",
        "x = [10, 20, 30, 40, 50]\n",
        "y = [5, 15, 25, 35, 45]\n",
        "\n",
        "covariance = np.cov(x, y, bias=True)[0, 1]\n",
        "\n",
        "print(\"Covariance:\", covariance)\n"
      ],
      "metadata": {
        "id": "jKQDHB_apxJH",
        "colab": {
          "base_uri": "https://localhost:8080/"
        },
        "outputId": "662818e7-df91-49da-d80f-a3a323c71b84"
      },
      "execution_count": 17,
      "outputs": [
        {
          "output_type": "stream",
          "name": "stdout",
          "text": [
            "Covariance: 200.0\n"
          ]
        }
      ]
    },
    {
      "cell_type": "code",
      "source": [
        "#10. Write a Python script to calculate the correlation coefficient between two datasets\n",
        "import numpy as np\n",
        "\n",
        "x = [10, 20, 30, 40, 50]\n",
        "y = [5, 15, 25, 35, 45]\n",
        "\n",
        "correlation = np.corrcoef(x, y)[0, 1]\n",
        "\n",
        "print(\"Correlation Coefficient:\", correlation)\n"
      ],
      "metadata": {
        "id": "rGBaIo5WpyP-",
        "colab": {
          "base_uri": "https://localhost:8080/"
        },
        "outputId": "f2dfd9e9-52fe-4818-bf33-d6cda737e31d"
      },
      "execution_count": 18,
      "outputs": [
        {
          "output_type": "stream",
          "name": "stdout",
          "text": [
            "Correlation Coefficient: 1.0\n"
          ]
        }
      ]
    },
    {
      "cell_type": "code",
      "source": [
        "#11. Create a scatter plot to visualize the relationship between two variables\n",
        "import matplotlib.pyplot as plt\n",
        "\n",
        "x = [10, 20, 30, 40, 50]\n",
        "y = [5, 15, 25, 35, 45]\n",
        "\n",
        "plt.scatter(x, y, color='blue', marker='o')\n",
        "plt.xlabel(\"Variable X\")\n",
        "plt.ylabel(\"Variable Y\")\n",
        "plt.title(\"Scatter Plot of X vs Y\")\n",
        "plt.show()\n"
      ],
      "metadata": {
        "id": "Xdvvjf-3pynA",
        "colab": {
          "base_uri": "https://localhost:8080/",
          "height": 472
        },
        "outputId": "e523f8e7-36e1-48e1-ce0a-5f766ed99328"
      },
      "execution_count": 19,
      "outputs": [
        {
          "output_type": "display_data",
          "data": {
            "text/plain": [
              "<Figure size 640x480 with 1 Axes>"
            ],
            "image/png": "[encoded data removed]"
          },
          "metadata": {}
        }
      ]
    },
    {
      "cell_type": "code",
      "source": [
        "#12. Implement and compare simple random sampling and systematic sampling\n",
        "import numpy as np\n",
        "import pandas as pd\n",
        "\n",
        "data = pd.DataFrame({\"ID\": range(1, 21), \"Value\": np.random.randint(10, 100, 20)})\n",
        "\n",
        "random_sample = data.sample(n=5, random_state=42)\n",
        "\n",
        "k = 4\n",
        "systematic_sample = data.iloc[::k]\n",
        "\n",
        "print(\"Original Dataset:\\n\", data)\n",
        "print(\"\\nSimple Random Sample:\\n\", random_sample)\n",
        "print(\"\\nSystematic Sample:\\n\", systematic_sample)\n"
      ],
      "metadata": {
        "id": "5J_u1MPqpy0L",
        "colab": {
          "base_uri": "https://localhost:8080/"
        },
        "outputId": "bb82f3f5-027f-4308-a9ed-7dad55f3e86c"
      },
      "execution_count": 20,
      "outputs": [
        {
          "output_type": "stream",
          "name": "stdout",
          "text": [
            "Original Dataset:\n",
            "     ID  Value\n",
            "0    1     26\n",
            "1    2     64\n",
            "2    3     90\n",
            "3    4     80\n",
            "4    5     39\n",
            "5    6     78\n",
            "6    7     31\n",
            "7    8     38\n",
            "8    9     19\n",
            "9   10     15\n",
            "10  11     14\n",
            "11  12     94\n",
            "12  13     46\n",
            "13  14     30\n",
            "14  15     91\n",
            "15  16     13\n",
            "16  17     32\n",
            "17  18     35\n",
            "18  19     92\n",
            "19  20     14\n",
            "\n",
            "Simple Random Sample:\n",
            "     ID  Value\n",
            "0    1     26\n",
            "17  18     35\n",
            "15  16     13\n",
            "1    2     64\n",
            "8    9     19\n",
            "\n",
            "Systematic Sample:\n",
            "     ID  Value\n",
            "0    1     26\n",
            "4    5     39\n",
            "8    9     19\n",
            "12  13     46\n",
            "16  17     32\n"
          ]
        }
      ]
    },
    {
      "cell_type": "code",
      "source": [
        "#13. Calculate the mean, median, and mode of grouped data\n",
        "import pandas as pd\n",
        "import statistics\n",
        "\n",
        "data = pd.DataFrame({\n",
        "    \"Class Interval\": [\"0-10\", \"10-20\", \"20-30\", \"30-40\", \"40-50\"],\n",
        "    \"Frequency\": [5, 8, 15, 10, 7]\n",
        "})\n",
        "\n",
        "data[\"Midpoint\"] = [(int(interval.split('-')[0]) + int(interval.split('-')[1])) / 2 for interval in data[\"Class Interval\"]]\n",
        "\n",
        "mean_value = sum(data[\"Midpoint\"] * data[\"Frequency\"]) / sum(data[\"Frequency\"])\n",
        "median_value = statistics.median(data[\"Midpoint\"])\n",
        "mode_value = data[\"Midpoint\"][data[\"Frequency\"].idxmax()]\n",
        "\n",
        "print(\"Mean:\", mean_value)\n",
        "print(\"Median:\", median_value)\n",
        "print(\"Mode:\", mode_value)\n"
      ],
      "metadata": {
        "id": "vr4bh2QXpzAj",
        "colab": {
          "base_uri": "https://localhost:8080/"
        },
        "outputId": "782e208f-2f26-476d-cb42-bd049acd5318"
      },
      "execution_count": 21,
      "outputs": [
        {
          "output_type": "stream",
          "name": "stdout",
          "text": [
            "Mean: 26.333333333333332\n",
            "Median: 25.0\n",
            "Mode: 25.0\n"
          ]
        }
      ]
    },
    {
      "cell_type": "code",
      "source": [
        "#14. Simulate data using Python and calculate its central tendency and dispersion\n",
        "import numpy as np\n",
        "import scipy.stats as stats\n",
        "\n",
        "data = np.random.randint(1, 100, 50)\n",
        "\n",
        "mean_value = np.mean(data)\n",
        "median_value = np.median(data)\n",
        "mode_value = stats.mode(data, keepdims=True)[0][0]\n",
        "\n",
        "variance_value = np.var(data)\n",
        "std_dev_value = np.std(data)\n",
        "range_value = np.max(data) - np.min(data)\n",
        "\n",
        "print(\"Mean:\", mean_value)\n",
        "print(\"Median:\", median_value)\n",
        "print(\"Mode:\", mode_value)\n",
        "print(\"Variance:\", variance_value)\n",
        "print(\"Standard Deviation:\", std_dev_value)\n",
        "print(\"Range:\", range_value)\n",
        "\n"
      ],
      "metadata": {
        "id": "K27LngUnpzVk",
        "colab": {
          "base_uri": "https://localhost:8080/"
        },
        "outputId": "9c2a65e3-6370-4306-9223-c5dd763f63f5"
      },
      "execution_count": 22,
      "outputs": [
        {
          "output_type": "stream",
          "name": "stdout",
          "text": [
            "Mean: 49.36\n",
            "Median: 51.5\n",
            "Mode: 38\n",
            "Variance: 678.6303999999999\n",
            "Standard Deviation: 26.050535503133133\n",
            "Range: 95\n"
          ]
        }
      ]
    },
    {
      "cell_type": "code",
      "source": [
        "#15. Use NumPy or pandas to summarize a dataset’s descriptive statistics\n",
        "import pandas as pd\n",
        "import numpy as np\n",
        "\n",
        "data = pd.DataFrame({\n",
        "    \"A\": np.random.randint(1, 100, 50),\n",
        "    \"B\": np.random.randint(1, 100, 50),\n",
        "    \"C\": np.random.randint(1, 100, 50)\n",
        "})\n",
        "\n",
        "summary = data.describe()\n",
        "\n",
        "print(summary)\n"
      ],
      "metadata": {
        "id": "j5WEnlLip3C3",
        "colab": {
          "base_uri": "https://localhost:8080/"
        },
        "outputId": "28d5fccc-508b-48f7-c88f-df886c3785d2"
      },
      "execution_count": 23,
      "outputs": [
        {
          "output_type": "stream",
          "name": "stdout",
          "text": [
            "               A          B          C\n",
            "count  50.000000  50.000000  50.000000\n",
            "mean   56.960000  52.060000  56.180000\n",
            "std    30.675364  28.099248  31.441355\n",
            "min     3.000000   1.000000   4.000000\n",
            "25%    25.250000  27.250000  32.000000\n",
            "50%    59.500000  55.500000  62.000000\n",
            "75%    85.000000  70.500000  83.750000\n",
            "max    99.000000  99.000000  98.000000\n"
          ]
        }
      ]
    },
    {
      "cell_type": "code",
      "source": [
        "#16.Plot a boxplot to understand the spread and identify outliers\n",
        "import numpy as np\n",
        "import matplotlib.pyplot as plt\n",
        "\n",
        "data = np.random.randint(1, 100, 50)\n",
        "\n",
        "plt.boxplot(data)\n",
        "plt.title(\"Boxplot of Data\")\n",
        "plt.ylabel(\"Values\")\n",
        "plt.show()\n"
      ],
      "metadata": {
        "id": "029OBXUwsJJF",
        "colab": {
          "base_uri": "https://localhost:8080/",
          "height": 452
        },
        "outputId": "786e3e12-9053-4358-c2e3-6e00dc10acd2"
      },
      "execution_count": 24,
      "outputs": [
        {
          "output_type": "display_data",
          "data": {
            "text/plain": [
              "<Figure size 640x480 with 1 Axes>"
            ],
            "image/png": "[encoded data removed]"
          },
          "metadata": {}
        }
      ]
    },
    {
      "cell_type": "code",
      "source": [
        "#17.Calculate the interquartile range (IQR) of a dataset\n",
        "import numpy as np\n",
        "\n",
        "data = np.random.randint(1, 100, 50)\n",
        "\n",
        "Q1 = np.percentile(data, 25)\n",
        "Q3 = np.percentile(data, 75)\n",
        "IQR = Q3 - Q1\n",
        "\n",
        "print(\"Interquartile Range (IQR):\", IQR)\n"
      ],
      "metadata": {
        "id": "QtmA8kKYp3ul",
        "colab": {
          "base_uri": "https://localhost:8080/"
        },
        "outputId": "646508fe-9164-4e49-86d8-89ffc769bb97"
      },
      "execution_count": 25,
      "outputs": [
        {
          "output_type": "stream",
          "name": "stdout",
          "text": [
            "Interquartile Range (IQR): 54.75\n"
          ]
        }
      ]
    },
    {
      "cell_type": "code",
      "source": [
        "#18.Compare two datasets using their standard deviations\n",
        "import numpy as np\n",
        "\n",
        "data1 = np.random.randint(1, 100, 50)\n",
        "data2 = np.random.randint(1, 100, 50)\n",
        "\n",
        "std_dev1 = np.std(data1)\n",
        "std_dev2 = np.std(data2)\n",
        "\n",
        "print(\"Standard Deviation of Dataset 1:\", std_dev1)\n",
        "print(\"Standard Deviation of Dataset 2:\", std_dev2)\n",
        "\n",
        "if std_dev1 > std_dev2:\n",
        "    print(\"Dataset 1 has more variability.\")\n",
        "elif std_dev1 < std_dev2:\n",
        "    print(\"Dataset 2 has more variability.\")\n",
        "else:\n",
        "    print(\"Both datasets have equal variability.\")\n"
      ],
      "metadata": {
        "id": "er4sQ2DxqOS_",
        "colab": {
          "base_uri": "https://localhost:8080/"
        },
        "outputId": "65038a2b-3175-453a-bb34-44f269b75593"
      },
      "execution_count": 26,
      "outputs": [
        {
          "output_type": "stream",
          "name": "stdout",
          "text": [
            "Standard Deviation of Dataset 1: 25.24491235873082\n",
            "Standard Deviation of Dataset 2: 25.12318451152242\n",
            "Dataset 1 has more variability.\n"
          ]
        }
      ]
    },
    {
      "cell_type": "code",
      "source": [
        "#19.Write a Python program to visualize covariance using a heatmap\n",
        "import numpy as np\n",
        "import pandas as pd\n",
        "import seaborn as sns\n",
        "import matplotlib.pyplot as plt\n",
        "\n",
        "data = pd.DataFrame({\n",
        "    \"A\": np.random.randint(1, 100, 50),\n",
        "    \"B\": np.random.randint(1, 100, 50),\n",
        "    \"C\": np.random.randint(1, 100, 50)\n",
        "})\n",
        "\n",
        "cov_matrix = data.cov()\n",
        "\n",
        "sns.heatmap(cov_matrix, annot=True, cmap=\"coolwarm\", fmt=\".2f\")\n",
        "plt.title(\"Covariance Heatmap\")\n",
        "plt.show()\n"
      ],
      "metadata": {
        "id": "In9kGw8iqPKP",
        "colab": {
          "base_uri": "https://localhost:8080/",
          "height": 452
        },
        "outputId": "5101a8fb-b408-44f4-9485-5d7e14114685"
      },
      "execution_count": 27,
      "outputs": [
        {
          "output_type": "display_data",
          "data": {
            "text/plain": [
              "<Figure size 640x480 with 2 Axes>"
            ],
            "image/png": "[encoded data removed]"
          },
          "metadata": {}
        }
      ]
    },
    {
      "cell_type": "code",
      "source": [
        "#20.Use seaborn to create a correlation matrix for a dataset\n",
        "import numpy as np\n",
        "import pandas as pd\n",
        "import seaborn as sns\n",
        "import matplotlib.pyplot as plt\n",
        "\n",
        "data = pd.DataFrame({\n",
        "    \"A\": np.random.randint(1, 100, 50),\n",
        "    \"B\": np.random.randint(1, 100, 50),\n",
        "    \"C\": np.random.randint(1, 100, 50),\n",
        "    \"D\": np.random.randint(1, 100, 50)\n",
        "})\n",
        "\n",
        "corr_matrix = data.corr()\n",
        "\n",
        "sns.heatmap(corr_matrix, annot=True, cmap=\"coolwarm\", fmt=\".2f\")\n",
        "plt.title(\"Correlation Matrix Heatmap\")\n",
        "plt.show()\n"
      ],
      "metadata": {
        "id": "sE9vP15SqPth",
        "colab": {
          "base_uri": "https://localhost:8080/",
          "height": 452
        },
        "outputId": "a65a3ec5-9a07-49c9-b717-8bcbf1cd8deb"
      },
      "execution_count": 28,
      "outputs": [
        {
          "output_type": "display_data",
          "data": {
            "text/plain": [
              "<Figure size 640x480 with 2 Axes>"
            ],
            "image/png": "[encoded data removed]"
          },
          "metadata": {}
        }
      ]
    },
    {
      "cell_type": "code",
      "source": [
        "#21.Generate a dataset and implement both variance and standard deviation computations\n",
        "import numpy as np\n",
        "\n",
        "data = np.random.randint(1, 100, 50)\n",
        "\n",
        "variance = np.var(data)\n",
        "std_dev = np.std(data)\n",
        "\n",
        "print(\"Dataset:\", data)\n",
        "print(\"Variance:\", variance)\n",
        "print(\"Standard Deviation:\", std_dev)\n"
      ],
      "metadata": {
        "id": "lyyzXzxjqQKJ",
        "colab": {
          "base_uri": "https://localhost:8080/"
        },
        "outputId": "ab96d516-4d44-458e-f944-c25c1d5b2406"
      },
      "execution_count": 29,
      "outputs": [
        {
          "output_type": "stream",
          "name": "stdout",
          "text": [
            "Dataset: [46 57 32 48 47 26  3 25 18 19 92 97 97 14 53 35 67 98 19 57 93 16 86  5\n",
            " 54 93 57 41 36 51 67 12 62 98 98 22 74 71 78 65 42 61 70 71 38 49 87 69\n",
            " 19  9]\n",
            "Variance: 801.0656\n",
            "Standard Deviation: 28.30310230345783\n"
          ]
        }
      ]
    },
    {
      "cell_type": "code",
      "source": [
        "#22.Visualize skewness and kurtosis using Python libraries like matplotlib or seaborn\n",
        "import numpy as np\n",
        "import seaborn as sns\n",
        "import matplotlib.pyplot as plt\n",
        "import scipy.stats as stats\n",
        "\n",
        "data = np.random.exponential(scale=2, size=1000)\n",
        "\n",
        "skewness = stats.skew(data)\n",
        "kurtosis = stats.kurtosis(data)\n",
        "\n",
        "sns.histplot(data, bins=30, kde=True, color=\"blue\")\n",
        "plt.title(f\"Histogram with Skewness: {skewness:.2f}, Kurtosis: {kurtosis:.2f}\")\n",
        "plt.xlabel(\"Values\")\n",
        "plt.ylabel(\"Frequency\")\n",
        "plt.show()\n"
      ],
      "metadata": {
        "id": "vhbhxU5uqYDo",
        "colab": {
          "base_uri": "https://localhost:8080/",
          "height": 472
        },
        "outputId": "39a08373-0fe5-416e-e366-f4dcac959a6d"
      },
      "execution_count": 30,
      "outputs": [
        {
          "output_type": "display_data",
          "data": {
            "text/plain": [
              "<Figure size 640x480 with 1 Axes>"
            ],
            "image/png": "[encoded data removed]"
          },
          "metadata": {}
        }
      ]
    },
    {
      "cell_type": "code",
      "source": [
        "#23.Implement the Pearson and Spearman correlation coefficients for a dataset\n",
        "import numpy as np\n",
        "import scipy.stats as stats\n",
        "\n",
        "x = np.random.randint(1, 100, 50)\n",
        "y = np.random.randint(1, 100, 50)\n",
        "\n",
        "pearson_corr, _ = stats.pearsonr(x, y)\n",
        "spearman_corr, _ = stats.spearmanr(x, y)\n",
        "\n",
        "print(\"Pearson Correlation Coefficient:\", pearson_corr)\n",
        "print(\"Spearman Correlation Coefficient:\", spearman_corr)\n"
      ],
      "metadata": {
        "id": "zZK6QjD-qYe8",
        "colab": {
          "base_uri": "https://localhost:8080/"
        },
        "outputId": "3c33869b-f7be-4e54-9487-8b1961f61a61"
      },
      "execution_count": 31,
      "outputs": [
        {
          "output_type": "stream",
          "name": "stdout",
          "text": [
            "Pearson Correlation Coefficient: -0.09732904351683018\n",
            "Spearman Correlation Coefficient: -0.12439329150794994\n"
          ]
        }
      ]
    },
    {
      "cell_type": "code",
      "source": [
        "#24.Use NumPy or pandas to summarize a dataset’s descriptive statistics\n",
        "import pandas as pd\n",
        "import numpy as np\n",
        "\n",
        "data = pd.DataFrame({\n",
        "    \"A\": np.random.randint(1, 100, 50),\n",
        "    \"B\": np.random.randint(1, 100, 50),\n",
        "    \"C\": np.random.randint(1, 100, 50)\n",
        "})\n",
        "\n",
        "summary = data.describe()\n",
        "\n",
        "print(summary)\n"
      ],
      "metadata": {
        "id": "URYjJKBYqYzL",
        "colab": {
          "base_uri": "https://localhost:8080/"
        },
        "outputId": "bf0b07ee-7a24-4d24-a664-9d3bec760d99"
      },
      "execution_count": 32,
      "outputs": [
        {
          "output_type": "stream",
          "name": "stdout",
          "text": [
            "               A          B          C\n",
            "count  50.000000  50.000000  50.000000\n",
            "mean   51.600000  48.080000  48.120000\n",
            "std    28.483436  28.869757  28.238518\n",
            "min     7.000000   8.000000   2.000000\n",
            "25%    29.000000  20.000000  20.250000\n",
            "50%    49.500000  50.000000  51.500000\n",
            "75%    75.000000  73.500000  68.750000\n",
            "max    99.000000  97.000000  97.000000\n"
          ]
        }
      ]
    }
  ]
}