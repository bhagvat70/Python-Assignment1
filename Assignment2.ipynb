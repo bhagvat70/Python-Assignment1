{
  "nbformat": 4,
  "nbformat_minor": 0,
  "metadata": {
    "colab": {
      "provenance": []
    },
    "kernelspec": {
      "name": "python3",
      "display_name": "Python 3"
    },
    "language_info": {
      "name": "python"
    }
  },
  "cells": [
    {
      "cell_type": "markdown",
      "source": [
        "# Data Types and Structures Questions\n"
      ],
      "metadata": {
        "id": "zgQaIzdPAZdF"
      }
    },
    {
      "cell_type": "markdown",
      "source": [
        "1. What are data structures, and why are they important?\n",
        "    - A data structure is a way to organize, manage, and store data in a computer so that it can be used efficiently. It defines the relationship between the data and the operations that can be performed on the data.\n",
        "    - Why its important :\n",
        "        - Easy Data Handling:\n",
        "              Helps organize data so it’s easier to find and use.\n",
        "        - Faster Processing:\n",
        "              Saves time by making operations like searching or sorting faster.\n",
        "        - Better Memory Use:\n",
        "              Stores data in a way that avoids wasting space.  \n",
        "        - Solves Problems:\n",
        "              Makes solving complex problems simpler by arranging data logically.\n",
        "2. Explain the difference between mutable and immutable data types with examples\n",
        "  - Mutable\n",
        "     - Modification :\tCan be changed.\n",
        "     - Examples : List, Dictionary, Set\n",
        "     - Memory Usage :\tModifies the same object.\n",
        "  - Immutable\n",
        "    - Modification : Cannot be changed.\n",
        "    - Examples : String, Tuple, Integer, Float\n",
        "    - Memory Usage : Creates a new object.\n",
        "\n",
        "3. What are the main differences between lists and tuples in Python?\n",
        "  - lists\n",
        "    - Mutability : Can be changed (mutable).  \n",
        "    - Syntax : Use square brackets [ ]. Example: my_list = [1, 2, 3]\n",
        "    - Performance : Slower because they are mutable.\n",
        "    - Methods : Many methods like append(), remove().\n",
        "  - tuples\n",
        "    - Mutability : Cannot be changed (immutable).\n",
        "    - Syntax : Use parentheses ( ). Example: my_tuple = (1, 2, 3)\n",
        "    - Performance :  Faster because they are immutable.\n",
        "    - Methods : Fewer methods like count(), index().\n",
        "\n",
        "4. Describe how dictionaries store data?\n",
        "  - A dictionary in Python is a collection of key-value pairs that stores data in an unordered but optimized way for fast lookups.\n",
        "\n",
        "5. Why might you use a set instead of a list in Python?\n",
        "  - A set in Python is an unordered collection of unique elements.\n",
        "      - Eliminating Duplicates\n",
        "      - Fast Membership Testing\n",
        "      - Performance Benefits\n",
        "      - Set Operations\n",
        "      - Immutable Keys in a Collection\n",
        "    \n",
        "6. What is a string in Python, and how is it different from a list?\n",
        "  - A string is a sequence of characters enclosed in single quotes ('), double quotes (\"), or triple quotes (''' or \"\"\").\n",
        "  - It is immutable, meaning you cannot change individual characters in a string after it is created.\n",
        "      - String\n",
        "            - Data Type :  Sequence of characters (e.g., 'a', 'b', 'c').\n",
        "            - Mutability :\tImmutable (cannot change individual characters).\n",
        "            - Element Type : \tOnly contains characters.\n",
        "            - Syntax :\tEnclosed in quotes (\" \" or ' ').\n",
        "\n",
        "      - List\n",
        "            - Data Type :  Sequence of elements that can be of any data type (e.g., integers, strings, objects).\n",
        "            - Mutability : Mutable (can modify, add, or remove elements).\n",
        "            - Element Type : Can contain mixed types (e.g.[1, \"hello\", True]).\n",
        "            - Syntax : Enclosed in square brackets ([ ]).\n",
        "\n",
        "7. How do tuples ensure data integrity in Python ?\n",
        "  - Tuples in Python ensure data integrity primarily through their immutability. Here's how tuples contribute to data integrity and why they are beneficial in certain scenarios:\n",
        "     - Immutability\n",
        "     - Prevention of Accidental Changes\n",
        "     - Hashability\n",
        "     - Easier Debugging\n",
        "     - Representing Fixed Data\n",
        "\n",
        "8. What is a hash table, and how does it relate to dictionaries in Python ?\n",
        "    - A hash table is a data structure that provides fast data retrieval by using a technique called hashing. It stores data in an array-like structure where each key is converted into an index using a hash function. This allows for near-instant lookups, insertions, and deletions.\n",
        "        - Core Data Structure: Dictionaries in Python use hash tables for storing and retrieving data efficiently.\n",
        "        - Hashing: The dictionary's keys are hashed to compute their storage index. Only hashable objects (immutable and with a consistent hash value) can be used as keys (e.g., strings, numbers, tuples).\n",
        "        - Efficiency: Dictionaries offer average time complexity of 𝑂(1)O(1) for lookups, insertions, and deletions, thanks to their underlying hash table.\n",
        "        - Collisions: If two keys hash to the same index (a collision), Python handles this using techniques like chaining (storing multiple key-value pairs at the same index) or open addressing.\n",
        "\n",
        "9. Can lists contain different data types in Python ?\n",
        "  - Yes, lists in Python can contain elements of different data types. Python lists are highly versatile and allow you to store a mixture of integers, floats, strings, objects, and even other lists.\n",
        "  - Python lists can contain elements of multiple data types, making them a flexible and powerful data structure for handling diverse collections of data.\n",
        "\n",
        "10. Explain why strings are immutable in Python .\n",
        "  - Strings are immutable in Python, meaning once a string is created, its content cannot be modified. This immutability is a deliberate design choice in Python, and it has several important reasons and benefits:\n",
        "      - Strings are Immutable for Performance\n",
        "      - Hashability\n",
        "      - Avoiding Side Effects\n",
        "      - Thread-Safety\n",
        "      - Simplifies String Operations\n",
        "      - Historical and Practical Reasons\n",
        "\n",
        "11. What advantages do dictionaries offer over lists for certain tasks ?\n",
        "  - Key-Value Pair Storage\n",
        "  - Improved Readability and Context\n",
        "  - Fast Lookups\n",
        "  - No Need to Remember Index Positions\n",
        "  - Flexibility with Non-Sequential Data\n",
        "  - Flexibility with Data Modifications\n",
        "  - Handling Sparse Data\n",
        "  - Avoiding Duplicate Keys\n",
        "\n",
        "12. Describe a scenario where using a tuple would be preferable over a list ?\n",
        "  - Using a tuple is preferable over a list in scenarios where the data needs to be immutable, meaning it should not change after creation. Here are some common examples:\n",
        "      - Ensuring Data Integrity\n",
        "      - Using as Dictionary Keys\n",
        "      - Optimized Memory Usage\n",
        "      - Returning Multiple Values from a Function\n",
        "      - Preventing Accidental Modifications\n",
        "      - Sequence Unpacking\n",
        "\n",
        "13. How do sets handle duplicate values in Python?\n",
        "  - Sets automatically handle and eliminate duplicate values. A set is an unordered collection of unique elements, which means that if duplicate values are added to a set, only one instance of each value is stored.\n",
        "    - Automatic Removal of Duplicates\n",
        "      - When duplicate elements are added to a set, Python retains only one copy of each.\n",
        "      - eg., my_set = {1, 2, 2, 3, 4, 4}\n",
        "             print(my_set)  # Output: {1, 2, 3, 4}\n",
        "    - Duplicate Handling During Addition\n",
        "      - When using the add() method or during set creation, if the element is already present, it is ignored.\n",
        "      - eg., my_set = {1, 2, 3}\n",
        "             my_set.add(2)  # Adding a duplicate value\n",
        "             print(my_set)  # Output: {1, 2, 3} (no change)\n",
        "\n",
        "14. How does the “in” keyword work differently for lists and dictionaries ?\n",
        "  - The in keyword in Python is used to check for membership, but its behavior differs between lists and dictionaries due to their underlying structure:\n",
        "      - in with Lists :\n",
        "          - The in keyword checks if a value exists as an element in the list.\n",
        "          - Time Complexity: O(n) (linear search) since it may need to iterate through all elements to find the value\n",
        "          - eg., my_list = [10, 20, 30, 40]\n",
        "                # Check if an element is in the list\n",
        "                print(20 in my_list)  # Output: True\n",
        "                print(50 in my_list)  # Output: False\n",
        "      - in with Dictionaries :\n",
        "          - The in keyword checks for the existence of a key in the dictionary (not values).\n",
        "          - Time Complexity: O(1) (average-case) because dictionaries use a hash table for key lookups.\n",
        "          - eg. my_dict = {\"name\": \"Bhagvat\", \"age\": 19}\n",
        "                # Check if a key exists in the dictionary\n",
        "                print(\"name\" in my_dict)  # Output: True\n",
        "                print(\"Bhagvat\" in my_dict)  # Output: False (not checking values)\n",
        "\n",
        "15. Can you modify the elements of a tuple? Explain why or why not?  \n",
        "    - No, you cannot modify the elements of a tuple in Python because tuples are immutable.\n",
        "        - Immutability:\n",
        "            - Once a tuple is created, its data cannot be changed. This includes not being able to modify, add, or remove elements.\n",
        "            - This behavior is different from lists, which are mutable and allow modifications.\n",
        "        - Design Choice:\n",
        "            - The immutability of tuples makes them more memory efficient and ensures that data cannot be changed accidentally.\n",
        "            - Immutability also allows tuples to be used as keys in dictionaries or elements in sets, as they are hashable.\n",
        "\n",
        "16. What is a nested dictionary, and give an example of its use case ?\n",
        "    - A nested dictionary in Python is a dictionary within another dictionary. It allows for hierarchical or grouped data structures, making it possible to organize complex data in a structured way.\n",
        "      - Eg.,\n",
        "            students = {\n",
        "              \"student1\": {\"name\": \"Bhagvat\", \"age\": 20, \"grade\": \"A\"},\n",
        "              \"student2\": {\"name\": \"Amol\", \"age\": 22, \"grade\": \"B\"},\n",
        "              \"student3\": {\"name\": \"Sumit\", \"age\": 21, \"grade\": \"A+\"},\n",
        "            }\n",
        "\n",
        "17. Describe the time complexity of accessing elements in a dictionary.\n",
        "    - In Python, dictionaries are implemented using a hash table. The time complexity of accessing elements in a dictionary depends on whether you're accessing keys, values, or performing operations like lookup or insertion.\n",
        "      - Key Access (Lookup)\n",
        "          - Average Case: O(1)\n",
        "              - A dictionary uses a hash table where the key's hash value determines its index in memory. This allows for direct access without iteration, making it very efficient.\n",
        "              - Example:\n",
        "                my_dict = {\"name\": \"Bhagvat\", \"age\": 25}\n",
        "                print(my_dict[\"name\"])  # O(1)\n",
        "          - Worst Case: O(n)\n",
        "              - In rare cases, hash collisions can occur, where multiple keys have the same hash value. Resolving collisions may require checking multiple entries, degrading performance to O(n).\n",
        "      - Checking Membership (in Keyword):\n",
        "          - Average Case: O(1)\n",
        "              - The hash table is used to quickly verify if a key exists.\n",
        "              - EG., print(\"name\" in my_dict)  # O(1)\n",
        "          - Worst Case: O(n)\n",
        "              - Similar to key lookup, hash collisions can degrade performance.\n",
        "      - Value Access\n",
        "          - Time Complexity: O(n)\n",
        "              - Dictionaries are optimized for key access, not value access. To access a value, you must first perform a lookup for its corresponding key (O(1)).\n",
        "              - If you want to check if a value exists in the dictionary, you must iterate through all values.\n",
        "              - Example : print(\"Bhagvat\" in my_dict.values())  # O(n)\n",
        "\n",
        "18. In what situations are lists preferred over dictionaries ?\n",
        "  - Lists and dictionaries are both essential data structures in Python, but their usage depends on the nature of the task and the type of data being handled. Here's when lists are preferred over dictionaries:\n",
        "      - Situations Where Lists Are Preferred\n",
        "        - Sequential or Ordered Data\n",
        "        - Index-Based Access\n",
        "        - Homogeneous Data\n",
        "        - Small Data Sets\n",
        "        - Iterative Operations\n",
        "        - No Key-Value Relationship\n",
        "        - Dynamic Size\n",
        "\n",
        "19. Why are dictionaries considered unordered, and how does that affect data retrieval ?\n",
        "  - Historical Behavior:\n",
        "      - In Python versions before 3.7, dictionaries were inherently unordered. The order of elements (key-value pairs) was not guaranteed because dictionaries were implemented using hash tables, where the placement of elements depended on their hash values.\n",
        "      - This meant that the insertion order of keys was not preserved, making dictionaries \"unordered\" in nature.\n",
        "  - Modern Behavior:\n",
        "      - Starting from Python 3.7, dictionaries maintain insertion order as an implementation detail. In Python 3.8+, this is officially part of the language specification.\n",
        "      - However, dictionaries are still not considered truly \"ordered collections\" because their primary design is focused on fast lookups and mutability, not on maintaining strict order.\n",
        "  - Key-Based Retrieval:\n",
        "      - Dictionaries retrieve values by their keys, not by position or order. The order of elements has no impact on how quickly a value is retrieved.\n",
        "      - eg., my_dict = {\"a\": 1, \"b\": 2, \"c\": 3}\n",
        "           print(my_dict[\"b\"])  # Output: 2\n",
        "  - Iterating Over Dictionaries:\n",
        "     - Since Python 3.7, iterating over a dictionary reflects the insertion order:\n",
        "     - eg., my_dict = {\"x\": 10, \"y\": 20, \"z\": 30}\n",
        "           for key in my_dict:\n",
        "           print(key, my_dict[key])\n",
        "            # Output:\n",
        "            # x 10\n",
        "            # y 20\n",
        "            # z 30\n",
        "\n",
        "20. Explain the difference between a list and a dictionary in terms of data retrieval.\n",
        "  - List:\n",
        "      - Retrieval Basis: Access data by index (e.g., my_list[2]).\n",
        "      - Speed of Retrieval: Searching for a value takes O(n) time (linear\n",
        "        search)\n",
        "      - Order Importance: Maintains a specific order; data retrieval depends on\n",
        "        the position.\n",
        "      - Best Use Case: Use for ordered, sequential data (e.g., [10, 20, 30]).\n",
        "      - What Identifies Data: Data is identified by its index.\n",
        "      - Example:\n",
        "                fruits = [\"apple\", \"banana\", \"cherry\"]\n",
        "                print(fruits[1])  # Output: banana\n",
        "      - Flexibility in Retrieval: Cannot retrieve by value without iteration.\n",
        "      - Structure: Flat, sequential data.\n",
        "\n",
        "  - Dictionary:\n",
        "      - Retrieval Basis: Access data by key (e.g., my_dict[\"key\"]).\n",
        "      - Speed of Retrieval: Retrieving a value by key takes O(1) time on  \n",
        "        average (hashing).\n",
        "      - Order Importance: Order is secondary (insertion order preserved in\n",
        "        Python 3.7+), retrieval depends on the key.\n",
        "      - Best Use Case: Use for key-value pairs (e.g., {\"Alice\": 85, \"Bob\": 90})\n",
        "      - What Identifies Data: Data is identified by a unique key.\n",
        "      - Example:\n",
        "                person = {\"name\": \"Bhagvat\", \"age\": 25}\n",
        "                print(person[\"name\"])  # Output: Bhagvat\n",
        "      - Flexibility in Retrieval: Allows direct retrieval using a key.\n",
        "      - Structure:  Mapped, structured data with keys and values.\n"
      ],
      "metadata": {
        "id": "x7Pgb3dEAc-p"
      }
    },
    {
      "cell_type": "code",
      "source": [
        "# 1. Write a code to create a string with your name and print it.\n",
        "name = \"Bhagvat\"\n",
        "print(name)"
      ],
      "metadata": {
        "id": "90j8Gjf9AODm",
        "colab": {
          "base_uri": "https://localhost:8080/"
        },
        "outputId": "ac34c4fc-b9c6-4c05-d074-f5d62ce81522"
      },
      "execution_count": 1,
      "outputs": [
        {
          "output_type": "stream",
          "name": "stdout",
          "text": [
            "Bhagvat\n"
          ]
        }
      ]
    },
    {
      "cell_type": "code",
      "execution_count": 2,
      "metadata": {
        "id": "ZNxJJAZTALEi",
        "colab": {
          "base_uri": "https://localhost:8080/"
        },
        "outputId": "b4850540-ba76-47e8-ecea-d9508f927d14"
      },
      "outputs": [
        {
          "output_type": "stream",
          "name": "stdout",
          "text": [
            "11\n"
          ]
        }
      ],
      "source": [
        "#2. Write a code to find the length of the string \"Hello World\".\n",
        "string = \"Hello World\"\n",
        "print(len(string))"
      ]
    },
    {
      "cell_type": "code",
      "source": [
        "#3. Write a code to slice the first 3 characters from the string \"Python Programming\"\n",
        "string = \"Python Programming\"\n",
        "print(string[:3])"
      ],
      "metadata": {
        "colab": {
          "base_uri": "https://localhost:8080/"
        },
        "id": "l96N-qePbkrH",
        "outputId": "226cbf7f-ac75-4b76-b648-fc97f605096a"
      },
      "execution_count": 3,
      "outputs": [
        {
          "output_type": "stream",
          "name": "stdout",
          "text": [
            "Pyt\n"
          ]
        }
      ]
    },
    {
      "cell_type": "code",
      "source": [
        "#4. Write a code to convert the string \"hello\" to uppercase\n",
        "string = \"hello\"\n",
        "print(string.upper())"
      ],
      "metadata": {
        "colab": {
          "base_uri": "https://localhost:8080/"
        },
        "id": "SLmCTkvDbwP_",
        "outputId": "87626f82-adaf-4699-ff9d-7e3ce104ee69"
      },
      "execution_count": 4,
      "outputs": [
        {
          "output_type": "stream",
          "name": "stdout",
          "text": [
            "HELLO\n"
          ]
        }
      ]
    },
    {
      "cell_type": "code",
      "source": [
        "#5. Write a code to replace the word \"apple\" with \"orange\" in the string \"I like apple\"\n",
        "string = \"I like apple\"\n",
        "print(string.replace(\"apple\", \"orange\"))"
      ],
      "metadata": {
        "colab": {
          "base_uri": "https://localhost:8080/"
        },
        "id": "v7Clz2j3b-es",
        "outputId": "2ec3f086-4c42-4713-f84a-25baec2a7e2f"
      },
      "execution_count": 5,
      "outputs": [
        {
          "output_type": "stream",
          "name": "stdout",
          "text": [
            "I like orange\n"
          ]
        }
      ]
    },
    {
      "cell_type": "code",
      "source": [
        "#6. Write a code to create a list with numbers 1 to 5 and print it\n",
        "list = [1, 2, 3, 4, 5]\n",
        "print(list)"
      ],
      "metadata": {
        "colab": {
          "base_uri": "https://localhost:8080/"
        },
        "id": "rRvSgH9BcJNZ",
        "outputId": "9b713562-6a81-472b-c6b6-44d78e062d29"
      },
      "execution_count": 6,
      "outputs": [
        {
          "output_type": "stream",
          "name": "stdout",
          "text": [
            "[1, 2, 3, 4, 5]\n"
          ]
        }
      ]
    },
    {
      "cell_type": "code",
      "source": [
        "#7. Write a code to append the number 10 to the list [1, 2, 3, 4]\n",
        "list = [1, 2, 3, 4]\n",
        "list.append(10)\n",
        "print(list)"
      ],
      "metadata": {
        "colab": {
          "base_uri": "https://localhost:8080/"
        },
        "id": "Tub4sLcgcTwL",
        "outputId": "208badbd-4d7b-4ab4-853d-78b6cd803500"
      },
      "execution_count": 7,
      "outputs": [
        {
          "output_type": "stream",
          "name": "stdout",
          "text": [
            "[1, 2, 3, 4, 10]\n"
          ]
        }
      ]
    },
    {
      "cell_type": "code",
      "source": [
        "#8. Write a code to remove the number 3 from the list [1, 2, 3, 4, 5]\n",
        "list = [1, 2, 3, 4, 5]\n",
        "list.remove(3)\n",
        "print(list)"
      ],
      "metadata": {
        "colab": {
          "base_uri": "https://localhost:8080/"
        },
        "id": "HlGrWWb7cdV1",
        "outputId": "070260c7-e708-4061-a4a6-e8f393e33c3e"
      },
      "execution_count": 8,
      "outputs": [
        {
          "output_type": "stream",
          "name": "stdout",
          "text": [
            "[1, 2, 4, 5]\n"
          ]
        }
      ]
    },
    {
      "cell_type": "code",
      "source": [
        "#9. Write a code to access the second element in the list ['a', 'b', 'c', 'd']\n",
        "list = ['a', 'b', 'c', 'd']\n",
        "print(list[1])"
      ],
      "metadata": {
        "colab": {
          "base_uri": "https://localhost:8080/"
        },
        "id": "pAMV8M2YcmHi",
        "outputId": "ea933fbf-7c2e-499a-b37d-abd7cf2f4078"
      },
      "execution_count": 9,
      "outputs": [
        {
          "output_type": "stream",
          "name": "stdout",
          "text": [
            "b\n"
          ]
        }
      ]
    },
    {
      "cell_type": "code",
      "source": [
        "#10. Write a code to reverse the list [10, 20, 30, 40, 50]\n",
        "list = [10, 20, 30, 40, 50]\n",
        "print(list[::-1])\n"
      ],
      "metadata": {
        "colab": {
          "base_uri": "https://localhost:8080/"
        },
        "id": "TmPTYnA6csls",
        "outputId": "bea4b6bc-c8c8-4aaf-e695-7519136f63fd"
      },
      "execution_count": 10,
      "outputs": [
        {
          "output_type": "stream",
          "name": "stdout",
          "text": [
            "[50, 40, 30, 20, 10]\n"
          ]
        }
      ]
    },
    {
      "cell_type": "code",
      "source": [
        "#11. Write a code to create a tuple with the elements 10, 20, 30 and print it\n",
        "tuple = (10, 20, 30)\n",
        "print(tuple)"
      ],
      "metadata": {
        "colab": {
          "base_uri": "https://localhost:8080/"
        },
        "id": "iW8J25b-c11p",
        "outputId": "3bfcf18e-bc25-45c6-c47b-df1e676a915e"
      },
      "execution_count": 11,
      "outputs": [
        {
          "output_type": "stream",
          "name": "stdout",
          "text": [
            "(10, 20, 30)\n"
          ]
        }
      ]
    },
    {
      "cell_type": "code",
      "source": [
        "#12. Write a code to access the first element of the tuple ('apple', 'banana', 'cherry')\n",
        "tuple = ('apple', 'banana', 'cherry')\n",
        "print(tuple[0])"
      ],
      "metadata": {
        "colab": {
          "base_uri": "https://localhost:8080/"
        },
        "id": "YT8Wkyuac9by",
        "outputId": "0da1b6ae-7ece-430c-f02a-f2551aec2e8d"
      },
      "execution_count": 12,
      "outputs": [
        {
          "output_type": "stream",
          "name": "stdout",
          "text": [
            "apple\n"
          ]
        }
      ]
    },
    {
      "cell_type": "code",
      "source": [
        "#13.  Write a code to count how many times the number 2 appears in the tuple (1, 2, 3, 2, 4, 2)\n",
        "tuple = (1, 2, 3, 2, 4, 2)\n",
        "print(tuple.count(2))"
      ],
      "metadata": {
        "colab": {
          "base_uri": "https://localhost:8080/"
        },
        "id": "YQFaaCyQdERJ",
        "outputId": "1e926a6e-10a9-4b8b-92db-8d81e15d0875"
      },
      "execution_count": 13,
      "outputs": [
        {
          "output_type": "stream",
          "name": "stdout",
          "text": [
            "3\n"
          ]
        }
      ]
    },
    {
      "cell_type": "code",
      "source": [
        "#14. Write a code to find the index of the element \"cat\" in the tuple ('dog', 'cat', 'rabbit')\n",
        "tuple = ('dog', 'cat', 'rabbit')\n",
        "print(tuple.index('cat'))"
      ],
      "metadata": {
        "colab": {
          "base_uri": "https://localhost:8080/"
        },
        "id": "p3gdBG5ddKtH",
        "outputId": "c65409df-8a2b-4a70-d5bd-a5aa5e19775d"
      },
      "execution_count": 14,
      "outputs": [
        {
          "output_type": "stream",
          "name": "stdout",
          "text": [
            "1\n"
          ]
        }
      ]
    },
    {
      "cell_type": "code",
      "source": [
        "#15. Write a code to check if the element \"banana\" is in the tuple ('apple', 'orange', 'banana')\n",
        "tuple = ('apple', 'orange', 'banana')\n",
        "print('banana' in tuple)\n"
      ],
      "metadata": {
        "colab": {
          "base_uri": "https://localhost:8080/"
        },
        "id": "Ms7jtFHCdP2h",
        "outputId": "69647567-5cd9-45e8-c1fd-ed4462ccff86"
      },
      "execution_count": 15,
      "outputs": [
        {
          "output_type": "stream",
          "name": "stdout",
          "text": [
            "True\n"
          ]
        }
      ]
    },
    {
      "cell_type": "code",
      "source": [
        "# 16. Write a code to create a set with the elements 1, 2, 3, 4, 5 and print it\n",
        "set = {1, 2, 3, 4, 5}\n",
        "print(set)"
      ],
      "metadata": {
        "colab": {
          "base_uri": "https://localhost:8080/"
        },
        "id": "0UuaDIctdVl3",
        "outputId": "e0f3a80a-b797-4979-d3c1-7b10540f57bc"
      },
      "execution_count": 16,
      "outputs": [
        {
          "output_type": "stream",
          "name": "stdout",
          "text": [
            "{1, 2, 3, 4, 5}\n"
          ]
        }
      ]
    },
    {
      "cell_type": "code",
      "source": [
        "#17. Write a code to add the element 6 to the set {1, 2, 3, 4}\n",
        "set = {1, 2, 3, 4}\n",
        "set.add(6)\n",
        "print(set)"
      ],
      "metadata": {
        "colab": {
          "base_uri": "https://localhost:8080/"
        },
        "id": "qytT5_IUddns",
        "outputId": "fa98cec2-3182-47f5-8ca6-c3a5d057cfde"
      },
      "execution_count": 17,
      "outputs": [
        {
          "output_type": "stream",
          "name": "stdout",
          "text": [
            "{1, 2, 3, 4, 6}\n"
          ]
        }
      ]
    },
    {
      "cell_type": "code",
      "source": [
        "#18. Write a code to create a tuple with the elements 10, 20, 30 and print it\n",
        "tuple = (10, 20, 30)\n",
        "print(tuple)"
      ],
      "metadata": {
        "colab": {
          "base_uri": "https://localhost:8080/"
        },
        "id": "bjenF5FEdjSb",
        "outputId": "4b7aa3c2-b50d-4881-f163-99be670810e2"
      },
      "execution_count": 18,
      "outputs": [
        {
          "output_type": "stream",
          "name": "stdout",
          "text": [
            "(10, 20, 30)\n"
          ]
        }
      ]
    },
    {
      "cell_type": "code",
      "source": [
        "#19. Write a code to access the first element of the tuple ('apple', 'banana', 'cherry')\n",
        "tuple = ('apple', 'banana', 'cherry')\n",
        "print(tuple[0])"
      ],
      "metadata": {
        "colab": {
          "base_uri": "https://localhost:8080/"
        },
        "id": "65_EyzKadnbD",
        "outputId": "61e6158b-dfc5-4738-a153-749295bfd33c"
      },
      "execution_count": 20,
      "outputs": [
        {
          "output_type": "stream",
          "name": "stdout",
          "text": [
            "apple\n"
          ]
        }
      ]
    },
    {
      "cell_type": "code",
      "source": [
        "#20. Write a code to count how many times the number 2 appears in the tuple (1, 2, 3, 2, 4, 2)\n",
        "tuple = (1, 2, 3, 2, 4, 2)\n",
        "print(tuple.count(2))"
      ],
      "metadata": {
        "colab": {
          "base_uri": "https://localhost:8080/"
        },
        "id": "Oa3y7Ousdr00",
        "outputId": "4ada1c57-80a0-41f7-c42d-62e6440fa962"
      },
      "execution_count": 22,
      "outputs": [
        {
          "output_type": "stream",
          "name": "stdout",
          "text": [
            "3\n"
          ]
        }
      ]
    },
    {
      "cell_type": "code",
      "source": [
        "#21. Write a code to find the index of the element \"cat\" in the tuple ('dog', 'cat', 'rabbit').\n",
        "tuple = ('dog', 'cat', 'rabbit')\n",
        "print(tuple.index('cat'))"
      ],
      "metadata": {
        "colab": {
          "base_uri": "https://localhost:8080/"
        },
        "id": "qo-CzcGcdxph",
        "outputId": "6081fc25-6f8d-4417-e0c1-808264a632f6"
      },
      "execution_count": 23,
      "outputs": [
        {
          "output_type": "stream",
          "name": "stdout",
          "text": [
            "1\n"
          ]
        }
      ]
    },
    {
      "cell_type": "code",
      "source": [
        "# 22. Write a code to check if the element \"banana\" is in the tuple ('apple', 'orange', 'banana')\n",
        "tuple = ('apple', 'orange', 'banana')\n",
        "print('banana' in tuple)"
      ],
      "metadata": {
        "colab": {
          "base_uri": "https://localhost:8080/"
        },
        "id": "B7rLc3sNd67k",
        "outputId": "f9aeb9ee-736a-45a5-d600-836cb6d74c1b"
      },
      "execution_count": 24,
      "outputs": [
        {
          "output_type": "stream",
          "name": "stdout",
          "text": [
            "True\n"
          ]
        }
      ]
    },
    {
      "cell_type": "code",
      "source": [
        "# 23. Write a code to create a set with the elements 1, 2, 3, 4, 5 and print it\n",
        "set = {1, 2, 3, 4, 5}\n",
        "print(set)"
      ],
      "metadata": {
        "colab": {
          "base_uri": "https://localhost:8080/"
        },
        "id": "_AHcvqPUeIrG",
        "outputId": "55470c31-143d-478b-b497-4ae2ebd91c00"
      },
      "execution_count": 25,
      "outputs": [
        {
          "output_type": "stream",
          "name": "stdout",
          "text": [
            "{1, 2, 3, 4, 5}\n"
          ]
        }
      ]
    },
    {
      "cell_type": "code",
      "source": [
        "# 24. Write a code to add the element 6 to the set {1, 2, 3, 4}\n",
        "set = {1, 2, 3, 4}\n",
        "set.add(6)\n",
        "print(set)"
      ],
      "metadata": {
        "colab": {
          "base_uri": "https://localhost:8080/"
        },
        "id": "p4eHAtwneMW9",
        "outputId": "3a42e668-452d-424b-8530-33a853f1c089"
      },
      "execution_count": 28,
      "outputs": [
        {
          "output_type": "stream",
          "name": "stdout",
          "text": [
            "{1, 2, 3, 4, 6}\n"
          ]
        }
      ]
    }
  ]
}