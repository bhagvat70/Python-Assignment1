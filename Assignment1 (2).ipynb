{
  "nbformat": 4,
  "nbformat_minor": 0,
  "metadata": {
    "colab": {
      "provenance": []
    },
    "kernelspec": {
      "name": "python3",
      "display_name": "Python 3"
    },
    "language_info": {
      "name": "python"
    }
  },
  "cells": [
    {
      "cell_type": "markdown",
      "source": [
        "# Assignment 1\n",
        "\n",
        "\n"
      ],
      "metadata": {
        "id": "K9UYsIWuLtmF"
      }
    },
    {
      "cell_type": "markdown",
      "source": [],
      "metadata": {
        "id": "guwgFwfOOX_f"
      }
    },
    {
      "cell_type": "markdown",
      "source": [
        "1. What is Python, and why is it popular?\n",
        "   - Python is a high-level, interpreted, and general-purpose programming language designed for simplicity and readability.\n",
        "   - It supports multiple programming paradigms, including:\n",
        "       Object-Oriented Programming (OOP),\n",
        "       Procedural Programming,\n",
        "       Functional Programming.\n",
        "   - Python was created by Guido van Rossum in 1991 and emphasizes code readability with its clean syntax and use of indentation.\n",
        "\n",
        "   * why python is popular :->\n",
        "    i) Easy to use & learning\n",
        "    ii) Versatility\n",
        "    iii) A lot of libraries in python\n",
        "    iv) Strong community support.\n",
        "\n",
        "2. What is an interpreter in Python?\n",
        "  - An interpreter in Python is a software program that executes Python code line by line. It translates the high-level Python code into machine code that the computer can understand and execute, without the need for prior compilation.\n",
        "\n",
        "3. What are pre-defined keywords in Python?\n",
        "  - false\n",
        "  - class\n",
        "  - none\n",
        "  - true\n",
        "  - and\n",
        "  - as\n",
        "  - assert\n",
        "  - async\n",
        "  - await\n",
        "  - break\n",
        "  - continue\n",
        "  - def\n",
        "  - del\n",
        "  - elif\n",
        "  - else\n",
        "  - expect\n",
        "  - finally\n",
        "  - for\n",
        "  - from\n",
        "  - global\n",
        "  - if\n",
        "  - import\n",
        "  - in\n",
        "  - is\n",
        "  - lambda\n",
        "  - nonlocal\n",
        "  - not\n",
        "  - or\n",
        "  - pass\n",
        "  - raise\n",
        "  - return\n",
        "  - try\n",
        "  - while\n",
        "  - with\n",
        "  - yield\n",
        "\n",
        "4. Can keywords be used as variable names?\n",
        "  - No, keywords cannot be used as variable names. Keywords are reserved by the Python language for specific functionality, and using them as variable names would cause a syntax error.\n",
        "\n",
        "5. What is mutability in Python?\n",
        "  - Mutability refers to the ability of an object to be modified after it is created. In Python, objects can be classified into mutable and immutable types based on whether their values can be changed or not.\n",
        "\n",
        "6. Why are lists mutable, but tuples are immutable ?\n",
        "  - Lists Are Mutable:\n",
        "    - Purpose: Lists are designed to be flexible and dynamic containers that  allow modification of their contents.\n",
        "    - Use Case: Lists are useful when you need to perform operations like adding, removing, or updating elements over time, which requires the ability to modify the contents.\n",
        "  - Tuples Are Immutable:\n",
        "    - Purpose: Tuples are designed to represent fixed collections of items that should not be altered once they are created.\n",
        "    - Use Case: Tuples are suitable for representing data that should remain constant, like coordinates, configuration settings, or records that shouldn’t change.\n",
        "\n",
        "7. What is the difference between “==” and “is” operators in Python?\n",
        "  - == (Equality Operator)\n",
        "    - Purpose: The == operator checks if the values of two objects are equal.\n",
        "    - What It Compares: It compares the contents or values of the objects.\n",
        "    - Use Case: Use == when you want to check if two objects have the same value, even if they are different objects in memory.\n",
        "  - is (Identity Operator)\n",
        "    - Purpose: The is operator checks if two variables refer to the same object in memory (i.e., whether they have the same identity).\n",
        "    - What It Compares: It compares the memory address or identity of the objects.\n",
        "    - Use Case: Use is when you want to check if two variables point to the same object in memory, not just if their values are equal.\n",
        "\n",
        "8. What are logical operators in Python ?\n",
        "  - and: Checking if multiple conditions are true.\n",
        "  - or: Checking if at least one condition is true.\n",
        "  - not: Negating a condition.  \n",
        "\n",
        "9. What is type casting in Python?\n",
        "  - Type casting refers to converting one data type into another. Python provides two types of type casting:\n",
        "    - Implicit Type Casting (Automatic Casting)\n",
        "    - Explicit Type Casting (Manual Casting)\n",
        "\n",
        "10. What is the difference between implicit and explicit type casting?\n",
        "  - Implicit Type Casting\n",
        "    - Definition : Python automatically converts one data type to another.\n",
        "    - When It Occurs : Occurs automatically when a smaller data type is converted to a larger one (e.g., int to float).\n",
        "    - Type of Conversion :Converts from a smaller type to a larger type (e.g., integer to float).\n",
        "    - Example : x = 5 (int) and y = 2.5 (float); x + y results in 7.5 (float).\n",
        "  -  Explicit Type Casting\n",
        "    - Definition : The programmer manually converts one data type to another using built-in functions.\n",
        "    - When It Occurs : Occurs when the programmer decides to convert a value to another data type.\n",
        "    - Type of Conversion : Converts between any types as per user requirements, including narrowing conversions (e.g., float to int).\n",
        "    - Example : x = 7.8; y = int(x) results in 7 (int).x = 7.8; y = int(x) results in 7 (int).\n",
        "\n",
        "11. What is the purpose of conditional statements in Python?\n",
        "  - Conditional statements in Python are used to execute specific blocks of code based on whether a given condition is True or False. They allow for decision-making, flow control, error handaling & implementing logic in programs, enabling the program to react differently based on various inputs or conditions.\n",
        "\n",
        "12. How does the elif statement work?\n",
        "  - The program first evaluates the if condition.\n",
        "      - If the if condition is True, its associated block is executed, and the rest of the elif and else blocks are skipped.\n",
        "      - If the if condition is False, the program proceeds to evaluate the elif conditions in order.\n",
        "  - The program checks each elif condition one by one.\n",
        "      - If any elif condition is True, its corresponding block is executed, and the rest of the conditions are ignored.\n",
        "  - If all if and elif conditions are False, the else block (if present) will be executed.\n",
        "\n",
        "13. What is the difference between for and while loops?\n",
        "    - For loop\n",
        "        - Purpose : Used for iterating over a sequence (e.g., list, tuple, string, etc.) or a range of values.\n",
        "        - Termination : Automatically terminates when the sequence ends or the loop completes all iterations.\n",
        "        - Condition Type :Iterates over a sequence of values (like list or range).\n",
        "        - Use Case : Used when the number of iterations is known in advance or based on a sequence.\n",
        "        - Loop Control :\tCan use break, continue, and else (after completing the loop).\n",
        "    - While loop\n",
        "        - Purpose : Used to repeatedly execute a block of code as long as a given condition is True.\n",
        "        - Termination : Terminates when the condition becomes False.\n",
        "        - Condition Type : Continues until the condition evaluates to False.\n",
        "        - Use Case : Used when the number of iterations is unknown, and the loop continues based on a condition.\n",
        "        - Loop Control : Can use break, continue, and else (after exiting the loop).\n",
        "\n",
        "14. Describe a scenario where a while loop is more suitable than a for loop.\n",
        "  - Scenario: User Input Validation\n",
        "      - A while loop is more suitable when the number of iterations is not known in advance and the loop needs to continue executing until a certain condition is met.\n"
      ],
      "metadata": {
        "id": "h3JQEOniL6N8"
      }
    },
    {
      "cell_type": "code",
      "source": [
        "# 1. Write a Python program to print \"Hello, World!\"\n",
        "print(\"Hello, World!\")"
      ],
      "metadata": {
        "colab": {
          "base_uri": "https://localhost:8080/"
        },
        "id": "TMbIgR-jZzZl",
        "outputId": "8fcc3aef-89e9-45d5-c31a-838e70bbc8ca"
      },
      "execution_count": 1,
      "outputs": [
        {
          "output_type": "stream",
          "name": "stdout",
          "text": [
            "Hello, World!\n"
          ]
        }
      ]
    },
    {
      "cell_type": "code",
      "execution_count": 11,
      "metadata": {
        "colab": {
          "base_uri": "https://localhost:8080/"
        },
        "id": "5suSiC_kLhkv",
        "outputId": "3347ca76-a554-4b18-a84c-7ec72ec3fb94"
      },
      "outputs": [
        {
          "output_type": "stream",
          "name": "stdout",
          "text": [
            "Your name is Bhagvat Shinde Patil and your age is 19\n"
          ]
        }
      ],
      "source": [
        "# 2. Write a Python program that displays your name and age\n",
        "name = \"Bhagvat Shinde Patil\"\n",
        "age = 19\n",
        "print(f\"Your name is {name} and your age is {age}\")"
      ]
    },
    {
      "cell_type": "code",
      "source": [
        "# 3. Write code to print all the pre-defined keywords in Python using the keyword library\n",
        "help('keywords')"
      ],
      "metadata": {
        "colab": {
          "base_uri": "https://localhost:8080/"
        },
        "id": "W9zTIzicbSBh",
        "outputId": "e46d2e94-d262-4517-a1eb-7b8f605058b6"
      },
      "execution_count": 10,
      "outputs": [
        {
          "output_type": "stream",
          "name": "stdout",
          "text": [
            "\n",
            "Here is a list of the Python keywords.  Enter any keyword to get more help.\n",
            "\n",
            "False               class               from                or\n",
            "None                continue            global              pass\n",
            "True                def                 if                  raise\n",
            "and                 del                 import              return\n",
            "as                  elif                in                  try\n",
            "assert              else                is                  while\n",
            "async               except              lambda              with\n",
            "await               finally             nonlocal            yield\n",
            "break               for                 not                 \n",
            "\n"
          ]
        }
      ]
    },
    {
      "cell_type": "code",
      "source": [
        "# 4 . Write a program that checks if a given word is a Python keyword\n",
        "import keyword\n",
        "word = input(\"Enter a word: \")\n",
        "if keyword.iskeyword(word):\n",
        "    print(f\"{word} is a Python keyword.\")\n",
        "else:\n",
        "    print(f\"{word} is not a Python keyword.\")"
      ],
      "metadata": {
        "colab": {
          "base_uri": "https://localhost:8080/"
        },
        "id": "9F0AWlhWcGcC",
        "outputId": "d71e2ae2-26b6-4ff0-e966-c0fd4475f82b"
      },
      "execution_count": 15,
      "outputs": [
        {
          "output_type": "stream",
          "name": "stdout",
          "text": [
            "Enter a word: False\n",
            "False is a Python keyword.\n"
          ]
        }
      ]
    },
    {
      "cell_type": "code",
      "source": [
        "# 5. Create a list and tuple in Python, and demonstrate how attempting to change an element works differently for each\n",
        "# Creating a list and a tuple\n",
        "my_list = [1, 2, 3]\n",
        "my_tuple = (4, 5, 6)\n",
        "print(\"Original list:\", my_list)\n",
        "my_list[1] = 20\n",
        "print(\"Modified list:\", my_list)\n",
        "\n",
        "print(\"\\nOriginal tuple:\", my_tuple)\n",
        "try:\n",
        "    my_tuple[1] = 50\n",
        "except TypeError as e:\n",
        "    print(\"Error:\", e)\n",
        "\n"
      ],
      "metadata": {
        "colab": {
          "base_uri": "https://localhost:8080/"
        },
        "id": "1pAPFSnTdGBJ",
        "outputId": "b3c7e76d-d5ae-4651-d183-c77274ad1f7e"
      },
      "execution_count": 25,
      "outputs": [
        {
          "output_type": "stream",
          "name": "stdout",
          "text": [
            "Original list: [1, 2, 3]\n",
            "Modified list: [1, 20, 3]\n",
            "\n",
            "Original tuple: (4, 5, 6)\n",
            "Error: 'tuple' object does not support item assignment\n"
          ]
        }
      ]
    },
    {
      "cell_type": "code",
      "source": [
        "# 6. Write a function to demonstrate the behavior of mutable and immutable arguments\n",
        "def modify_immutable(x):\n",
        "    x = x + 10\n",
        "    print(\"Inside function (immutable):\", x)\n",
        "\n",
        "def modify_mutable(lst):\n",
        "    lst.append(4)\n",
        "    print(\"Inside function (mutable):\", lst)\n",
        "\n",
        "num = 20\n",
        "print(\"Before function call (immutable):\", num)\n",
        "modify_immutable(num)\n",
        "print(\"After function call (immutable):\", num)\n",
        "\n",
        "my_list = [1, 2, 3]\n",
        "print(\"\\nBefore function call (mutable):\", my_list)\n",
        "modify_mutable(my_list)\n",
        "print(\"After function call (mutable):\", my_list)\n",
        "\n"
      ],
      "metadata": {
        "colab": {
          "base_uri": "https://localhost:8080/"
        },
        "id": "6hkOpTtOcDod",
        "outputId": "9783de5a-c473-4c09-fb68-4d8936857408"
      },
      "execution_count": 26,
      "outputs": [
        {
          "output_type": "stream",
          "name": "stdout",
          "text": [
            "Before function call (immutable): 20\n",
            "Inside function (immutable): 30\n",
            "After function call (immutable): 20\n",
            "\n",
            "Before function call (mutable): [1, 2, 3]\n",
            "Inside function (mutable): [1, 2, 3, 4]\n",
            "After function call (mutable): [1, 2, 3, 4]\n"
          ]
        }
      ]
    },
    {
      "cell_type": "code",
      "source": [
        "# 7. Write a function to demonstrate the behavior of mutable and immutable arguments\n",
        "\n",
        "def modify_immutable(x):\n",
        "    x += 10\n",
        "    print(\"Inside function (immutable):\", x)\n",
        "\n",
        "def modify_mutable(lst):\n",
        "    lst.append(4)\n",
        "    print(\"Inside function (mutable):\", lst)\n",
        "\n",
        "immutable_var = 20\n",
        "print(\"Before function call (immutable):\", immutable_var)\n",
        "modify_immutable(immutable_var)\n",
        "print(\"After function call (immutable):\", immutable_var)\n",
        "\n",
        "mutable_var = [1, 2, 3]\n",
        "print(\"\\nBefore function call (mutable):\", mutable_var)\n",
        "modify_mutable(mutable_var)\n",
        "print(\"After function call (mutable):\", mutable_var)\n",
        "\n",
        "\n"
      ],
      "metadata": {
        "colab": {
          "base_uri": "https://localhost:8080/"
        },
        "id": "fr-jNiDgeA-8",
        "outputId": "26cf1b41-071b-4613-e20f-b80a323fd125"
      },
      "execution_count": 28,
      "outputs": [
        {
          "output_type": "stream",
          "name": "stdout",
          "text": [
            "Before function call (immutable): 20\n",
            "Inside function (immutable): 30\n",
            "After function call (immutable): 20\n",
            "\n",
            "Before function call (mutable): [1, 2, 3]\n",
            "Inside function (mutable): [1, 2, 3, 4]\n",
            "After function call (mutable): [1, 2, 3, 4]\n"
          ]
        }
      ]
    },
    {
      "cell_type": "code",
      "source": [
        "# 8. Write a program to demonstrate the use of logical operators\n",
        "\n",
        "x = True\n",
        "y = False\n",
        "\n",
        "print(\"Logical AND:\")\n",
        "print(\"x and y:\", x and y)\n",
        "\n",
        "print(\"\\nLogical OR:\")\n",
        "print(\"x or y:\", x or y)\n",
        "\n",
        "print(\"\\nLogical NOT:\")\n",
        "print(\"not x:\", not x)\n",
        "print(\"not y:\", not y)\n"
      ],
      "metadata": {
        "colab": {
          "base_uri": "https://localhost:8080/"
        },
        "id": "UTbVa3S2hCIC",
        "outputId": "ed8f6de3-9106-499a-e061-ed64bd8b51d3"
      },
      "execution_count": 29,
      "outputs": [
        {
          "output_type": "stream",
          "name": "stdout",
          "text": [
            "Logical AND:\n",
            "x and y: False\n",
            "\n",
            "Logical OR:\n",
            "x or y: True\n",
            "\n",
            "Logical NOT:\n",
            "not x: False\n",
            "not y: True\n"
          ]
        }
      ]
    },
    {
      "cell_type": "code",
      "source": [
        "# 9. Write a Python program to convert user input from string to integer, float, and boolean types\n",
        "string_value = input(\"Enter a string value: \")\n",
        "integer_value = int(string_value)\n",
        "float_value = float(string_value)\n",
        "boolean_value = bool(string_value)\n",
        "print(\"String value:\", string_value)\n",
        "print(\"Integer value:\", integer_value)\n",
        "print(\"Float value:\", float_value)\n",
        "print(\"Boolean value:\", boolean_value)\n"
      ],
      "metadata": {
        "colab": {
          "base_uri": "https://localhost:8080/"
        },
        "id": "Iin2__cMiIGh",
        "outputId": "a7cb4ead-31f8-45af-e22b-41ed1e62a551"
      },
      "execution_count": 40,
      "outputs": [
        {
          "output_type": "stream",
          "name": "stdout",
          "text": [
            "Enter a string value: 42\n",
            "String value: 42\n",
            "Integer value: 42\n",
            "Float value: 42.0\n",
            "Boolean value: True\n"
          ]
        }
      ]
    },
    {
      "cell_type": "markdown",
      "source": [],
      "metadata": {
        "id": "Ax59w3QrLoph"
      }
    },
    {
      "cell_type": "code",
      "source": [
        "# 10. Write code to demonstrate type casting with list elements\n",
        "list_elements = [1, 2, 3, 4, 5]\n",
        "string_list = [float(element) for element in list_elements]\n",
        "print(\"List of integers:\", list_elements)\n",
        "print(\"List of strings:\", string_list)"
      ],
      "metadata": {
        "colab": {
          "base_uri": "https://localhost:8080/"
        },
        "id": "gfWKFtTXj7tt",
        "outputId": "3c1a1da2-39bf-4e99-9591-5179635e7e4c"
      },
      "execution_count": 44,
      "outputs": [
        {
          "output_type": "stream",
          "name": "stdout",
          "text": [
            "List of integers: [1, 2, 3, 4, 5]\n",
            "List of strings: [1.0, 2.0, 3.0, 4.0, 5.0]\n"
          ]
        }
      ]
    },
    {
      "cell_type": "code",
      "source": [
        "#11. Write a program that checks if a number is positive, negative, or zero\n",
        "number = float(input(\"Enter a number: \"))\n",
        "if number > 0:\n",
        "    print(\"The number is positive.\")\n",
        "elif number < 0:\n",
        "    print(\"The number is negative.\")\n",
        "else:\n",
        "    print(\"The number is zero.\")"
      ],
      "metadata": {
        "colab": {
          "base_uri": "https://localhost:8080/"
        },
        "id": "JrJa5di8lPns",
        "outputId": "962e47a4-0ad8-4440-ee91-8867880aa5c9"
      },
      "execution_count": 48,
      "outputs": [
        {
          "output_type": "stream",
          "name": "stdout",
          "text": [
            "Enter a number: 0\n",
            "The number is zero.\n"
          ]
        }
      ]
    },
    {
      "cell_type": "code",
      "source": [
        "#12. write a for loop to print numbers from 1 to 10\n",
        "for num in range(1, 11):\n",
        "    print(num , end=\" \")\n"
      ],
      "metadata": {
        "colab": {
          "base_uri": "https://localhost:8080/"
        },
        "id": "1zfTFSTDljhu",
        "outputId": "d5985be3-ef31-47c0-9011-efcbd563e29d"
      },
      "execution_count": 51,
      "outputs": [
        {
          "output_type": "stream",
          "name": "stdout",
          "text": [
            "1 2 3 4 5 6 7 8 9 10 "
          ]
        }
      ]
    },
    {
      "cell_type": "code",
      "source": [
        "#13. Write a Python program to find the sum of all even numbers between 1 and 50\n",
        "sum_even = 0\n",
        "for num in range(2, 51, 2):\n",
        "    sum_even += num\n",
        "print(\"The sum of even numbers between 1 and 50 is:\", sum_even)"
      ],
      "metadata": {
        "colab": {
          "base_uri": "https://localhost:8080/"
        },
        "id": "tbMp6BWdlxzX",
        "outputId": "2601bc8c-b996-45b7-e7ee-4e4f31df5ac5"
      },
      "execution_count": 52,
      "outputs": [
        {
          "output_type": "stream",
          "name": "stdout",
          "text": [
            "The sum of even numbers between 1 and 50 is: 650\n"
          ]
        }
      ]
    },
    {
      "cell_type": "code",
      "source": [
        "#14. Write a program to reverse a string using a while loop\n",
        "string = input(\"Enter a string: \")\n",
        "rev_str = \"\"\n",
        "index = len(string) - 1\n",
        "while index >= 0:\n",
        "    rev_str = rev_str + string[index]\n",
        "    index =index - 1\n",
        "print(\"Reversed string:\", rev_str)"
      ],
      "metadata": {
        "colab": {
          "base_uri": "https://localhost:8080/"
        },
        "id": "0XwSH3JPmMY5",
        "outputId": "439c8792-26c7-4eed-d208-4b9ebea2c940"
      },
      "execution_count": 54,
      "outputs": [
        {
          "output_type": "stream",
          "name": "stdout",
          "text": [
            "Enter a string: Bhagvat\n",
            "Reversed string: tavgahB\n"
          ]
        }
      ]
    },
    {
      "cell_type": "code",
      "source": [
        "#15. Write a Python program to calculate the factorial of a number provided by the user using a while loop.\n",
        "num = int(input(\"Enter a number: \"))\n",
        "fact = 1\n",
        "current = 1\n",
        "while current <= num:\n",
        "    fact = fact * current\n",
        "    current = current + 1\n",
        "print(f\"The factorial of {num} is {fact}\")\n",
        "\n"
      ],
      "metadata": {
        "colab": {
          "base_uri": "https://localhost:8080/"
        },
        "id": "gU3BsBOVmXGL",
        "outputId": "6930a7a6-1827-47b9-f04a-d8677e0f2424"
      },
      "execution_count": 56,
      "outputs": [
        {
          "output_type": "stream",
          "name": "stdout",
          "text": [
            "Enter a number: 5\n",
            "The factorial of 5 is 120\n"
          ]
        }
      ]
    },
    {
      "cell_type": "code",
      "source": [],
      "metadata": {
        "id": "1z1avYRWnMy0"
      },
      "execution_count": null,
      "outputs": []
    }
  ]
}