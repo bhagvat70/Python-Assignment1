{
  "nbformat": 4,
  "nbformat_minor": 0,
  "metadata": {
    "colab": {
      "provenance": []
    },
    "kernelspec": {
      "name": "python3",
      "display_name": "Python 3"
    },
    "language_info": {
      "name": "python"
    }
  },
  "cells": [
    {
      "cell_type": "markdown",
      "source": [
        "# OOPs Assignment\n"
      ],
      "metadata": {
        "id": "qNAEG-2wMVxw"
      }
    },
    {
      "cell_type": "markdown",
      "source": [
        "1. What is Object-Oriented Programming (OOP)?\n",
        "  - Object-Oriented Programming (OOP) is a programming paradigm based on the concept of objects, which can contain data (attributes or properties) and methods (functions or behaviors). It is designed to model real-world entities and focuses on improving code reusability, modularity, and maintainability.\n",
        "\n",
        "2. What is a class in OOP?\n",
        "  - In Object-Oriented Programming (OOP), a class is a blueprint or template for creating objects. It defines the structure and behavior (properties and methods) that the objects of the class will have.\n",
        "\n",
        "3. What is an object in OOP?\n",
        "  - In Object-Oriented Programming (OOP), an object is an instance of a class. It is a real-world entity created based on the blueprint (class). An object contains the actual values for the properties (data) and can use the methods (functions) defined in the class.\n",
        "4. What is the difference between abstraction and encapsulation?\n",
        "  - Abstraction\n",
        "    - Definition : Hides implementation details and shows only the essential features.\n",
        "    - Focus : Focuses on what a system does (design perspective).\n",
        "    - Purpose : Simplifies complexity by exposing only necessary details.\n",
        "    - Visibility : Achieved using abstract classes or interfaces.\n",
        "    - Example in Real Life : A car dashboard showing only speed, fuel, etc.,\n",
        "    hiding the engine mechanics.\n",
        "  - Encapsulation\n",
        "    - Definition :Wraps data and methods into a single unit (class) and controls access.\n",
        "    - Focus : Focuses on how a system is implemented (implementation perspective).\n",
        "    - Purpose : Protects data and ensures controlled access.\n",
        "    - Visibility : Achieved using access modifiers (private, public, protected).\n",
        "    - Example in Real Life : A car's engine, hidden inside the hood, ensuring safe interaction via controls.\n",
        "\n",
        "5. What are dunder methods in Python ?\n",
        "  - Dunder methods (short for \"double underscore methods\") are special methods surrounded by double underscores (e.g., __init__, __str__). They are also called magic methods or special methods. These methods are used to define the behavior of objects in Python and allow customization of common operations such as initialization, string representation, comparison, and more.\n",
        "\n",
        "6. Explain the concept of inheritance in OOP?\n",
        "  - Inheritance is a key concept in Object-Oriented Programming (OOP) that allows one class (called the child class or subclass) to acquire the properties and methods of another class (called the parent class or superclass). It promotes code reuse and enables the creation of a hierarchy of classes.\n",
        "7. What is polymorphism in OOP?\n",
        "  - Polymorphism is a fundamental concept in Object-Oriented Programming (OOP) that allows the same method or operation to behave differently based on the object it is applied to. It means \"many forms\" and enables writing flexible and reusable code.\n",
        "8. How is encapsulation achieved in Python ?\n",
        "  - Encapsulation in Python is achieved by restricting direct access to an object's data and methods and allowing controlled access through defined interfaces (methods). This is done using access modifiers and getter/setter methods. Python follows a convention for encapsulation rather than strict enforcement.\n",
        "9. What is a constructor in Python?\n",
        "  - A constructor in Python is a special method used to initialize the attributes of a class when an object is created. It is defined using the __init__() method. The constructor is automatically called when an object is instantiated.\n",
        "10. What are class and static methods in Python?\n",
        "- Class Method\n",
        "    - A class method is a method that operates on the class itself rather than\n",
        "      on individual instances. It is used to access or modify the class's state.\n",
        "    - Defined using the @classmethod decorator.\n",
        "    - The first parameter is cls, which represents the class (not the instance).\n",
        "    - Can be used to create factory methods or modify class-level variables.\n",
        "- Static Methods\n",
        "  - A static method is a method that doesn’t operate on the instance or class.\n",
        "    It behaves like a regular function but is logically grouped within the class.\n",
        "  - Defined using the @staticmethod decorator.\n",
        "  - No self or cls parameter.\n",
        "  - Used for utility or helper functions related to the class.\n",
        "11. What is method overloading in Python?\n",
        "  - method overloading refers to the ability to define a method that can perform different tasks depending on the number or type of arguments passed. However, Python does not support traditional method overloading, as seen in languages like Java or C++, where multiple methods can have the same name but different parameters.\n",
        "12. What is method overriding in OOP?\n",
        "  - Method Overriding is a feature in Object-Oriented Programming (OOP) where a subclass provides a specific implementation of a method that is already defined in its parent (or superclass). The overriding method in the subclass has the same name, return type, and parameters as the method in the parent class.\n",
        "13. What is a property decorator in Python?\n",
        "  - The @property decorator in Python is used to define methods in a class that act as getter methods for an attribute. It allows you to access a method as if it were an attribute, making the code more readable and Pythonic.\n",
        "  - The @property decorator is a part of Python's built-in property system, which is useful for encapsulation and data validation while maintaining the simplicity of attribute access.\n",
        "14. Why is polymorphism important in OOP?\n",
        "  - Polymorphism, a fundamental concept in Object-Oriented Programming (OOP), enables objects of different classes to be treated uniformly based on their shared behaviors. It is critical for creating flexible, reusable, and maintainable code.\n",
        "15. What is an abstract class in Python?\n",
        "  - An abstract class in Python is a class that cannot be instantiated directly. It serves as a blueprint for other classes and typically includes one or more abstract methods that must be implemented in any concrete (non-abstract) subclasses.\n",
        "16. What are the advantages of OOP?\n",
        "  - Reusability :\tClasses and objects can be reused, reducing redundancy.\n",
        "  - Modularity : Code is organized into objects, making it easier to manage and debug.\n",
        "  - Encapsulation :\tProtects data from unintended access and interference.\n",
        "  - Polymorphism :\tThe same method or operation works differently for different objects.\n",
        "  - Abstraction :\tHides complexity, exposing only essential features.\n",
        "  - Extensibility :\tEasily add new features without rewriting existing code.\n",
        "  - Real-World Modeling :\tMimics real-world entities for intuitive design.\n",
        "17. What is the difference between a class variable and an instance variable?\n",
        "  - Class Variable :\n",
        "      - Definition : A variable shared among all instances of a class.\n",
        "      - Storage : Stored in the class namespace.\n",
        "      - Accessibility : Accessed using the class name or an instance of the class.\n",
        "      - Behavior : Shared among all instances. If modified, the change affects all instances.\n",
        "      - Declaration : Inside the class but outside any method, typically at the top of the class.\n",
        "  - Instance Variable :\n",
        "      - Definition : A variable unique to each instance of a class\n",
        "      - Storage : Stored in the instance namespace (specific to an object).\n",
        "      - Accessibility : Accessed only through a specific instance of the class.\n",
        "      - Behavior : Unique to the instance. Changes affect only that instance.\n",
        "      - Declaration : Inside methods (usually __init__()), prefixed with self.\n",
        "18. What is multiple inheritance in Python?\n",
        "  - Multiple inheritance in Python is a feature that allows a class to inherit attributes and methods from more than one parent class. This enables a child class to combine and utilize functionality from multiple sources.\n",
        "19. Explain the purpose of ‘__str__’ and ‘__repr__’  methods in Python?\n",
        "  -  __str__ Method :\n",
        "      - Purpose: The __str__ method provides a user-friendly string representation of an object, primarily meant for end-users. It is invoked when you use:\n",
        "      - The print() function.\n",
        "      - The str() function.\n",
        "  - __repr__ Method :\n",
        "      - Purpose: The __repr__ method provides a developer-friendly representation of an object. It is meant for debugging and is typically used to recreate the object in code. It is invoked when:\n",
        "      - You use the repr() function.\n",
        "      - The object is inspected in an interactive shell.\n",
        "20. What is the significance of the ‘super()’ function in Python?\n",
        "  - The super() function is used to call methods or access attributes from a parent class in a subclass. It provides a way to refer to the superclass without explicitly naming it, which makes the code more maintainable and flexible, especially in complex inheritance scenarios.\n",
        "21. What is the significance of the __del__ method in Python?\n",
        "  - The __del__ method in Python is a special method (also called a dunder method) that is used to define the destructor for a class. It is invoked when an object is about to be destroyed or garbage collected, allowing you to perform any cleanup operations such as closing files, releasing resources, or other necessary tasks before the object is removed from memory.\n",
        "22. What is the difference between @staticmethod and @classmethod in Python?\n",
        "  - @classmethod :\n",
        "      - Definition: A class method takes the class (cls) as its first argument, which allows it to operate on class-level data or modify the class itself.\n",
        "  - @staticmethod :\n",
        "      - Definition: A static method does not take any reference to the instance (self) or class (cls). It is a utility function that belongs to the class but does not operate on the class or instance directly.\n",
        "23. How does polymorphism work in Python with inheritance ?\n",
        "  - Polymorphism is a core concept in Object-Oriented Programming (OOP) that allows objects of different classes to be treated as objects of a common superclass. In Python, polymorphism is achieved mainly through method overriding, where a subclass provides a specific implementation of a method that is already defined in the parent class.\n",
        "  - Polymorphism enables different behaviors for the same method depending on the object that calls it, even when the method name is the same.\n",
        "24. What is method chaining in Python OOP?\n",
        "  - Method chaining is a technique in Object-Oriented Programming (OOP) where multiple methods are called on the same object in a single line, one after the other. Each method returns the object itself (or another object that allows further method calls), allowing you to chain multiple method calls together in a fluid and concise manner.\n",
        "  - This is commonly used in Python when you want to apply several actions to the same object, such as modifying attributes, processing data, or configuring an object in a sequence.\n",
        "25. What is the purpose of the __call__ method in Python?\n",
        "  - In Python, the __call__ method is a special or dunder method that allows an instance of a class to be called as if it were a function. By defining the __call__ method in a class, you can make instances of that class callable, enabling the behavior of the object to be invoked directly like a function.\n",
        "    - When you call an instance of a class, Python internally calls the __call__ method, passing any arguments to it."
      ],
      "metadata": {
        "id": "4i2SUUMoMfnR"
      }
    },
    {
      "cell_type": "code",
      "source": [
        "#1.  Create a parent class Animal with a method speak() that prints a generic message. Create a child class Dog that overrides the speak() method to print \"Bark!\".\n",
        "class Animal:\n",
        "    def speak(self):\n",
        "        print(\"This animal makes a sound.\")\n",
        "\n",
        "class Dog(Animal):\n",
        "    def speak(self):\n",
        "        print(\"Bark!\")\n",
        "\n",
        "a = Animal()\n",
        "d = Dog()\n",
        "\n",
        "a.speak()\n",
        "d.speak()\n"
      ],
      "metadata": {
        "colab": {
          "base_uri": "https://localhost:8080/"
        },
        "id": "flYn7piYPDQT",
        "outputId": "724295cb-bc0d-45da-88b3-7766c4eb1ac7"
      },
      "execution_count": 2,
      "outputs": [
        {
          "output_type": "stream",
          "name": "stdout",
          "text": [
            "This animal makes a sound.\n",
            "Bark!\n"
          ]
        }
      ]
    },
    {
      "cell_type": "code",
      "source": [
        "#2. Write a program to create an abstract class Shape with a method area(). Derive classes Circle and Rectangle from it and implement the area() method in both.\n",
        "\n",
        "from abc import ABC, abstractmethod\n",
        "class Shape(ABC):\n",
        "    @abstractmethod\n",
        "    def area(self):\n",
        "        pass\n",
        "\n",
        "class Circle(Shape):\n",
        "    def __init__(self, r):\n",
        "        self.r = r\n",
        "\n",
        "    def area(self):\n",
        "        return 3.14 * self.r * self.r\n",
        "\n",
        "class Rectangle(Shape):\n",
        "    def __init__(self, l, w):\n",
        "        self.l = l\n",
        "        self.w = w\n",
        "\n",
        "    def area(self):\n",
        "        return self.l * self.w\n",
        "\n",
        "# Create objects\n",
        "c = Circle(5)\n",
        "r = Rectangle(4, 6)\n",
        "\n",
        "\n",
        "print(\"Circle Area:\", c.area())\n",
        "print(\"Rectangle Area:\", r.area())\n"
      ],
      "metadata": {
        "colab": {
          "base_uri": "https://localhost:8080/"
        },
        "id": "lJUgHWfXP2zJ",
        "outputId": "cf7a0724-b1a8-4d09-a9db-f95cea3171cc"
      },
      "execution_count": 3,
      "outputs": [
        {
          "output_type": "stream",
          "name": "stdout",
          "text": [
            "Circle Area: 78.5\n",
            "Rectangle Area: 24\n"
          ]
        }
      ]
    },
    {
      "cell_type": "code",
      "source": [
        "#3.  Implement a multi-level inheritance scenario where a class Vehicle has an attribute type. Derive a class Car and further derive a class ElectricCar that adds a battery attribute.\n",
        "class Vehicle:\n",
        "    def __init__(self, type):\n",
        "        self.type = type\n",
        "\n",
        "class Car(Vehicle):\n",
        "    def __init__(self, type, brand):\n",
        "        super().__init__(type)\n",
        "        self.brand = brand\n",
        "class ElectricCar(Car):\n",
        "    def __init__(self, type, brand, battery):\n",
        "        super().__init__(type, brand)\n",
        "        self.battery = battery\n",
        "\n",
        "    def display(self):\n",
        "        print(f\"Type: {self.type}, Brand: {self.brand}, Battery: {self.battery} kWh\")\n",
        "\n",
        "e_car = ElectricCar(\"Electric\", \"Tesla\", 75)\n",
        "\n",
        "e_car.display()\n"
      ],
      "metadata": {
        "colab": {
          "base_uri": "https://localhost:8080/"
        },
        "id": "UWBvxFBAQnD-",
        "outputId": "643f8800-9597-4584-de73-22a12c4527ae"
      },
      "execution_count": 4,
      "outputs": [
        {
          "output_type": "stream",
          "name": "stdout",
          "text": [
            "Type: Electric, Brand: Tesla, Battery: 75 kWh\n"
          ]
        }
      ]
    },
    {
      "cell_type": "code",
      "source": [
        "#4. Implement a multi-level inheritance scenario where a class Vehicle has an attribute type. Derive a class Car and further derive a class ElectricCar that adds a battery attribute.\n",
        "class Vehicle:\n",
        "    def __init__(self, type):\n",
        "        self.type = type\n",
        "class Car(Vehicle):\n",
        "    def __init__(self, type, brand):\n",
        "        super().__init__(type)\n",
        "        self.brand = brand\n",
        "class ElectricCar(Car):\n",
        "    def __init__(self, type, brand, battery):\n",
        "        super().__init__(type, brand)\n",
        "        self.battery = battery\n",
        "\n",
        "    def display(self):\n",
        "        print(f\"Type: {self.type}, Brand: {self.brand}, Battery: {self.battery} kWh\")\n",
        "\n",
        "e_car = ElectricCar(\"Electric\", \"Tesla\", 75)\n",
        "e_car.display()\n",
        "\n",
        "\n",
        "\n",
        "\n",
        "\n",
        "\n"
      ],
      "metadata": {
        "colab": {
          "base_uri": "https://localhost:8080/"
        },
        "id": "mC2YuqUpRNj0",
        "outputId": "53e527b2-d9e9-4b26-e958-41a72f35711f"
      },
      "execution_count": 5,
      "outputs": [
        {
          "output_type": "stream",
          "name": "stdout",
          "text": [
            "Type: Electric, Brand: Tesla, Battery: 75 kWh\n"
          ]
        }
      ]
    },
    {
      "cell_type": "code",
      "source": [
        "#5.  Write a program to demonstrate encapsulation by creating a class BankAccount with private attributes balance and methods to deposit, withdraw, and check balance.\n",
        "class BankAccount:\n",
        "    def __init__(self, initial_balance):\n",
        "        self.__balance = initial_balance\n",
        "\n",
        "    def deposit(self, amount):\n",
        "        if amount > 0:\n",
        "            self.__balance += amount\n",
        "            print(f\"Deposited: {amount}\")\n",
        "        else:\n",
        "            print(\"Invalid deposit amount.\")\n",
        "\n",
        "    def withdraw(self, amount):\n",
        "        if 0 < amount <= self.__balance:\n",
        "            self.__balance -= amount\n",
        "            print(f\"Withdrawn: {amount}\")\n",
        "        else:\n",
        "            print(\"Insufficient balance or invalid amount.\")\n",
        "\n",
        "    def check_balance(self):\n",
        "        print(f\"Current Balance: {self.__balance}\")\n",
        "account = BankAccount(1000)\n",
        "account.deposit(500)\n",
        "account.withdraw(300)\n",
        "account.check_balance()"
      ],
      "metadata": {
        "colab": {
          "base_uri": "https://localhost:8080/"
        },
        "id": "Ufw5VBUuR2SE",
        "outputId": "0f946d1d-6572-4f36-cef3-139d263cdada"
      },
      "execution_count": 6,
      "outputs": [
        {
          "output_type": "stream",
          "name": "stdout",
          "text": [
            "Deposited: 500\n",
            "Withdrawn: 300\n",
            "Current Balance: 1200\n"
          ]
        }
      ]
    },
    {
      "cell_type": "code",
      "source": [
        "# 6.Demonstrate runtime polymorphism using a method play() in a base class Instrument. Derive classes Guitar and Piano that implement their own version of play().\n",
        "class Instrument:\n",
        "    def play(self):\n",
        "        print(\"Playing an instrument.\")\n",
        "class Guitar(Instrument):\n",
        "    def play(self):\n",
        "        print(\"Playing the Guitar: Strum Strum!\")\n",
        "class Piano(Instrument):\n",
        "    def play(self):\n",
        "        print(\"Playing the Piano: Plink Plonk!\")\n",
        "def play_instrument(instrument):\n",
        "    instrument.play()\n",
        "g = Guitar()\n",
        "p = Piano()\n",
        "play_instrument(g)\n",
        "play_instrument(p)"
      ],
      "metadata": {
        "colab": {
          "base_uri": "https://localhost:8080/"
        },
        "id": "UTUGXYPGSX6z",
        "outputId": "2ee0f6b2-18b0-4630-f490-b65d734947e0"
      },
      "execution_count": 7,
      "outputs": [
        {
          "output_type": "stream",
          "name": "stdout",
          "text": [
            "Playing the Guitar: Strum Strum!\n",
            "Playing the Piano: Plink Plonk!\n"
          ]
        }
      ]
    },
    {
      "cell_type": "code",
      "source": [
        "#7. Create a class MathOperations with a class method add_numbers() to add two numbers and a static method subtract_numbers() to subtract two numbers.\n",
        "class MathOperations:\n",
        "    @classmethod\n",
        "    def add_numbers(cls, num1, num2):\n",
        "        return num1 + num2\n",
        "\n",
        "    @staticmethod\n",
        "    def subtract_numbers(num1, num2):\n",
        "        return num1 - num2\n",
        "\n",
        "result1 = MathOperations.add_numbers(5, 3)\n",
        "result2 = MathOperations.subtract_numbers(10, 4)\n",
        "print(result1)\n",
        "print(result2)"
      ],
      "metadata": {
        "colab": {
          "base_uri": "https://localhost:8080/"
        },
        "id": "d2vXlr6RS9BY",
        "outputId": "2700ef94-80b0-4b85-ffad-4c159af7f914"
      },
      "execution_count": 8,
      "outputs": [
        {
          "output_type": "stream",
          "name": "stdout",
          "text": [
            "8\n",
            "6\n"
          ]
        }
      ]
    },
    {
      "cell_type": "code",
      "source": [
        "#8.  Implement a class Person with a class method to count the total number of persons created.\n",
        "class Person:\n",
        "    count = 0\n",
        "\n",
        "    def __init__(self, name):\n",
        "        self.name = name\n",
        "        Person.count += 1\n",
        "\n",
        "    @classmethod\n",
        "    def get_count(cls):\n",
        "        return cls.count\n",
        "\n",
        "person1 = Person(\"Alice\")\n",
        "person2 = Person(\"Bob\")\n",
        "person3 = Person(\"Charlie\")\n",
        "print(Person.get_count())"
      ],
      "metadata": {
        "colab": {
          "base_uri": "https://localhost:8080/"
        },
        "id": "4VB4ID6NTfag",
        "outputId": "4d4aace7-bd6c-419b-cb00-22e3845090e6"
      },
      "execution_count": 9,
      "outputs": [
        {
          "output_type": "stream",
          "name": "stdout",
          "text": [
            "3\n"
          ]
        }
      ]
    },
    {
      "cell_type": "code",
      "source": [
        "#9. Write a class Fraction with attributes numerator and denominator. Override the str method to display the fraction as \"numerator/denominator\".\n",
        "class Fraction:\n",
        "    def __init__(self, numerator, denominator):\n",
        "        self.numerator = numerator\n",
        "        self.denominator = denominator\n",
        "\n",
        "    def __str__(self):\n",
        "        return f\"{self.numerator}/{self.denominator}\"\n",
        "\n",
        "f1 = Fraction(3, 4)\n",
        "f2 = Fraction(5, 8)\n",
        "print(f1)\n",
        "print(f2)"
      ],
      "metadata": {
        "colab": {
          "base_uri": "https://localhost:8080/"
        },
        "id": "EkvaWKJVXEew",
        "outputId": "9b66cca6-bdf6-4f6c-82da-0b7b0ed490ad"
      },
      "execution_count": 12,
      "outputs": [
        {
          "output_type": "stream",
          "name": "stdout",
          "text": [
            "3/4\n",
            "5/8\n"
          ]
        }
      ]
    },
    {
      "cell_type": "code",
      "source": [
        "#10.  Demonstrate operator overloading by creating a class Vector and overriding the add method to add two vectors.\n",
        "class Vector:\n",
        "    def __init__(self, x, y):\n",
        "        self.x = x\n",
        "        self.y = y\n",
        "\n",
        "    def __add__(self, other):\n",
        "        return Vector(self.x + other.x, self.y + other.y)\n",
        "\n",
        "    def __str__(self):\n",
        "        return f\"({self.x}, {self.y})\"\n",
        "v1 = Vector(2, 3)\n",
        "v2 = Vector(4, 5)\n",
        "v3 = v1 + v2\n",
        "\n",
        "print(\"Vector 1:\", v1)\n",
        "print(\"Vector 2:\", v2)\n",
        "print(\"Sum:\", v3)\n"
      ],
      "metadata": {
        "colab": {
          "base_uri": "https://localhost:8080/"
        },
        "id": "TEyykAr4XY_5",
        "outputId": "0bf5abc8-9daa-4fcc-c072-6925ba2488b3"
      },
      "execution_count": 13,
      "outputs": [
        {
          "output_type": "stream",
          "name": "stdout",
          "text": [
            "Vector 1: (2, 3)\n",
            "Vector 2: (4, 5)\n",
            "Sum: (6, 8)\n"
          ]
        }
      ]
    },
    {
      "cell_type": "code",
      "source": [
        "#11. Create a class Person with attributes name and age. Add a method greet() that prints \"Hello, my name is {name} and I am {age} years old.\"\n",
        "class Person:\n",
        "    def __init__(self, name, age):\n",
        "        self.name = name\n",
        "        self.age = age\n",
        "\n",
        "    def greet(self):\n",
        "        print(f\"Hello, my name is {self.name} and I am {self.age} years old.\")\n",
        "person1 = Person(\"Alice\", 25)\n",
        "person1.greet()\n"
      ],
      "metadata": {
        "colab": {
          "base_uri": "https://localhost:8080/"
        },
        "id": "xnD5l0d_Xp_M",
        "outputId": "74da4394-30a3-4c9b-9604-cd57d05beaaf"
      },
      "execution_count": 14,
      "outputs": [
        {
          "output_type": "stream",
          "name": "stdout",
          "text": [
            "Hello, my name is Alice and I am 25 years old.\n"
          ]
        }
      ]
    },
    {
      "cell_type": "code",
      "source": [
        "#12.  Implement a class Student with attributes name and grades. Create a method average_grade() to compute the average of the grades.\n",
        "class Student:\n",
        "    def __init__(self, name, grades):\n",
        "        self.name = name\n",
        "        self.grades = grades\n",
        "\n",
        "    def average_grade(self):\n",
        "        return sum(self.grades) / len(self.grades)\n",
        "student1 = Student(\"John\", [85, 90, 78, 92, 88])\n",
        "print(f\"Average grade for {student1.name}: {student1.average_grade():.2f}\")\n"
      ],
      "metadata": {
        "colab": {
          "base_uri": "https://localhost:8080/"
        },
        "id": "-HP2LesUX-Tp",
        "outputId": "393edf4c-5e19-449e-98b1-73461030886f"
      },
      "execution_count": 15,
      "outputs": [
        {
          "output_type": "stream",
          "name": "stdout",
          "text": [
            "Average grade for John: 86.60\n"
          ]
        }
      ]
    },
    {
      "cell_type": "code",
      "source": [
        "#13.  Create a class Rectangle with methods set_dimensions() to set the dimensions and area() to calculate the area.\n",
        "class Rectangle:\n",
        "    def __init__(self):\n",
        "        self.length = 0\n",
        "        self.width = 0\n",
        "\n",
        "    def set_dimensions(self, length, width):\n",
        "        self.length = length\n",
        "        self.width = width\n",
        "\n",
        "    def area(self):\n",
        "        return self.length * self.width\n",
        "rect = Rectangle()\n",
        "rect.set_dimensions(5, 3)\n",
        "print(f\"Area of the rectangle: {rect.area()}\")\n"
      ],
      "metadata": {
        "colab": {
          "base_uri": "https://localhost:8080/"
        },
        "id": "jXzs8AbnYK-O",
        "outputId": "ad33e0e6-e789-46f4-d8f8-6c42f8f4d949"
      },
      "execution_count": 17,
      "outputs": [
        {
          "output_type": "stream",
          "name": "stdout",
          "text": [
            "Area of the rectangle: 15\n"
          ]
        }
      ]
    },
    {
      "cell_type": "code",
      "source": [
        "#14. Create a class Employee with a method calculate_salary() that computes the salary based on hours worked and hourly rate. Create a derived class Manager that adds a bonus to the salary.\n",
        "class Employee:\n",
        "    def __init__(self, name, hours_worked, hourly_rate):\n",
        "        self.name = name\n",
        "        self.hours_worked = hours_worked\n",
        "        self.hourly_rate = hourly_rate\n",
        "\n",
        "    def calculate_salary(self):\n",
        "        return self.hours_worked * self.hourly_rate\n",
        "class Manager(Employee):\n",
        "    def __init__(self, name, hours_worked, hourly_rate, bonus):\n",
        "        super().__init__(name, hours_worked, hourly_rate)\n",
        "        self.bonus = bonus\n",
        "\n",
        "    def calculate_salary(self):\n",
        "        return super().calculate_salary() + self.bonus\n",
        "employee = Employee(\"Alice\", 40, 20)\n",
        "manager = Manager(\"Bob\", 40, 25, 500)\n",
        "print(f\"Employee salary: {employee.calculate_salary()}\")\n",
        "print(f\"Manager salary: {manager.calculate_salary()}\")\n"
      ],
      "metadata": {
        "colab": {
          "base_uri": "https://localhost:8080/"
        },
        "id": "NCuFWnLxYT-f",
        "outputId": "496d129b-e310-450b-d280-0a67224f6cbf"
      },
      "execution_count": 18,
      "outputs": [
        {
          "output_type": "stream",
          "name": "stdout",
          "text": [
            "Employee salary: 800\n",
            "Manager salary: 1500\n"
          ]
        }
      ]
    },
    {
      "cell_type": "code",
      "source": [
        "#15.  Create a class Product with attributes name, price, and quantity. Implement a method total_price() that calculates the total price of the product.\n",
        "class Product:\n",
        "    def __init__(self, name, price, quantity):\n",
        "        self.name = name\n",
        "        self.price = price\n",
        "        self.quantity = quantity\n",
        "\n",
        "    def total_price(self):\n",
        "        return self.price * self.quantity\n",
        "product = Product(\"Laptop\", 1000, 2)\n",
        "print(f\"Total price of {product.quantity} {product.name}(s): {product.total_price()}\")"
      ],
      "metadata": {
        "colab": {
          "base_uri": "https://localhost:8080/"
        },
        "id": "nCbOSPYxY5bD",
        "outputId": "d24b2af5-9c80-4212-e702-5688cdfa410d"
      },
      "execution_count": 20,
      "outputs": [
        {
          "output_type": "stream",
          "name": "stdout",
          "text": [
            "Total price of 2 Laptop(s): 2000\n"
          ]
        }
      ]
    },
    {
      "cell_type": "code",
      "source": [
        "#16. Create a class Animal with an abstract method sound(). Create two derived classes Cow and Sheep that implement the sound() method.\n",
        "from abc import ABC, abstractmethod\n",
        "class Animal(ABC):\n",
        "    @abstractmethod\n",
        "    def sound(self):\n",
        "        pass\n",
        "class Cow(Animal):\n",
        "    def sound(self):\n",
        "        print(\"Moo!\")\n",
        "class Sheep(Animal):\n",
        "    def sound(self):\n",
        "        print(\"Baa!\")\n",
        "cow = Cow()\n",
        "sheep = Sheep()\n",
        "cow.sound()\n",
        "sheep.sound()"
      ],
      "metadata": {
        "colab": {
          "base_uri": "https://localhost:8080/"
        },
        "id": "C-sOuTtmY84X",
        "outputId": "21bb04aa-9f68-4e36-ddef-7f93841d1a7d"
      },
      "execution_count": 21,
      "outputs": [
        {
          "output_type": "stream",
          "name": "stdout",
          "text": [
            "Moo!\n",
            "Baa!\n"
          ]
        }
      ]
    },
    {
      "cell_type": "code",
      "source": [
        "#17. Create a class Book with attributes title, author, and year_published. Add a method get_book_info() that returns a formatted string with the book's details.\n",
        "class Book:\n",
        "    def __init__(self, title, author, year_published):\n",
        "        self.title = title\n",
        "        self.author = author\n",
        "        self.year_published = year_published\n",
        "\n",
        "    def get_book_info(self):\n",
        "        return f\"Title: {self.title}\\nAuthor: {self.author}\\nYear Published: {self.year_published}\"\n",
        "book1 = Book(\"To Kill a Mockingbird\", \"Harper Lee\", 1960)\n",
        "print(book1.get_book_info())\n"
      ],
      "metadata": {
        "colab": {
          "base_uri": "https://localhost:8080/"
        },
        "id": "CAhv8OyeZVhQ",
        "outputId": "b01ab12d-1f04-448b-ba44-7d07d2ce65b6"
      },
      "execution_count": 25,
      "outputs": [
        {
          "output_type": "stream",
          "name": "stdout",
          "text": [
            "Title: To Kill a Mockingbird\n",
            "Author: Harper Lee\n",
            "Year Published: 1960\n"
          ]
        }
      ]
    },
    {
      "cell_type": "code",
      "source": [
        "#18. Create a class House with attributes address and price. Create a derived class Mansion that adds an attribute number_of_rooms.\n",
        "class House:\n",
        "    def __init__(self, address, price):\n",
        "        self.address = address\n",
        "        self.price = price\n",
        "        self.number_of_rooms = None\n",
        "class Mansion(House):\n",
        "    def __init__(self, address, price, number_of_rooms):\n",
        "        super().__init__(address, price)\n",
        "        self.number_of_rooms = number_of_rooms\n",
        "\n",
        "house = House(\"123 Main St\", 250000)\n",
        "mansion = Mansion(\"456 Luxury Ave\", 5000000, 12)\n",
        "print(f\"House Address: {house.address}, Price: ${house.price}\")\n",
        "print(f\"Mansion Address: {mansion.address}, Price: ${mansion.price}, Rooms: {mansion.number_of_rooms}\")"
      ],
      "metadata": {
        "colab": {
          "base_uri": "https://localhost:8080/"
        },
        "id": "KFD5-ytqZ2Ma",
        "outputId": "2957f064-9639-4d5b-c6d5-8b86e5d1f939"
      },
      "execution_count": 26,
      "outputs": [
        {
          "output_type": "stream",
          "name": "stdout",
          "text": [
            "House Address: 123 Main St, Price: $250000\n",
            "Mansion Address: 456 Luxury Ave, Price: $5000000, Rooms: 12\n"
          ]
        }
      ]
    }
  ]
}